{
 "cells": [
  {
   "cell_type": "markdown",
   "metadata": {
    "heading_collapsed": true
   },
   "source": [
    "# MM2 Data Analysis - True EP Incidence + Characteristics"
   ]
  },
  {
   "cell_type": "markdown",
   "metadata": {
    "heading_collapsed": true,
    "hidden": true
   },
   "source": [
    "## Data Collection Form"
   ]
  },
  {
   "cell_type": "markdown",
   "metadata": {
    "hidden": true
   },
   "source": [
    "<img src=\"assets/EP1.png\"/>"
   ]
  },
  {
   "cell_type": "markdown",
   "metadata": {
    "hidden": true
   },
   "source": [
    "<img src=\"assets/EP2.png\"/>"
   ]
  },
  {
   "cell_type": "markdown",
   "metadata": {
    "hidden": true
   },
   "source": [
    "<img src=\"assets/TypesEmergencyMOD.png\"/>"
   ]
  },
  {
   "cell_type": "markdown",
   "metadata": {
    "heading_collapsed": true,
    "hidden": true
   },
   "source": [
    "## Imports"
   ]
  },
  {
   "cell_type": "code",
   "execution_count": 1,
   "metadata": {
    "hidden": true
   },
   "outputs": [],
   "source": [
    "import math\n",
    "import numpy as np\n",
    "import pandas as pd\n",
    "\n",
    "from lifelines import KaplanMeierFitter\n",
    "from lifelines import CoxPHFitter\n",
    "from lifelines.statistics import logrank_test\n",
    "\n",
    "from datetime import datetime, timedelta\n",
    "import re\n",
    "\n",
    "import matplotlib.pyplot as plt\n",
    "import seaborn as sns"
   ]
  },
  {
   "cell_type": "code",
   "execution_count": 2,
   "metadata": {
    "hidden": true
   },
   "outputs": [],
   "source": [
    "pd.set_option('display.max_columns', 50)\n",
    "pd.set_option('display.max_rows', 100)\n",
    "\n",
    "%matplotlib inline\n",
    "plt.rcParams['figure.figsize'] = [10, 5]\n",
    "plt.rc('xtick', labelsize=10) \n",
    "plt.rc('ytick', labelsize=10)"
   ]
  },
  {
   "cell_type": "markdown",
   "metadata": {
    "heading_collapsed": true,
    "hidden": true
   },
   "source": [
    "## Parameters"
   ]
  },
  {
   "cell_type": "code",
   "execution_count": null,
   "metadata": {
    "hidden": true
   },
   "outputs": [],
   "source": []
  },
  {
   "cell_type": "markdown",
   "metadata": {
    "heading_collapsed": true,
    "hidden": true
   },
   "source": [
    "## Input"
   ]
  },
  {
   "cell_type": "code",
   "execution_count": 3,
   "metadata": {
    "hidden": true
   },
   "outputs": [],
   "source": [
    "crc_df = pd.read_csv('Data/mm2_crc_merged.csv', engine='python')\n",
    "crc_df['StudyID'] = crc_df['ï»¿StudyID']\n",
    "crc_df = crc_df.drop('ï»¿StudyID', axis=1)"
   ]
  },
  {
   "cell_type": "code",
   "execution_count": 4,
   "metadata": {
    "hidden": true
   },
   "outputs": [],
   "source": [
    "lca_df = pd.read_csv('Data/mm2_lca_merged.csv', engine='python')\n",
    "lca_df['StudyID'] = lca_df['ï»¿StudyID']\n",
    "lca_df = lca_df.drop('ï»¿StudyID', axis=1)"
   ]
  },
  {
   "cell_type": "markdown",
   "metadata": {
    "heading_collapsed": true,
    "hidden": true
   },
   "source": [
    "## Processing"
   ]
  },
  {
   "cell_type": "markdown",
   "metadata": {
    "heading_collapsed": true,
    "hidden": true
   },
   "source": [
    "### Functions"
   ]
  },
  {
   "cell_type": "code",
   "execution_count": 5,
   "metadata": {
    "hidden": true
   },
   "outputs": [],
   "source": [
    "# true EPs are ones where reviewer says it is unplanned, is really first time cancer dx, and there is a cancer signal\n",
    "def is_true_EP (row):\n",
    "    if (row['UnplanVal'] == 'Yes' and row['DxVal'] == 'Yes' and not pd.isnull(row['RelSig'])):\n",
    "        return 1\n",
    "    else:\n",
    "        return 0"
   ]
  },
  {
   "cell_type": "code",
   "execution_count": 6,
   "metadata": {
    "hidden": true,
    "scrolled": true
   },
   "outputs": [],
   "source": [
    "# true EPs are ones where reviewer says it is unplanned, is really first time cancer dx, and there is a cancer signal\n",
    "def is_true_EP (row):\n",
    "    if (row['UnplanVal'] == 'Yes' and row['DxVal'] == 'Yes' and not pd.isnull(row['RelSig'])):\n",
    "        return 1\n",
    "    else:\n",
    "        return 0"
   ]
  },
  {
   "cell_type": "code",
   "execution_count": 7,
   "metadata": {
    "hidden": true
   },
   "outputs": [],
   "source": [
    "def response_num_to_text (row):\n",
    "    if (row['RelRespNumerical'] == 1):\n",
    "        return 'No signal requiring f/u'\n",
    "    elif (row['RelRespNumerical'] == 2):\n",
    "        return 'Signal not recognized'\n",
    "    elif (row['RelRespNumerical'] == 3):\n",
    "        return 'Signal recognized, f/u not initiated'\n",
    "    elif (row['RelRespNumerical'] == 4):\n",
    "        return 'Signal recognized, OP f/u'\n",
    "    elif (row['RelRespNumerical'] == 5):\n",
    "        return 'Signal recognized, IP f/u'\n",
    "    elif (row['RelRespNumerical'] == 6):\n",
    "        return 'Other'\n",
    "    #else:\n",
    "        #return 'ERROR'"
   ]
  },
  {
   "cell_type": "code",
   "execution_count": 8,
   "metadata": {
    "hidden": true
   },
   "outputs": [],
   "source": [
    "def typeep_num_to_text (row):\n",
    "    if (row['TypeOfEP'] == 1):\n",
    "        return 'Dx within emergency event'\n",
    "    elif (row['TypeOfEP'] == 2):\n",
    "        return 'Cancer-related emergency → Related subsequent encounter'\n",
    "    elif (row['TypeOfEP'] == 3):\n",
    "        return 'Non-cancer-related emergency → Related subsequent encounter'\n",
    "    elif (row['TypeOfEP'] == 4):\n",
    "        return 'Non-cancer-related emergency → Unrelated subsequent encounter'\n",
    "    elif (row['TypeOfEP'] == 5):\n",
    "        return 'Other'\n",
    "    #else:\n",
    "        #return 'ERROR'"
   ]
  },
  {
   "cell_type": "code",
   "execution_count": 9,
   "metadata": {
    "hidden": true
   },
   "outputs": [],
   "source": [
    "def parse_datetime1 (row, col):\n",
    "    try:\n",
    "        return datetime.strptime(row[col], '%m/%d/%Y')\n",
    "    except:\n",
    "        return None"
   ]
  },
  {
   "cell_type": "code",
   "execution_count": 10,
   "metadata": {
    "hidden": true
   },
   "outputs": [],
   "source": [
    "def parse_datetime2 (row, col):\n",
    "    try:\n",
    "        return datetime.strptime(str(row[col]), '%Y-%m-%d')\n",
    "    except:\n",
    "        return None"
   ]
  },
  {
   "cell_type": "code",
   "execution_count": 11,
   "metadata": {
    "hidden": true
   },
   "outputs": [],
   "source": [
    "def is_timedelta_within_threshold (row, col_later, col_earlier, threshold):\n",
    "    try:\n",
    "        delta = (row[col_later] - row[col_earlier]).days\n",
    "        if delta <= threshold:\n",
    "            return 1\n",
    "        else:\n",
    "            return 0\n",
    "    except:\n",
    "        return -1"
   ]
  },
  {
   "cell_type": "code",
   "execution_count": 12,
   "metadata": {
    "hidden": true
   },
   "outputs": [],
   "source": [
    "def parse_yesno_1 (row, col):\n",
    "    if (row[col] == 'Yes'):\n",
    "        return 1\n",
    "    else:\n",
    "        return 0"
   ]
  },
  {
   "cell_type": "code",
   "execution_count": 13,
   "metadata": {
    "hidden": true
   },
   "outputs": [],
   "source": [
    "def parse_01_1 (row, col):\n",
    "    if (row[col] == 1):\n",
    "        return 1\n",
    "    else:\n",
    "        return 0"
   ]
  },
  {
   "cell_type": "code",
   "execution_count": 14,
   "metadata": {
    "hidden": true
   },
   "outputs": [],
   "source": [
    "def check_not_null (row, col):\n",
    "    if not pd.isnull(row[col]):\n",
    "        return 1\n",
    "    else:\n",
    "        return 0"
   ]
  },
  {
   "cell_type": "code",
   "execution_count": 15,
   "metadata": {
    "hidden": true
   },
   "outputs": [],
   "source": [
    "# make columns for each individual signal for CRC\n",
    "def get_crc_sig_01 (row):\n",
    "    if ';' in str(row['RelSig']):\n",
    "        for x in str(row['RelSig']).split(';'):\n",
    "            if ('1' in str(x) and not '10' in str(x) and not '11' in str(x) and not '12' in str(x) and not '13' in str(x) and not '14' in str(x)):\n",
    "                return 1\n",
    "        return 0\n",
    "    else:\n",
    "        if ('1' in str(row['RelSig']) and not '10' in str(row['RelSig']) and not '11' in str(row['RelSig']) and not '12' in str(row['RelSig']) and not '13' in str(row['RelSig']) and not '14' in str(row['RelSig'])):\n",
    "            return 1\n",
    "        else:\n",
    "            return 0\n",
    "    \n",
    "def get_crc_sig_02 (row):\n",
    "    if ';' in str(row['RelSig']):\n",
    "        for x in str(row['RelSig']).split(';'):\n",
    "            if ('2' in str(x) and not '12' in str(x)):\n",
    "                return 1\n",
    "        return 0\n",
    "    else:\n",
    "        if ('2' in str(row['RelSig']) and not '12' in str(row['RelSig'])):\n",
    "            return 1\n",
    "        else:\n",
    "            return 0\n",
    "    \n",
    "def get_crc_sig_03 (row):\n",
    "    if ';' in str(row['RelSig']):\n",
    "        for x in str(row['RelSig']).split(';'):\n",
    "            if ('3' in str(x) and not '13' in str(x)):\n",
    "                return 1\n",
    "        return 0\n",
    "    else:\n",
    "        if ('3' in str(row['RelSig']) and not '13' in str(row['RelSig'])):\n",
    "            return 1\n",
    "        else:\n",
    "            return 0\n",
    "    \n",
    "def get_crc_sig_04 (row):\n",
    "    if ';' in str(row['RelSig']):\n",
    "        for x in str(row['RelSig']).split(';'):\n",
    "            if ('4' in str(x) and not '14' in str(x)):\n",
    "                return 1\n",
    "        return 0\n",
    "    else:\n",
    "        if ('4' in str(row['RelSig']) and not '14' in str(row['RelSig'])):\n",
    "            return 1\n",
    "        else:\n",
    "            return 0\n",
    "    \n",
    "def get_crc_sig_05 (row):\n",
    "    if ('5' in str(row['RelSig'])):\n",
    "        return 1\n",
    "    else:\n",
    "        return 0\n",
    "    \n",
    "def get_crc_sig_06 (row):\n",
    "    if ('6' in str(row['RelSig'])):\n",
    "        return 1\n",
    "    else:\n",
    "        return 0\n",
    "    \n",
    "def get_crc_sig_07 (row):\n",
    "    if ('7' in str(row['RelSig'])):\n",
    "        return 1\n",
    "    else:\n",
    "        return 0\n",
    "    \n",
    "def get_crc_sig_08 (row):\n",
    "    if ('8' in str(row['RelSig'])):\n",
    "        return 1\n",
    "    else:\n",
    "        return 0\n",
    "    \n",
    "def get_crc_sig_09 (row):\n",
    "    if ('9' in str(row['RelSig'])):\n",
    "        return 1\n",
    "    else:\n",
    "        return 0\n",
    "    \n",
    "def get_crc_sig_10 (row):\n",
    "    if ('10' in str(row['RelSig'])):\n",
    "        return 1\n",
    "    else:\n",
    "        return 0\n",
    "    \n",
    "def get_crc_sig_11 (row):\n",
    "    if ('11' in str(row['RelSig'])):\n",
    "        return 1\n",
    "    else:\n",
    "        return 0\n",
    "    \n",
    "def get_crc_sig_12 (row):\n",
    "    if ('12' in str(row['RelSig'])):\n",
    "        return 1\n",
    "    else:\n",
    "        return 0\n",
    "    \n",
    "def get_crc_sig_13 (row):\n",
    "    if ('13' in str(row['RelSig'])):\n",
    "        return 1\n",
    "    else:\n",
    "        return 0\n",
    "    \n",
    "def get_crc_sig_14 (row):\n",
    "    if ('14' in str(row['RelSig'])):\n",
    "        return 1\n",
    "    else:\n",
    "        return 0"
   ]
  },
  {
   "cell_type": "code",
   "execution_count": 16,
   "metadata": {
    "hidden": true
   },
   "outputs": [],
   "source": [
    "# make columns for each individual signal for LCa\n",
    "def get_lca_sig_01 (row):\n",
    "    if ';' in str(row['RelSig']):\n",
    "        for x in str(row['RelSig']).split(';'):\n",
    "            if ('1' in str(x) and not '10' in str(x) and not '11' in str(x) and not '12' in str(x) and not '13' in str(x) and not '14' in str(x)):\n",
    "                return 1\n",
    "        return 0\n",
    "    else:\n",
    "        if ('1' in str(row['RelSig']) and not '10' in str(row['RelSig']) and not '11' in str(row['RelSig']) and not '12' in str(row['RelSig']) and not '13' in str(row['RelSig']) and not '14' in str(row['RelSig'])):\n",
    "            return 1\n",
    "        else:\n",
    "            return 0\n",
    "    \n",
    "def get_lca_sig_02 (row):\n",
    "    if ('2' in str(row['RelSig'])):\n",
    "        return 1\n",
    "    else:\n",
    "        return 0\n",
    "    \n",
    "def get_lca_sig_03 (row):\n",
    "    if ('3' in str(row['RelSig'])):\n",
    "        return 1\n",
    "    else:\n",
    "        return 0\n",
    "    \n",
    "def get_lca_sig_04 (row):\n",
    "    if ('4' in str(row['RelSig'])):\n",
    "        return 1\n",
    "    else:\n",
    "        return 0\n",
    "    \n",
    "def get_lca_sig_05 (row):\n",
    "    if ('5' in str(row['RelSig'])):\n",
    "        return 1\n",
    "    else:\n",
    "        return 0\n",
    "    \n",
    "def get_lca_sig_06 (row):\n",
    "    if ('6' in str(row['RelSig'])):\n",
    "        return 1\n",
    "    else:\n",
    "        return 0\n",
    "    \n",
    "def get_lca_sig_07 (row):\n",
    "    if ('7' in str(row['RelSig'])):\n",
    "        return 1\n",
    "    else:\n",
    "        return 0\n",
    "    \n",
    "def get_lca_sig_08 (row):\n",
    "    if ('8' in str(row['RelSig'])):\n",
    "        return 1\n",
    "    else:\n",
    "        return 0\n",
    "    \n",
    "def get_lca_sig_09 (row):\n",
    "    if ('9' in str(row['RelSig'])):\n",
    "        return 1\n",
    "    else:\n",
    "        return 0\n",
    "    \n",
    "def get_lca_sig_10 (row):\n",
    "    if ('10' in str(row['RelSig'])):\n",
    "        return 1\n",
    "    else:\n",
    "        return 0"
   ]
  },
  {
   "cell_type": "code",
   "execution_count": 17,
   "metadata": {
    "hidden": true
   },
   "outputs": [],
   "source": [
    "# make columns for each individual RF for CRC\n",
    "def get_crc_redf_01 (row):\n",
    "    if ';' in str(row['RFInitialRF']):\n",
    "        for x in str(row['RFInitialRF']).split(';'):\n",
    "            if ('1' in str(x) and not '10' in str(x) and not '11' in str(x) and not '12' in str(x) and not '13' in str(x) and not '14' in str(x)):\n",
    "                return 1\n",
    "        return 0\n",
    "    else:\n",
    "        if ('1' in str(row['RFInitialRF']) and not '10' in str(row['RFInitialRF']) and not '11' in str(row['RFInitialRF']) and not '12' in str(row['RFInitialRF']) and not '13' in str(row['RFInitialRF']) and not '14' in str(row['RFInitialRF'])):\n",
    "            return 1\n",
    "        else:\n",
    "            return 0\n",
    "    \n",
    "def get_crc_redf_02 (row):\n",
    "    if ';' in str(row['RFInitialRF']):\n",
    "        for x in str(row['RFInitialRF']).split(';'):\n",
    "            if ('2' in str(x) and not '12' in str(x)):\n",
    "                return 1\n",
    "        return 0\n",
    "    else:\n",
    "        if ('2' in str(row['RFInitialRF']) and not '12' in str(row['RFInitialRF'])):\n",
    "            return 1\n",
    "        else:\n",
    "            return 0\n",
    "    \n",
    "def get_crc_redf_03 (row):\n",
    "    if ';' in str(row['RFInitialRF']):\n",
    "        for x in str(row['RFInitialRF']).split(';'):\n",
    "            if ('3' in str(x) and not '13' in str(x)):\n",
    "                return 1\n",
    "        return 0\n",
    "    else:\n",
    "        if ('3' in str(row['RFInitialRF']) and not '13' in str(row['RFInitialRF'])):\n",
    "            return 1\n",
    "        else:\n",
    "            return 0\n",
    "    \n",
    "def get_crc_redf_04 (row):\n",
    "    if ';' in str(row['RFInitialRF']):\n",
    "        for x in str(row['RFInitialRF']).split(';'):\n",
    "            if ('4' in str(x) and not '14' in str(x)):\n",
    "                return 1\n",
    "        return 0\n",
    "    else:\n",
    "        if ('4' in str(row['RFInitialRF']) and not '14' in str(row['RFInitialRF'])):\n",
    "            return 1\n",
    "        else:\n",
    "            return 0\n",
    "    \n",
    "def get_crc_redf_05 (row):\n",
    "    if ('5' in str(row['RFInitialRF'])):\n",
    "        return 1\n",
    "    else:\n",
    "        return 0\n",
    "    \n",
    "def get_crc_redf_06 (row):\n",
    "    if ('6' in str(row['RFInitialRF'])):\n",
    "        return 1\n",
    "    else:\n",
    "        return 0\n",
    "    \n",
    "def get_crc_redf_07 (row):\n",
    "    if ('7' in str(row['RFInitialRF'])):\n",
    "        return 1\n",
    "    else:\n",
    "        return 0\n",
    "    \n",
    "def get_crc_redf_08 (row):\n",
    "    if ('8' in str(row['RFInitialRF'])):\n",
    "        return 1\n",
    "    else:\n",
    "        return 0\n",
    "    \n",
    "def get_crc_redf_09 (row):\n",
    "    if ('9' in str(row['RFInitialRF'])):\n",
    "        return 1\n",
    "    else:\n",
    "        return 0\n",
    "    \n",
    "def get_crc_redf_10 (row):\n",
    "    if ('10' in str(row['RFInitialRF'])):\n",
    "        return 1\n",
    "    else:\n",
    "        return 0\n",
    "    \n",
    "def get_crc_redf_11 (row):\n",
    "    if ('11' in str(row['RFInitialRF'])):\n",
    "        return 1\n",
    "    else:\n",
    "        return 0\n",
    "    \n",
    "def get_crc_redf_12 (row):\n",
    "    if ('12' in str(row['RFInitialRF'])):\n",
    "        return 1\n",
    "    else:\n",
    "        return 0\n",
    "    \n",
    "def get_crc_redf_13 (row):\n",
    "    if ('13' in str(row['RFInitialRF'])):\n",
    "        return 1\n",
    "    else:\n",
    "        return 0\n",
    "    \n",
    "def get_crc_redf_14 (row):\n",
    "    if ('14' in str(row['RFInitialRF'])):\n",
    "        return 1\n",
    "    else:\n",
    "        return 0"
   ]
  },
  {
   "cell_type": "code",
   "execution_count": 18,
   "metadata": {
    "hidden": true
   },
   "outputs": [],
   "source": [
    "# make columns for each individual signal for LCa\n",
    "def get_lca_redf_01 (row):\n",
    "    if ';' in str(row['RFInitialRF']):\n",
    "        for x in str(row['RFInitialRF']).split(';'):\n",
    "            if ('1' in str(x) and not '10' in str(x) and not '11' in str(x) and not '12' in str(x) and not '13' in str(x) and not '14' in str(x)):\n",
    "                return 1\n",
    "        return 0\n",
    "    else:\n",
    "        if ('1' in str(row['RFInitialRF']) and not '10' in str(row['RFInitialRF']) and not '11' in str(row['RFInitialRF']) and not '12' in str(row['RFInitialRF']) and not '13' in str(row['RFInitialRF']) and not '14' in str(row['RFInitialRF'])):\n",
    "            return 1\n",
    "        else:\n",
    "            return 0\n",
    "    \n",
    "def get_lca_redf_02 (row):\n",
    "    if ('2' in str(row['RFInitialRF'])):\n",
    "        return 1\n",
    "    else:\n",
    "        return 0\n",
    "    \n",
    "def get_lca_redf_03 (row):\n",
    "    if ('3' in str(row['RFInitialRF'])):\n",
    "        return 1\n",
    "    else:\n",
    "        return 0\n",
    "    \n",
    "def get_lca_redf_04 (row):\n",
    "    if ('4' in str(row['RFInitialRF'])):\n",
    "        return 1\n",
    "    else:\n",
    "        return 0\n",
    "    \n",
    "def get_lca_redf_05 (row):\n",
    "    if ('5' in str(row['RFInitialRF'])):\n",
    "        return 1\n",
    "    else:\n",
    "        return 0\n",
    "    \n",
    "def get_lca_redf_06 (row):\n",
    "    if ('6' in str(row['RFInitialRF'])):\n",
    "        return 1\n",
    "    else:\n",
    "        return 0\n",
    "    \n",
    "def get_lca_redf_07 (row):\n",
    "    if ('7' in str(row['RFInitialRF'])):\n",
    "        return 1\n",
    "    else:\n",
    "        return 0\n",
    "    \n",
    "def get_lca_redf_08 (row):\n",
    "    if ('8' in str(row['RFInitialRF'])):\n",
    "        return 1\n",
    "    else:\n",
    "        return 0\n",
    "    \n",
    "def get_lca_redf_09 (row):\n",
    "    if ('9' in str(row['RFInitialRF'])):\n",
    "        return 1\n",
    "    else:\n",
    "        return 0\n",
    "    \n",
    "def get_lca_redf_10 (row):\n",
    "    if ('10' in str(row['RFInitialRF'])):\n",
    "        return 1\n",
    "    else:\n",
    "        return 0"
   ]
  },
  {
   "cell_type": "code",
   "execution_count": 19,
   "metadata": {},
   "outputs": [],
   "source": [
    "def get_column_stats(col, mean_col, df):\n",
    "    df_stats = df[col].agg(['mean', 'std', 'count'])\n",
    "    \n",
    "    df_stats['ci95_hi'] = (df_stats['mean'] + 1.96 * df_stats['std']/math.sqrt(df_stats['count'])) * 100\n",
    "    df_stats['ci95_lo'] = (df_stats['mean'] - 1.96 * df_stats['std']/math.sqrt(df_stats['count'])) * 100\n",
    "    df_stats[mean_col] = df_stats['mean'] * 100\n",
    "    \n",
    "    return df_stats"
   ]
  },
  {
   "cell_type": "markdown",
   "metadata": {
    "heading_collapsed": true,
    "hidden": true
   },
   "source": [
    "### Apply"
   ]
  },
  {
   "cell_type": "code",
   "execution_count": 20,
   "metadata": {
    "hidden": true
   },
   "outputs": [],
   "source": [
    "crc_df['TrueEP'] = crc_df.apply(lambda row: is_true_EP(row), axis=1)\n",
    "lca_df['TrueEP'] = lca_df.apply(lambda row: is_true_EP(row), axis=1)"
   ]
  },
  {
   "cell_type": "code",
   "execution_count": 21,
   "metadata": {
    "hidden": true
   },
   "outputs": [],
   "source": [
    "crc_df['ResponseText'] = crc_df.apply(lambda row: response_num_to_text(row), axis=1)\n",
    "crc_df['ResponseText'] = pd.Categorical(crc_df['ResponseText'], categories=['No signal requiring f/u', 'Signal not recognized', 'Signal recognized, f/u not initiated', 'Signal recognized, OP f/u', 'Signal recognized, IP f/u', 'Other'], ordered=True)\n",
    "lca_df['ResponseText'] = lca_df.apply(lambda row: response_num_to_text(row), axis=1)\n",
    "lca_df['ResponseText'] = pd.Categorical(lca_df['ResponseText'], categories=['No signal requiring f/u', 'Signal not recognized', 'Signal recognized, f/u not initiated', 'Signal recognized, OP f/u', 'Signal recognized, IP f/u', 'Other'], ordered=True)"
   ]
  },
  {
   "cell_type": "code",
   "execution_count": 22,
   "metadata": {
    "hidden": true
   },
   "outputs": [],
   "source": [
    "crc_df['TypeEPText'] = crc_df.apply(lambda row: typeep_num_to_text(row), axis=1)\n",
    "crc_df['TypeEPText'] = pd.Categorical(crc_df['TypeEPText'], categories=['Dx within emergency event', 'Cancer-related emergency → Related subsequent encounter', 'Non-cancer-related emergency → Related subsequent encounter', 'Non-cancer-related emergency → Unrelated subsequent encounter', 'Other'], ordered=True)\n",
    "lca_df['TypeEPText'] = lca_df.apply(lambda row: typeep_num_to_text(row), axis=1)\n",
    "lca_df['TypeEPText'] = pd.Categorical(lca_df['TypeEPText'], categories=['Dx within emergency event', 'Cancer-related emergency → Related subsequent encounter', 'Non-cancer-related emergency → Related subsequent encounter', 'Non-cancer-related emergency → Unrelated subsequent encounter', 'Other'], ordered=True)"
   ]
  },
  {
   "cell_type": "code",
   "execution_count": 23,
   "metadata": {
    "hidden": true
   },
   "outputs": [],
   "source": [
    "crc_df['ScreeningTestDateTime'] = crc_df.apply(lambda row: parse_datetime1(row, 'DiagnosticTestDate'), axis=1)\n",
    "lca_df['ScreeningTestDateTime'] = lca_df.apply(lambda row: parse_datetime2(row, 'DiagnosticTestDate'), axis=1)\n",
    "crc_df['DiagnosisDateTime'] = crc_df.apply(lambda row: parse_datetime2(row, 'DiagnosticEventDateTime'), axis=1)\n",
    "lca_df['DiagnosisDateTime'] = lca_df.apply(lambda row: parse_datetime2(row, 'DiagnosticEventDateTime'), axis=1)\n",
    "\n",
    "crc_df['ScreeningUpToDate'] = crc_df.apply(lambda row: is_timedelta_within_threshold(row, 'DiagnosisDateTime', 'ScreeningTestDateTime', 3650), axis=1)\n",
    "lca_df['ScreeningUpToDate'] = lca_df.apply(lambda row: is_timedelta_within_threshold(row, 'DiagnosisDateTime', 'ScreeningTestDateTime', 3650), axis=1)"
   ]
  },
  {
   "cell_type": "code",
   "execution_count": 24,
   "metadata": {
    "hidden": true
   },
   "outputs": [],
   "source": [
    "crc_df['RFPriorToDx'] = crc_df.apply(lambda row: parse_yesno_1(row, 'RFYesNo'), axis=1)\n",
    "# lung cancer is already in 1 0 format\n",
    "lca_df['RFPriorToDx'] = lca_df.apply(lambda row: parse_01_1(row, 'RFYesNo'), axis=1)"
   ]
  },
  {
   "cell_type": "code",
   "execution_count": 25,
   "metadata": {
    "hidden": true
   },
   "outputs": [],
   "source": [
    "crc_df['HasMOD'] = crc_df.apply(lambda row: parse_yesno_1(row, 'DxMOD'), axis=1)\n",
    "# lung cancer is already in 1 0 format\n",
    "lca_df['HasMOD'] = lca_df.apply(lambda row: parse_01_1(row, 'DxMOD'), axis=1)"
   ]
  },
  {
   "cell_type": "code",
   "execution_count": 26,
   "metadata": {
    "hidden": true
   },
   "outputs": [],
   "source": [
    "crc_df['DimensionPtRelated_Parsed'] = crc_df.apply(lambda row: check_not_null(row, 'DimensionPtRelated'), axis=1)\n",
    "crc_df['DimensionPtProvEncounter_Parsed'] = crc_df.apply(lambda row: check_not_null(row, 'DimensionPtProvEncounter'), axis=1)\n",
    "crc_df['DimensionDxTests_Parsed'] = crc_df.apply(lambda row: check_not_null(row, 'DimensionDxTests'), axis=1)\n",
    "crc_df['DimensionFupTrack_Parsed'] = crc_df.apply(lambda row: check_not_null(row, 'DimensionFupTrack'), axis=1)\n",
    "crc_df['DimensionReferrals_Parsed'] = crc_df.apply(lambda row: check_not_null(row, 'DimensionReferrals'), axis=1)\n",
    "\n",
    "lca_df['DimensionPtRelated_Parsed'] = lca_df.apply(lambda row: check_not_null(row, 'DimensionPtRelated'), axis=1)\n",
    "lca_df['DimensionPtProvEncounter_Parsed'] = lca_df.apply(lambda row: check_not_null(row, 'DimensionPtProvEncounter'), axis=1)\n",
    "lca_df['DimensionDxTests_Parsed'] = lca_df.apply(lambda row: check_not_null(row, 'DimensionDxTests'), axis=1)\n",
    "lca_df['DimensionFupTrack_Parsed'] = lca_df.apply(lambda row: check_not_null(row, 'DimensionFupTrack'), axis=1)\n",
    "lca_df['DimensionReferrals_Parsed'] = lca_df.apply(lambda row: check_not_null(row, 'DimensionReferrals'), axis=1)"
   ]
  },
  {
   "cell_type": "code",
   "execution_count": 27,
   "metadata": {
    "hidden": true
   },
   "outputs": [],
   "source": [
    "crc_df['Signal_IDA'] = crc_df.apply(lambda row: get_crc_sig_01(row), axis=1)\n",
    "crc_df['Signal_Obstruction'] = crc_df.apply(lambda row: get_crc_sig_02(row), axis=1)\n",
    "crc_df['Signal_BloodyStool'] = crc_df.apply(lambda row: get_crc_sig_03(row), axis=1)\n",
    "crc_df['Signal_AbdMass'] = crc_df.apply(lambda row: get_crc_sig_04(row), axis=1)\n",
    "crc_df['Signal_RectMass'] = crc_df.apply(lambda row: get_crc_sig_05(row), axis=1)\n",
    "crc_df['Signal_StoolCaliber'] = crc_df.apply(lambda row: get_crc_sig_06(row), axis=1)\n",
    "crc_df['Signal_CScope'] = crc_df.apply(lambda row: get_crc_sig_07(row), axis=1)\n",
    "crc_df['Signal_FOBT'] = crc_df.apply(lambda row: get_crc_sig_08(row), axis=1)\n",
    "crc_df['Signal_FlexSig'] = crc_df.apply(lambda row: get_crc_sig_09(row), axis=1)\n",
    "crc_df['Signal_Enema'] = crc_df.apply(lambda row: get_crc_sig_10(row), axis=1)\n",
    "crc_df['Signal_CT'] = crc_df.apply(lambda row: get_crc_sig_11(row), axis=1)\n",
    "crc_df['Signal_FamHx'] = crc_df.apply(lambda row: get_crc_sig_12(row), axis=1)\n",
    "crc_df['Signal_MassExam'] = crc_df.apply(lambda row: get_crc_sig_13(row), axis=1)\n",
    "crc_df['Signal_Other'] = crc_df.apply(lambda row: get_crc_sig_14(row), axis=1)"
   ]
  },
  {
   "cell_type": "code",
   "execution_count": 28,
   "metadata": {
    "hidden": true
   },
   "outputs": [],
   "source": [
    "lca_df['Signal_Cough'] = lca_df.apply(lambda row: get_lca_sig_01(row), axis=1)\n",
    "lca_df['Signal_Dyspnea'] = lca_df.apply(lambda row: get_lca_sig_02(row), axis=1)\n",
    "lca_df['Signal_ChestPain'] = lca_df.apply(lambda row: get_lca_sig_03(row), axis=1)\n",
    "lca_df['Signal_Hemoptysis'] = lca_df.apply(lambda row: get_lca_sig_04(row), axis=1)\n",
    "lca_df['Signal_LRTI'] = lca_df.apply(lambda row: get_lca_sig_05(row), axis=1)\n",
    "lca_df['Signal_Imaging'] = lca_df.apply(lambda row: get_lca_sig_06(row), axis=1)\n",
    "lca_df['Signal_Paraneoplastic'] = lca_df.apply(lambda row: get_lca_sig_07(row), axis=1)\n",
    "lca_df['Signal_Hoarse'] = lca_df.apply(lambda row: get_lca_sig_08(row), axis=1)\n",
    "lca_df['Signal_WtLoss'] = lca_df.apply(lambda row: get_lca_sig_09(row), axis=1)\n",
    "lca_df['Signal_Other'] = lca_df.apply(lambda row: get_lca_sig_10(row), axis=1)"
   ]
  },
  {
   "cell_type": "code",
   "execution_count": 29,
   "metadata": {
    "hidden": true
   },
   "outputs": [],
   "source": [
    "crc_df['Redf_IDA'] = crc_df.apply(lambda row: get_crc_redf_01(row), axis=1)\n",
    "crc_df['Redf_Obstruction'] = crc_df.apply(lambda row: get_crc_redf_02(row), axis=1)\n",
    "crc_df['Redf_BloodyStool'] = crc_df.apply(lambda row: get_crc_redf_03(row), axis=1)\n",
    "crc_df['Redf_AbdMass'] = crc_df.apply(lambda row: get_crc_redf_04(row), axis=1)\n",
    "crc_df['Redf_RectMass'] = crc_df.apply(lambda row: get_crc_redf_05(row), axis=1)\n",
    "crc_df['Redf_StoolCaliber'] = crc_df.apply(lambda row: get_crc_redf_06(row), axis=1)\n",
    "crc_df['Redf_CScope'] = crc_df.apply(lambda row: get_crc_redf_07(row), axis=1)\n",
    "crc_df['Redf_FOBT'] = crc_df.apply(lambda row: get_crc_redf_08(row), axis=1)\n",
    "crc_df['Redf_FlexSig'] = crc_df.apply(lambda row: get_crc_redf_09(row), axis=1)\n",
    "crc_df['Redf_Enema'] = crc_df.apply(lambda row: get_crc_redf_10(row), axis=1)\n",
    "crc_df['Redf_CT'] = crc_df.apply(lambda row: get_crc_redf_11(row), axis=1)\n",
    "crc_df['Redf_FamHx'] = crc_df.apply(lambda row: get_crc_redf_12(row), axis=1)\n",
    "crc_df['Redf_MassExam'] = crc_df.apply(lambda row: get_crc_redf_13(row), axis=1)\n",
    "crc_df['Redf_Other'] = crc_df.apply(lambda row: get_crc_redf_14(row), axis=1)"
   ]
  },
  {
   "cell_type": "code",
   "execution_count": 30,
   "metadata": {
    "hidden": true
   },
   "outputs": [],
   "source": [
    "lca_df['Redf_Cough'] = lca_df.apply(lambda row: get_lca_redf_01(row), axis=1)\n",
    "lca_df['Redf_Dyspnea'] = lca_df.apply(lambda row: get_lca_redf_02(row), axis=1)\n",
    "lca_df['Redf_ChestPain'] = lca_df.apply(lambda row: get_lca_redf_03(row), axis=1)\n",
    "lca_df['Redf_Hemoptysis'] = lca_df.apply(lambda row: get_lca_redf_04(row), axis=1)\n",
    "lca_df['Redf_LRTI'] = lca_df.apply(lambda row: get_lca_redf_05(row), axis=1)\n",
    "lca_df['Redf_Imaging'] = lca_df.apply(lambda row: get_lca_redf_06(row), axis=1)\n",
    "lca_df['Redf_Paraneoplastic'] = lca_df.apply(lambda row: get_lca_redf_07(row), axis=1)\n",
    "lca_df['Redf_Hoarse'] = lca_df.apply(lambda row: get_lca_redf_08(row), axis=1)\n",
    "lca_df['Redf_WtLoss'] = lca_df.apply(lambda row: get_lca_redf_09(row), axis=1)\n",
    "lca_df['Redf_Other'] = lca_df.apply(lambda row: get_lca_redf_10(row), axis=1)"
   ]
  },
  {
   "cell_type": "code",
   "execution_count": 31,
   "metadata": {
    "hidden": true,
    "scrolled": true
   },
   "outputs": [],
   "source": [
    "# mm2_crc_df[['RelSig', 'Signal_IDA', 'Signal_Obstruction', 'Signal_BloodyStool', 'Signal_AbdMass', 'Signal_RectMass', 'Signal_StoolCaliber', 'Signal_CScope', 'Signal_FOBT', 'Signal_FlexSig', 'Signal_Enema', 'Signal_CT', 'Signal_FamHx', 'Signal_MassExam', 'Signal_Other']]"
   ]
  },
  {
   "cell_type": "code",
   "execution_count": 32,
   "metadata": {
    "hidden": true
   },
   "outputs": [],
   "source": [
    "# mm2_lca_df[['RelSig', 'Signal_Cough', 'Signal_Dyspnea', 'Signal_ChestPain', 'Signal_Hemoptysis', 'Signal_LRTI', 'Signal_Imaging', 'Signal_Paraneoplastic', 'Signal_Hoarse', 'Signal_WtLoss', 'Signal_Other']]"
   ]
  },
  {
   "cell_type": "code",
   "execution_count": 49,
   "metadata": {},
   "outputs": [],
   "source": [
    "lca_sig_master = pd.DataFrame(columns=['Signal', 'True EP', 'True MOD'])\n",
    "\n",
    "for x in lca_df.index:\n",
    "    if lca_df.loc[x]['Signal_Cough'] == 1:\n",
    "        lca_sig_master.loc[len(lca_sig_master.index)] = ['Cough', lca_df.loc[x]['TrueEP'], lca_df.loc[x]['HasMOD']]\n",
    "    if lca_df.loc[x]['Signal_Dyspnea'] == 1:\n",
    "        lca_sig_master.loc[len(lca_sig_master.index)] = ['Dyspnea', lca_df.loc[x]['TrueEP'], lca_df.loc[x]['HasMOD']]\n",
    "    if lca_df.loc[x]['Signal_ChestPain'] == 1:\n",
    "        lca_sig_master.loc[len(lca_sig_master.index)] = ['Chest Pain', lca_df.loc[x]['TrueEP'], lca_df.loc[x]['HasMOD']]\n",
    "    if lca_df.loc[x]['Signal_Hemoptysis'] == 1:\n",
    "        lca_sig_master.loc[len(lca_sig_master.index)] = ['Hemoptysis', lca_df.loc[x]['TrueEP'], lca_df.loc[x]['HasMOD']]\n",
    "    if lca_df.loc[x]['Signal_LRTI'] == 1:\n",
    "        lca_sig_master.loc[len(lca_sig_master.index)] = ['LRTI', lca_df.loc[x]['TrueEP'], lca_df.loc[x]['HasMOD']]\n",
    "    if lca_df.loc[x]['Signal_Imaging'] == 1:\n",
    "        lca_sig_master.loc[len(lca_sig_master.index)] = ['Imaging', lca_df.loc[x]['TrueEP'], lca_df.loc[x]['HasMOD']]\n",
    "    if lca_df.loc[x]['Signal_Paraneoplastic'] == 1:\n",
    "        lca_sig_master.loc[len(lca_sig_master.index)] = ['Hoarse', lca_df.loc[x]['TrueEP'], lca_df.loc[x]['HasMOD']]\n",
    "    if lca_df.loc[x]['Signal_Hoarse'] == 1:\n",
    "        lca_sig_master.loc[len(lca_sig_master.index)] = ['Hoarse', lca_df.loc[x]['TrueEP'], lca_df.loc[x]['HasMOD']]\n",
    "    if lca_df.loc[x]['Signal_WtLoss'] == 1:\n",
    "        lca_sig_master.loc[len(lca_sig_master.index)] = ['Weight Loss', lca_df.loc[x]['TrueEP'], lca_df.loc[x]['HasMOD']]\n",
    "    if lca_df.loc[x]['Signal_Other'] == 1:\n",
    "        lca_sig_master.loc[len(lca_sig_master.index)] = ['Other', lca_df.loc[x]['TrueEP'], lca_df.loc[x]['HasMOD']]\n",
    "    if lca_df.loc[x]['Signal_Cough'] == 1:\n",
    "        lca_sig_master.loc[len(lca_sig_master.index)] = ['Cough', lca_df.loc[x]['TrueEP'], lca_df.loc[x]['HasMOD']]\n",
    "    "
   ]
  },
  {
   "cell_type": "code",
   "execution_count": 50,
   "metadata": {},
   "outputs": [],
   "source": [
    "crc_sig_master = pd.DataFrame(columns=['Signal', 'True EP', 'True MOD'])\n",
    "\n",
    "for x in crc_df.index:\n",
    "    if crc_df.loc[x]['Signal_IDA'] == 1:\n",
    "        crc_sig_master.loc[len(crc_sig_master.index)] = ['IDA', crc_df.loc[x]['TrueEP'], crc_df.loc[x]['HasMOD']]\n",
    "    if crc_df.loc[x]['Signal_Obstruction'] == 1:\n",
    "        crc_sig_master.loc[len(crc_sig_master.index)] = ['Obstruction', crc_df.loc[x]['TrueEP'], crc_df.loc[x]['HasMOD']]\n",
    "    if crc_df.loc[x]['Signal_BloodyStool'] == 1:\n",
    "        crc_sig_master.loc[len(crc_sig_master.index)] = ['Bloody Stool', crc_df.loc[x]['TrueEP'], crc_df.loc[x]['HasMOD']]\n",
    "    if crc_df.loc[x]['Signal_AbdMass'] == 1:\n",
    "        crc_sig_master.loc[len(crc_sig_master.index)] = ['Abdominal Mass', crc_df.loc[x]['TrueEP'], crc_df.loc[x]['HasMOD']]\n",
    "    if crc_df.loc[x]['Signal_RectMass'] == 1:\n",
    "        crc_sig_master.loc[len(crc_sig_master.index)] = ['Rectal Mass', crc_df.loc[x]['TrueEP'], crc_df.loc[x]['HasMOD']]\n",
    "    if crc_df.loc[x]['Signal_StoolCaliber'] == 1:\n",
    "        crc_sig_master.loc[len(crc_sig_master.index)] = ['Stool Caliber', crc_df.loc[x]['TrueEP'], crc_df.loc[x]['HasMOD']]\n",
    "    if crc_df.loc[x]['Signal_CScope'] == 1:\n",
    "        crc_sig_master.loc[len(crc_sig_master.index)] = ['Colonoscopy', crc_df.loc[x]['TrueEP'], crc_df.loc[x]['HasMOD']]\n",
    "    if crc_df.loc[x]['Signal_FOBT'] == 1:\n",
    "        crc_sig_master.loc[len(crc_sig_master.index)] = ['FOBT', crc_df.loc[x]['TrueEP'], crc_df.loc[x]['HasMOD']]\n",
    "    if crc_df.loc[x]['Signal_FlexSig'] == 1:\n",
    "        crc_sig_master.loc[len(crc_sig_master.index)] = ['Flexible Sigmoidoscopy', crc_df.loc[x]['TrueEP'], crc_df.loc[x]['HasMOD']]\n",
    "    if crc_df.loc[x]['Signal_Enema'] == 1:\n",
    "        crc_sig_master.loc[len(crc_sig_master.index)] = ['Barium Enema', crc_df.loc[x]['TrueEP'], crc_df.loc[x]['HasMOD']]\n",
    "    if crc_df.loc[x]['Signal_CT'] == 1:\n",
    "        crc_sig_master.loc[len(crc_sig_master.index)] = ['CT Finding', crc_df.loc[x]['TrueEP'], crc_df.loc[x]['HasMOD']]\n",
    "    if crc_df.loc[x]['Signal_FamHx'] == 1:\n",
    "        crc_sig_master.loc[len(crc_sig_master.index)] = ['Family History', crc_df.loc[x]['TrueEP'], crc_df.loc[x]['HasMOD']]\n",
    "    if crc_df.loc[x]['Signal_MassExam'] == 1:\n",
    "        crc_sig_master.loc[len(crc_sig_master.index)] = ['Mass on Examination', crc_df.loc[x]['TrueEP'], crc_df.loc[x]['HasMOD']]\n",
    "    if crc_df.loc[x]['Signal_Other'] == 1:\n",
    "        crc_sig_master.loc[len(crc_sig_master.index)] = ['Other', crc_df.loc[x]['TrueEP'], crc_df.loc[x]['HasMOD']]"
   ]
  },
  {
   "cell_type": "code",
   "execution_count": null,
   "metadata": {},
   "outputs": [],
   "source": [
    "lca_fu_master = pd.DataFrame(columns=['Follow-Up', 'True EP', 'True MOD'])\n",
    "\n",
    "for x in lca_df.index:\n",
    "    if lca_df.loc[x]['Signal_Cough'] == 1:\n",
    "        lca_fu_master.loc[len(lca_fu_master.index)] = ['Cough', lca_df.loc[x]['TrueEP'], lca_df.loc[x]['HasMOD']]"
   ]
  },
  {
   "cell_type": "markdown",
   "metadata": {
    "heading_collapsed": true,
    "hidden": true
   },
   "source": [
    "## Descriptive Stats"
   ]
  },
  {
   "cell_type": "markdown",
   "metadata": {
    "heading_collapsed": true,
    "hidden": true
   },
   "source": [
    "### True EP Rate"
   ]
  },
  {
   "cell_type": "markdown",
   "metadata": {
    "hidden": true
   },
   "source": [
    "#### Lung Cancer"
   ]
  },
  {
   "cell_type": "code",
   "execution_count": 33,
   "metadata": {},
   "outputs": [
    {
     "data": {
      "text/plain": [
       "mean           0.800000\n",
       "std            0.402015\n",
       "count        100.000000\n",
       "ci95_hi       87.879496\n",
       "ci95_lo       72.120504\n",
       "% True EP     80.000000\n",
       "Name: TrueEP, dtype: float64"
      ]
     },
     "execution_count": 33,
     "metadata": {},
     "output_type": "execute_result"
    }
   ],
   "source": [
    "lca_tep_stats = get_column_stats('TrueEP', '% True EP', lca_df)\n",
    "lca_tep_stats"
   ]
  },
  {
   "cell_type": "markdown",
   "metadata": {
    "heading_collapsed": true,
    "hidden": true
   },
   "source": [
    "#### CRC"
   ]
  },
  {
   "cell_type": "code",
   "execution_count": 34,
   "metadata": {},
   "outputs": [
    {
     "data": {
      "text/plain": [
       "mean           0.730000\n",
       "std            0.446196\n",
       "count        100.000000\n",
       "ci95_hi       81.745442\n",
       "ci95_lo       64.254558\n",
       "% True EP     73.000000\n",
       "Name: TrueEP, dtype: float64"
      ]
     },
     "execution_count": 34,
     "metadata": {},
     "output_type": "execute_result"
    }
   ],
   "source": [
    "crc_tep_stats = get_column_stats('TrueEP', '% True EP', crc_df)\n",
    "crc_tep_stats"
   ]
  },
  {
   "cell_type": "markdown",
   "metadata": {
    "heading_collapsed": true,
    "hidden": true
   },
   "source": [
    "### Signals"
   ]
  },
  {
   "cell_type": "markdown",
   "metadata": {
    "heading_collapsed": true,
    "hidden": true
   },
   "source": [
    "#### LCa"
   ]
  },
  {
   "cell_type": "code",
   "execution_count": 35,
   "metadata": {
    "hidden": true
   },
   "outputs": [],
   "source": [
    "lca_sigf_df = pd.DataFrame({'Signal':['Cough', 'Dyspnea', 'ChestPain', 'Hemoptysis', 'LRTI', 'Imaging', 'Paraneoplastic', 'Hoarse', 'WtLoss', 'Other']})\n",
    "lca_sigf_vals = [] \n",
    "\n",
    "lca_sigf_vals.append(lca_df[lca_df['TrueEP'] == 1]['Signal_Cough'].agg('mean') * 100)\n",
    "lca_sigf_vals.append(lca_df[lca_df['TrueEP'] == 1]['Signal_Dyspnea'].agg('mean') * 100)\n",
    "lca_sigf_vals.append(lca_df[lca_df['TrueEP'] == 1]['Signal_ChestPain'].agg('mean') * 100)\n",
    "lca_sigf_vals.append(lca_df[lca_df['TrueEP'] == 1]['Signal_Hemoptysis'].agg('mean') * 100)\n",
    "lca_sigf_vals.append(lca_df[lca_df['TrueEP'] == 1]['Signal_LRTI'].agg('mean') * 100)\n",
    "lca_sigf_vals.append(lca_df[lca_df['TrueEP'] == 1]['Signal_Imaging'].agg('mean') * 100)\n",
    "lca_sigf_vals.append(lca_df[lca_df['TrueEP'] == 1]['Signal_Paraneoplastic'].agg('mean') * 100)\n",
    "lca_sigf_vals.append(lca_df[lca_df['TrueEP'] == 1]['Signal_Hoarse'].agg('mean') * 100)\n",
    "lca_sigf_vals.append(lca_df[lca_df['TrueEP'] == 1]['Signal_WtLoss'].agg('mean') * 100)\n",
    "lca_sigf_vals.append(lca_df[lca_df['TrueEP'] == 1]['Signal_Other'].agg('mean') * 100)\n",
    "\n",
    "lca_sigf_df['Frequency'] = lca_sigf_vals\n",
    "lca_sigf_df = lca_sigf_df.sort_values(by='Frequency', ascending=False)"
   ]
  },
  {
   "cell_type": "code",
   "execution_count": 36,
   "metadata": {
    "hidden": true
   },
   "outputs": [
    {
     "data": {
      "text/html": [
       "<div>\n",
       "<style scoped>\n",
       "    .dataframe tbody tr th:only-of-type {\n",
       "        vertical-align: middle;\n",
       "    }\n",
       "\n",
       "    .dataframe tbody tr th {\n",
       "        vertical-align: top;\n",
       "    }\n",
       "\n",
       "    .dataframe thead th {\n",
       "        text-align: right;\n",
       "    }\n",
       "</style>\n",
       "<table border=\"1\" class=\"dataframe\">\n",
       "  <thead>\n",
       "    <tr style=\"text-align: right;\">\n",
       "      <th></th>\n",
       "      <th>Signal</th>\n",
       "      <th>Frequency</th>\n",
       "    </tr>\n",
       "  </thead>\n",
       "  <tbody>\n",
       "    <tr>\n",
       "      <th>5</th>\n",
       "      <td>Imaging</td>\n",
       "      <td>82.50</td>\n",
       "    </tr>\n",
       "    <tr>\n",
       "      <th>1</th>\n",
       "      <td>Dyspnea</td>\n",
       "      <td>43.75</td>\n",
       "    </tr>\n",
       "    <tr>\n",
       "      <th>0</th>\n",
       "      <td>Cough</td>\n",
       "      <td>28.75</td>\n",
       "    </tr>\n",
       "    <tr>\n",
       "      <th>2</th>\n",
       "      <td>ChestPain</td>\n",
       "      <td>23.75</td>\n",
       "    </tr>\n",
       "    <tr>\n",
       "      <th>3</th>\n",
       "      <td>Hemoptysis</td>\n",
       "      <td>15.00</td>\n",
       "    </tr>\n",
       "    <tr>\n",
       "      <th>8</th>\n",
       "      <td>WtLoss</td>\n",
       "      <td>13.75</td>\n",
       "    </tr>\n",
       "    <tr>\n",
       "      <th>4</th>\n",
       "      <td>LRTI</td>\n",
       "      <td>7.50</td>\n",
       "    </tr>\n",
       "    <tr>\n",
       "      <th>6</th>\n",
       "      <td>Paraneoplastic</td>\n",
       "      <td>1.25</td>\n",
       "    </tr>\n",
       "    <tr>\n",
       "      <th>9</th>\n",
       "      <td>Other</td>\n",
       "      <td>1.25</td>\n",
       "    </tr>\n",
       "    <tr>\n",
       "      <th>7</th>\n",
       "      <td>Hoarse</td>\n",
       "      <td>0.00</td>\n",
       "    </tr>\n",
       "  </tbody>\n",
       "</table>\n",
       "</div>"
      ],
      "text/plain": [
       "           Signal  Frequency\n",
       "5         Imaging      82.50\n",
       "1         Dyspnea      43.75\n",
       "0           Cough      28.75\n",
       "2       ChestPain      23.75\n",
       "3      Hemoptysis      15.00\n",
       "8          WtLoss      13.75\n",
       "4            LRTI       7.50\n",
       "6  Paraneoplastic       1.25\n",
       "9           Other       1.25\n",
       "7          Hoarse       0.00"
      ]
     },
     "execution_count": 36,
     "metadata": {},
     "output_type": "execute_result"
    }
   ],
   "source": [
    "lca_sigf_df"
   ]
  },
  {
   "cell_type": "code",
   "execution_count": 54,
   "metadata": {},
   "outputs": [
    {
     "data": {
      "text/plain": [
       "(0.0, 1.0)"
      ]
     },
     "execution_count": 54,
     "metadata": {},
     "output_type": "execute_result"
    },
    {
     "data": {
      "image/png": "[encoded data removed]",
      "text/plain": [
       "<Figure size 720x360 with 1 Axes>"
      ]
     },
     "metadata": {
      "needs_background": "light"
     },
     "output_type": "display_data"
    }
   ],
   "source": [
    "lca_sig_plt = sns.histplot(data=lca_sig_master, y='Signal', hue='True MOD', multiple='dodge', stat='probability', shrink=0.80, common_norm=False)\n",
    "lca_sig_plt.axes.set_title(\"Frequencies of Cancer Signals in EPs of Lung Cancer\", fontsize=20)\n",
    "lca_sig_plt.axes.set_ylabel (\"Signal\", fontsize=14)\n",
    "lca_sig_plt.axes.set_xlabel (\"% of Reviewed True Positive EPs\", fontsize=14)\n",
    "lca_sig_plt.axes.set_xlim ([0, 1])"
   ]
  },
  {
   "cell_type": "markdown",
   "metadata": {
    "heading_collapsed": true,
    "hidden": true
   },
   "source": [
    "#### CRC"
   ]
  },
  {
   "cell_type": "code",
   "execution_count": 38,
   "metadata": {
    "hidden": true
   },
   "outputs": [],
   "source": [
    "crc_sigf_df = pd.DataFrame({'Signal':['IDA', 'Obstruction', 'BloodyStool', 'AbdMass', 'RectMass', 'StoolCaliber', 'CScope', 'FOBT', 'FlexSig', 'Enema', 'CT', 'FamHx', 'MassExam', 'Other']})\n",
    "crc_sigf_vals = [] \n",
    "\n",
    "crc_sigf_vals.append(crc_df[crc_df['TrueEP'] == 1]['Signal_IDA'].agg('mean') * 100)\n",
    "crc_sigf_vals.append(crc_df[crc_df['TrueEP'] == 1]['Signal_Obstruction'].agg('mean') * 100)\n",
    "crc_sigf_vals.append(crc_df[crc_df['TrueEP'] == 1]['Signal_BloodyStool'].agg('mean') * 100)\n",
    "crc_sigf_vals.append(crc_df[crc_df['TrueEP'] == 1]['Signal_AbdMass'].agg('mean') * 100)\n",
    "crc_sigf_vals.append(crc_df[crc_df['TrueEP'] == 1]['Signal_RectMass'].agg('mean') * 100)\n",
    "crc_sigf_vals.append(crc_df[crc_df['TrueEP'] == 1]['Signal_StoolCaliber'].agg('mean') * 100)\n",
    "crc_sigf_vals.append(crc_df[crc_df['TrueEP'] == 1]['Signal_CScope'].agg('mean') * 100)\n",
    "crc_sigf_vals.append(crc_df[crc_df['TrueEP'] == 1]['Signal_FOBT'].agg('mean') * 100)\n",
    "crc_sigf_vals.append(crc_df[crc_df['TrueEP'] == 1]['Signal_FlexSig'].agg('mean') * 100)\n",
    "crc_sigf_vals.append(crc_df[crc_df['TrueEP'] == 1]['Signal_Enema'].agg('mean') * 100)\n",
    "crc_sigf_vals.append(crc_df[crc_df['TrueEP'] == 1]['Signal_CT'].agg('mean') * 100)\n",
    "crc_sigf_vals.append(crc_df[crc_df['TrueEP'] == 1]['Signal_FamHx'].agg('mean') * 100)\n",
    "crc_sigf_vals.append(crc_df[crc_df['TrueEP'] == 1]['Signal_MassExam'].agg('mean') * 100)\n",
    "crc_sigf_vals.append(crc_df[crc_df['TrueEP'] == 1]['Signal_Other'].agg('mean') * 100)\n",
    "\n",
    "crc_sigf_df['Frequency'] = crc_sigf_vals\n",
    "crc_sigf_df = crc_sigf_df.sort_values(by='Frequency', ascending=False)"
   ]
  },
  {
   "cell_type": "code",
   "execution_count": 39,
   "metadata": {
    "hidden": true
   },
   "outputs": [
    {
     "data": {
      "text/html": [
       "<div>\n",
       "<style scoped>\n",
       "    .dataframe tbody tr th:only-of-type {\n",
       "        vertical-align: middle;\n",
       "    }\n",
       "\n",
       "    .dataframe tbody tr th {\n",
       "        vertical-align: top;\n",
       "    }\n",
       "\n",
       "    .dataframe thead th {\n",
       "        text-align: right;\n",
       "    }\n",
       "</style>\n",
       "<table border=\"1\" class=\"dataframe\">\n",
       "  <thead>\n",
       "    <tr style=\"text-align: right;\">\n",
       "      <th></th>\n",
       "      <th>Signal</th>\n",
       "      <th>Frequency</th>\n",
       "    </tr>\n",
       "  </thead>\n",
       "  <tbody>\n",
       "    <tr>\n",
       "      <th>0</th>\n",
       "      <td>IDA</td>\n",
       "      <td>52.054795</td>\n",
       "    </tr>\n",
       "    <tr>\n",
       "      <th>10</th>\n",
       "      <td>CT</td>\n",
       "      <td>47.945205</td>\n",
       "    </tr>\n",
       "    <tr>\n",
       "      <th>2</th>\n",
       "      <td>BloodyStool</td>\n",
       "      <td>30.136986</td>\n",
       "    </tr>\n",
       "    <tr>\n",
       "      <th>5</th>\n",
       "      <td>StoolCaliber</td>\n",
       "      <td>17.808219</td>\n",
       "    </tr>\n",
       "    <tr>\n",
       "      <th>6</th>\n",
       "      <td>CScope</td>\n",
       "      <td>16.438356</td>\n",
       "    </tr>\n",
       "    <tr>\n",
       "      <th>1</th>\n",
       "      <td>Obstruction</td>\n",
       "      <td>8.219178</td>\n",
       "    </tr>\n",
       "    <tr>\n",
       "      <th>4</th>\n",
       "      <td>RectMass</td>\n",
       "      <td>6.849315</td>\n",
       "    </tr>\n",
       "    <tr>\n",
       "      <th>3</th>\n",
       "      <td>AbdMass</td>\n",
       "      <td>4.109589</td>\n",
       "    </tr>\n",
       "    <tr>\n",
       "      <th>7</th>\n",
       "      <td>FOBT</td>\n",
       "      <td>4.109589</td>\n",
       "    </tr>\n",
       "    <tr>\n",
       "      <th>11</th>\n",
       "      <td>FamHx</td>\n",
       "      <td>2.739726</td>\n",
       "    </tr>\n",
       "    <tr>\n",
       "      <th>13</th>\n",
       "      <td>Other</td>\n",
       "      <td>2.739726</td>\n",
       "    </tr>\n",
       "    <tr>\n",
       "      <th>12</th>\n",
       "      <td>MassExam</td>\n",
       "      <td>1.369863</td>\n",
       "    </tr>\n",
       "    <tr>\n",
       "      <th>8</th>\n",
       "      <td>FlexSig</td>\n",
       "      <td>0.000000</td>\n",
       "    </tr>\n",
       "    <tr>\n",
       "      <th>9</th>\n",
       "      <td>Enema</td>\n",
       "      <td>0.000000</td>\n",
       "    </tr>\n",
       "  </tbody>\n",
       "</table>\n",
       "</div>"
      ],
      "text/plain": [
       "          Signal  Frequency\n",
       "0            IDA  52.054795\n",
       "10            CT  47.945205\n",
       "2    BloodyStool  30.136986\n",
       "5   StoolCaliber  17.808219\n",
       "6         CScope  16.438356\n",
       "1    Obstruction   8.219178\n",
       "4       RectMass   6.849315\n",
       "3        AbdMass   4.109589\n",
       "7           FOBT   4.109589\n",
       "11         FamHx   2.739726\n",
       "13         Other   2.739726\n",
       "12      MassExam   1.369863\n",
       "8        FlexSig   0.000000\n",
       "9          Enema   0.000000"
      ]
     },
     "execution_count": 39,
     "metadata": {},
     "output_type": "execute_result"
    }
   ],
   "source": [
    "crc_sigf_df"
   ]
  },
  {
   "cell_type": "code",
   "execution_count": 53,
   "metadata": {},
   "outputs": [
    {
     "data": {
      "text/plain": [
       "(0.0, 1.0)"
      ]
     },
     "execution_count": 53,
     "metadata": {},
     "output_type": "execute_result"
    },
    {
     "data": {
      "image/png": "[encoded data removed]",
      "text/plain": [
       "<Figure size 720x360 with 1 Axes>"
      ]
     },
     "metadata": {
      "needs_background": "light"
     },
     "output_type": "display_data"
    }
   ],
   "source": [
    "crc_sig_plt = sns.histplot(data=crc_sig_master, y='Signal', hue='True MOD', multiple='dodge', stat='probability', shrink=0.80, common_norm=False)\n",
    "crc_sig_plt.axes.set_title(\"Frequencies of Cancer Signals in EPs of CRC\", fontsize=20)\n",
    "crc_sig_plt.axes.set_ylabel (\"Signal\", fontsize=14)\n",
    "crc_sig_plt.axes.set_xlabel (\"% of Reviewed True Positive EPs\", fontsize=14)\n",
    "crc_sig_plt.axes.set_xlim ([0, 1])"
   ]
  },
  {
   "cell_type": "markdown",
   "metadata": {
    "heading_collapsed": true,
    "hidden": true
   },
   "source": [
    "### Clinical Response"
   ]
  },
  {
   "cell_type": "markdown",
   "metadata": {
    "hidden": true
   },
   "source": [
    "#### LCa"
   ]
  },
  {
   "cell_type": "code",
   "execution_count": 88,
   "metadata": {
    "hidden": true
   },
   "outputs": [
    {
     "data": {
      "text/html": [
       "<div>\n",
       "<style scoped>\n",
       "    .dataframe tbody tr th:only-of-type {\n",
       "        vertical-align: middle;\n",
       "    }\n",
       "\n",
       "    .dataframe tbody tr th {\n",
       "        vertical-align: top;\n",
       "    }\n",
       "\n",
       "    .dataframe thead th {\n",
       "        text-align: right;\n",
       "    }\n",
       "</style>\n",
       "<table border=\"1\" class=\"dataframe\">\n",
       "  <thead>\n",
       "    <tr style=\"text-align: right;\">\n",
       "      <th></th>\n",
       "      <th>count</th>\n",
       "    </tr>\n",
       "    <tr>\n",
       "      <th>ResponseText</th>\n",
       "      <th></th>\n",
       "    </tr>\n",
       "  </thead>\n",
       "  <tbody>\n",
       "    <tr>\n",
       "      <th>No signal requiring f/u</th>\n",
       "      <td>1</td>\n",
       "    </tr>\n",
       "    <tr>\n",
       "      <th>Signal not recognized</th>\n",
       "      <td>2</td>\n",
       "    </tr>\n",
       "    <tr>\n",
       "      <th>Signal recognized, f/u not initiated</th>\n",
       "      <td>0</td>\n",
       "    </tr>\n",
       "    <tr>\n",
       "      <th>Signal recognized, OP f/u</th>\n",
       "      <td>22</td>\n",
       "    </tr>\n",
       "    <tr>\n",
       "      <th>Signal recognized, IP f/u</th>\n",
       "      <td>55</td>\n",
       "    </tr>\n",
       "    <tr>\n",
       "      <th>Other</th>\n",
       "      <td>0</td>\n",
       "    </tr>\n",
       "  </tbody>\n",
       "</table>\n",
       "</div>"
      ],
      "text/plain": [
       "                                      count\n",
       "ResponseText                               \n",
       "No signal requiring f/u                   1\n",
       "Signal not recognized                     2\n",
       "Signal recognized, f/u not initiated      0\n",
       "Signal recognized, OP f/u                22\n",
       "Signal recognized, IP f/u                55\n",
       "Other                                     0"
      ]
     },
     "execution_count": 88,
     "metadata": {},
     "output_type": "execute_result"
    }
   ],
   "source": [
    "lca_resp_df = lca_df[lca_df['TrueEP'] == 1].groupby('ResponseText')['TrueEP'].agg(['count'])\n",
    "lca_resp_df"
   ]
  },
  {
   "cell_type": "code",
   "execution_count": 90,
   "metadata": {
    "hidden": true
   },
   "outputs": [
    {
     "data": {
      "text/plain": [
       "(0.0, 1.0)"
      ]
     },
     "execution_count": 90,
     "metadata": {},
     "output_type": "execute_result"
    },
    {
     "data": {
      "image/png": "[encoded data removed]",
      "text/plain": [
       "<Figure size 720x360 with 1 Axes>"
      ]
     },
     "metadata": {
      "needs_background": "light"
     },
     "output_type": "display_data"
    }
   ],
   "source": [
    "lca_resp_plt = sns.histplot(data=lca_df[~lca_df['ResponseText'].isnull()], y='ResponseText', hue='HasMOD', multiple='dodge', stat='probability', shrink=0.80, common_norm=False)\n",
    "lca_resp_plt.axes.set_title(\"Frequencies of Follow-Up to Cancer Signals in EPs of Lung Cancer\", fontsize=20)\n",
    "lca_resp_plt.axes.set_ylabel (\"Type of Follow-Up\", fontsize=14)\n",
    "lca_resp_plt.axes.set_xlabel (\"% of Reviewed True Positive EPs\", fontsize=14)\n",
    "lca_resp_plt.axes.set_xlim ([0, 1])"
   ]
  },
  {
   "cell_type": "markdown",
   "metadata": {
    "heading_collapsed": true,
    "hidden": true
   },
   "source": [
    "#### CRC"
   ]
  },
  {
   "cell_type": "code",
   "execution_count": 43,
   "metadata": {
    "hidden": true
   },
   "outputs": [
    {
     "data": {
      "text/html": [
       "<div>\n",
       "<style scoped>\n",
       "    .dataframe tbody tr th:only-of-type {\n",
       "        vertical-align: middle;\n",
       "    }\n",
       "\n",
       "    .dataframe tbody tr th {\n",
       "        vertical-align: top;\n",
       "    }\n",
       "\n",
       "    .dataframe thead th {\n",
       "        text-align: right;\n",
       "    }\n",
       "</style>\n",
       "<table border=\"1\" class=\"dataframe\">\n",
       "  <thead>\n",
       "    <tr style=\"text-align: right;\">\n",
       "      <th></th>\n",
       "      <th>count</th>\n",
       "    </tr>\n",
       "    <tr>\n",
       "      <th>ResponseText</th>\n",
       "      <th></th>\n",
       "    </tr>\n",
       "  </thead>\n",
       "  <tbody>\n",
       "    <tr>\n",
       "      <th>No signal requiring f/u</th>\n",
       "      <td>0</td>\n",
       "    </tr>\n",
       "    <tr>\n",
       "      <th>Signal not recognized</th>\n",
       "      <td>2</td>\n",
       "    </tr>\n",
       "    <tr>\n",
       "      <th>Signal recognized, f/u not initiated</th>\n",
       "      <td>0</td>\n",
       "    </tr>\n",
       "    <tr>\n",
       "      <th>Signal recognized, OP f/u</th>\n",
       "      <td>13</td>\n",
       "    </tr>\n",
       "    <tr>\n",
       "      <th>Signal recognized, IP f/u</th>\n",
       "      <td>55</td>\n",
       "    </tr>\n",
       "    <tr>\n",
       "      <th>Other</th>\n",
       "      <td>3</td>\n",
       "    </tr>\n",
       "  </tbody>\n",
       "</table>\n",
       "</div>"
      ],
      "text/plain": [
       "                                      count\n",
       "ResponseText                               \n",
       "No signal requiring f/u                   0\n",
       "Signal not recognized                     2\n",
       "Signal recognized, f/u not initiated      0\n",
       "Signal recognized, OP f/u                13\n",
       "Signal recognized, IP f/u                55\n",
       "Other                                     3"
      ]
     },
     "execution_count": 43,
     "metadata": {},
     "output_type": "execute_result"
    }
   ],
   "source": [
    "crc_resp_df = crc_df[crc_df['TrueEP'] == 1].groupby('ResponseText')['TrueEP'].agg(['count'])\n",
    "crc_resp_df"
   ]
  },
  {
   "cell_type": "code",
   "execution_count": 91,
   "metadata": {
    "hidden": true
   },
   "outputs": [
    {
     "data": {
      "text/plain": [
       "(0.0, 1.0)"
      ]
     },
     "execution_count": 91,
     "metadata": {},
     "output_type": "execute_result"
    },
    {
     "data": {
      "image/png": "[encoded data removed]",
      "text/plain": [
       "<Figure size 720x360 with 1 Axes>"
      ]
     },
     "metadata": {
      "needs_background": "light"
     },
     "output_type": "display_data"
    }
   ],
   "source": [
    "crc_resp_plt = sns.histplot(data=crc_df[~crc_df['ResponseText'].isnull()], y='ResponseText', hue='HasMOD', multiple='dodge', stat='probability', shrink=0.80, common_norm=False)\n",
    "crc_resp_plt.axes.set_title(\"Frequencies of Follow-Up to Cancer Signals in EPs of CRC\", fontsize=20)\n",
    "crc_resp_plt.axes.set_ylabel (\"Type of Follow-Up\", fontsize=14)\n",
    "crc_resp_plt.axes.set_xlabel (\"% of Reviewed True Positive EPs\", fontsize=14)\n",
    "crc_resp_plt.axes.set_xlim ([0, 1])"
   ]
  },
  {
   "cell_type": "markdown",
   "metadata": {
    "heading_collapsed": true,
    "hidden": true
   },
   "source": [
    "### Type of Emergency Event"
   ]
  },
  {
   "cell_type": "markdown",
   "metadata": {
    "heading_collapsed": true,
    "hidden": true
   },
   "source": [
    "### Type of EP"
   ]
  },
  {
   "cell_type": "markdown",
   "metadata": {
    "heading_collapsed": true,
    "hidden": true
   },
   "source": [
    "#### LCa"
   ]
  },
  {
   "cell_type": "code",
   "execution_count": 45,
   "metadata": {
    "hidden": true
   },
   "outputs": [
    {
     "data": {
      "text/html": [
       "<div>\n",
       "<style scoped>\n",
       "    .dataframe tbody tr th:only-of-type {\n",
       "        vertical-align: middle;\n",
       "    }\n",
       "\n",
       "    .dataframe tbody tr th {\n",
       "        vertical-align: top;\n",
       "    }\n",
       "\n",
       "    .dataframe thead th {\n",
       "        text-align: right;\n",
       "    }\n",
       "</style>\n",
       "<table border=\"1\" class=\"dataframe\">\n",
       "  <thead>\n",
       "    <tr style=\"text-align: right;\">\n",
       "      <th></th>\n",
       "      <th>count</th>\n",
       "    </tr>\n",
       "    <tr>\n",
       "      <th>TypeEPText</th>\n",
       "      <th></th>\n",
       "    </tr>\n",
       "  </thead>\n",
       "  <tbody>\n",
       "    <tr>\n",
       "      <th>Dx within emergency event</th>\n",
       "      <td>45</td>\n",
       "    </tr>\n",
       "    <tr>\n",
       "      <th>Cancer-related emergency → Related subsequent encounter</th>\n",
       "      <td>20</td>\n",
       "    </tr>\n",
       "    <tr>\n",
       "      <th>Non-cancer-related emergency → Related subsequent encounter</th>\n",
       "      <td>12</td>\n",
       "    </tr>\n",
       "    <tr>\n",
       "      <th>Non-cancer-related emergency → Unrelated subsequent encounter</th>\n",
       "      <td>1</td>\n",
       "    </tr>\n",
       "    <tr>\n",
       "      <th>Other</th>\n",
       "      <td>2</td>\n",
       "    </tr>\n",
       "  </tbody>\n",
       "</table>\n",
       "</div>"
      ],
      "text/plain": [
       "                                                    count\n",
       "TypeEPText                                               \n",
       "Dx within emergency event                              45\n",
       "Cancer-related emergency → Related subsequent e...     20\n",
       "Non-cancer-related emergency → Related subseque...     12\n",
       "Non-cancer-related emergency → Unrelated subseq...      1\n",
       "Other                                                   2"
      ]
     },
     "execution_count": 45,
     "metadata": {},
     "output_type": "execute_result"
    }
   ],
   "source": [
    "lca_typeep_df = lca_df[lca_df['TrueEP'] == 1].groupby('TypeEPText')['TrueEP'].agg(['count'])\n",
    "lca_typeep_df"
   ]
  },
  {
   "cell_type": "code",
   "execution_count": 95,
   "metadata": {
    "hidden": true
   },
   "outputs": [
    {
     "data": {
      "text/plain": [
       "(0.0, 1.0)"
      ]
     },
     "execution_count": 95,
     "metadata": {},
     "output_type": "execute_result"
    },
    {
     "data": {
      "image/png": "[encoded data removed]",
      "text/plain": [
       "<Figure size 720x360 with 1 Axes>"
      ]
     },
     "metadata": {
      "needs_background": "light"
     },
     "output_type": "display_data"
    }
   ],
   "source": [
    "lca_typeep_plt = sns.histplot(data=lca_df[~lca_df['TypeEPText'].isnull()], y='TypeEPText', hue='HasMOD', multiple='dodge', stat='probability', shrink=0.80, common_norm=False)\n",
    "lca_typeep_plt.axes.set_title(\"Types of EPs of LCa\", fontsize=20)\n",
    "lca_typeep_plt.axes.set_ylabel (\"EP Type\", fontsize=14)\n",
    "lca_typeep_plt.axes.set_xlabel (\"% of Reviewed True Positive EPs\", fontsize=14)\n",
    "lca_typeep_plt.axes.set_xlim ([0, 1])"
   ]
  },
  {
   "cell_type": "markdown",
   "metadata": {
    "hidden": true
   },
   "source": [
    "#### CRC"
   ]
  },
  {
   "cell_type": "code",
   "execution_count": 47,
   "metadata": {
    "hidden": true
   },
   "outputs": [
    {
     "data": {
      "text/html": [
       "<div>\n",
       "<style scoped>\n",
       "    .dataframe tbody tr th:only-of-type {\n",
       "        vertical-align: middle;\n",
       "    }\n",
       "\n",
       "    .dataframe tbody tr th {\n",
       "        vertical-align: top;\n",
       "    }\n",
       "\n",
       "    .dataframe thead th {\n",
       "        text-align: right;\n",
       "    }\n",
       "</style>\n",
       "<table border=\"1\" class=\"dataframe\">\n",
       "  <thead>\n",
       "    <tr style=\"text-align: right;\">\n",
       "      <th></th>\n",
       "      <th>count</th>\n",
       "    </tr>\n",
       "    <tr>\n",
       "      <th>TypeEPText</th>\n",
       "      <th></th>\n",
       "    </tr>\n",
       "  </thead>\n",
       "  <tbody>\n",
       "    <tr>\n",
       "      <th>Dx within emergency event</th>\n",
       "      <td>51</td>\n",
       "    </tr>\n",
       "    <tr>\n",
       "      <th>Cancer-related emergency → Related subsequent encounter</th>\n",
       "      <td>12</td>\n",
       "    </tr>\n",
       "    <tr>\n",
       "      <th>Non-cancer-related emergency → Related subsequent encounter</th>\n",
       "      <td>8</td>\n",
       "    </tr>\n",
       "    <tr>\n",
       "      <th>Non-cancer-related emergency → Unrelated subsequent encounter</th>\n",
       "      <td>2</td>\n",
       "    </tr>\n",
       "    <tr>\n",
       "      <th>Other</th>\n",
       "      <td>0</td>\n",
       "    </tr>\n",
       "  </tbody>\n",
       "</table>\n",
       "</div>"
      ],
      "text/plain": [
       "                                                    count\n",
       "TypeEPText                                               \n",
       "Dx within emergency event                              51\n",
       "Cancer-related emergency → Related subsequent e...     12\n",
       "Non-cancer-related emergency → Related subseque...      8\n",
       "Non-cancer-related emergency → Unrelated subseq...      2\n",
       "Other                                                   0"
      ]
     },
     "execution_count": 47,
     "metadata": {},
     "output_type": "execute_result"
    }
   ],
   "source": [
    "crc_typeep_df = crc_df[crc_df['TrueEP'] == 1].groupby('TypeEPText')['TrueEP'].agg(['count'])\n",
    "crc_typeep_df"
   ]
  },
  {
   "cell_type": "code",
   "execution_count": 96,
   "metadata": {
    "hidden": true
   },
   "outputs": [
    {
     "data": {
      "text/plain": [
       "(0.0, 1.0)"
      ]
     },
     "execution_count": 96,
     "metadata": {},
     "output_type": "execute_result"
    },
    {
     "data": {
      "image/png": "[encoded data removed]",
      "text/plain": [
       "<Figure size 720x360 with 1 Axes>"
      ]
     },
     "metadata": {
      "needs_background": "light"
     },
     "output_type": "display_data"
    }
   ],
   "source": [
    "crc_typeep_plt = sns.histplot(data=crc_df[~crc_df['TypeEPText'].isnull()], y='TypeEPText', hue='HasMOD', multiple='dodge', stat='probability', shrink=0.80, common_norm=False)\n",
    "crc_typeep_plt.axes.set_title(\"Types of EPs of CRC\", fontsize=20)\n",
    "crc_typeep_plt.axes.set_ylabel (\"EP Type\", fontsize=14)\n",
    "crc_typeep_plt.axes.set_xlabel (\"% of Reviewed True Positive EPs\", fontsize=14)\n",
    "crc_typeep_plt.axes.set_xlim ([0, 1])"
   ]
  }
 ],
 "metadata": {
  "kernelspec": {
   "display_name": "spademl_01_02",
   "language": "python",
   "name": "spademl_01_02"
  },
  "language_info": {
   "codemirror_mode": {
    "name": "ipython",
    "version": 3
   },
   "file_extension": ".py",
   "mimetype": "text/x-python",
   "name": "python",
   "nbconvert_exporter": "python",
   "pygments_lexer": "ipython3",
   "version": "3.7.9"
  }
 },
 "nbformat": 4,
 "nbformat_minor": 5
}
