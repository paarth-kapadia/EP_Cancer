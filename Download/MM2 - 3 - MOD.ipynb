{
 "cells": [
  {
   "cell_type": "markdown",
   "metadata": {},
   "source": [
    "# MM2 Data Analysis - MOD Incidence + Characteristics"
   ]
  },
  {
   "cell_type": "markdown",
   "metadata": {},
   "source": [
    "## Data Collection Form"
   ]
  },
  {
   "cell_type": "markdown",
   "metadata": {},
   "source": [
    "<img src=\"assets/MOD1.png\"/>"
   ]
  },
  {
   "cell_type": "markdown",
   "metadata": {},
   "source": [
    "<img src=\"assets/MOD2.png\"/>"
   ]
  },
  {
   "cell_type": "markdown",
   "metadata": {},
   "source": [
    "## Imports"
   ]
  },
  {
   "cell_type": "code",
   "execution_count": 1,
   "metadata": {},
   "outputs": [],
   "source": [
    "import math\n",
    "import numpy as np\n",
    "import pandas as pd\n",
    "\n",
    "from lifelines import KaplanMeierFitter\n",
    "from lifelines import CoxPHFitter\n",
    "from lifelines.statistics import logrank_test\n",
    "\n",
    "from datetime import datetime, timedelta\n",
    "import re\n",
    "\n",
    "import matplotlib.pyplot as plt\n",
    "import seaborn as sns"
   ]
  },
  {
   "cell_type": "code",
   "execution_count": 2,
   "metadata": {},
   "outputs": [],
   "source": [
    "pd.set_option('display.max_columns', 50)\n",
    "pd.set_option('display.max_rows', 100)\n",
    "\n",
    "%matplotlib inline\n",
    "plt.rcParams['figure.figsize'] = [10, 5]\n",
    "plt.rc('xtick', labelsize=10) \n",
    "plt.rc('ytick', labelsize=10)"
   ]
  },
  {
   "cell_type": "markdown",
   "metadata": {
    "heading_collapsed": true
   },
   "source": [
    "## Parameters"
   ]
  },
  {
   "cell_type": "code",
   "execution_count": null,
   "metadata": {
    "hidden": true
   },
   "outputs": [],
   "source": []
  },
  {
   "cell_type": "markdown",
   "metadata": {},
   "source": [
    "## Input"
   ]
  },
  {
   "cell_type": "code",
   "execution_count": 3,
   "metadata": {},
   "outputs": [],
   "source": [
    "crc_df = pd.read_csv('Data/mm2_crc_merged.csv', engine='python')\n",
    "crc_df['StudyID'] = crc_df['ï»¿StudyID']\n",
    "crc_df = crc_df.drop('ï»¿StudyID', axis=1)"
   ]
  },
  {
   "cell_type": "code",
   "execution_count": 4,
   "metadata": {},
   "outputs": [],
   "source": [
    "lca_df = pd.read_csv('Data/mm2_lca_merged.csv', engine='python')\n",
    "lca_df['StudyID'] = lca_df['ï»¿StudyID']\n",
    "lca_df = lca_df.drop('ï»¿StudyID', axis=1)"
   ]
  },
  {
   "cell_type": "markdown",
   "metadata": {},
   "source": [
    "## Processing"
   ]
  },
  {
   "cell_type": "code",
   "execution_count": 5,
   "metadata": {},
   "outputs": [],
   "source": [
    "# true EPs are ones where reviewer says it is unplanned, is really first time cancer dx, and there is a cancer signal\n",
    "def is_true_EP (row):\n",
    "    if (row['UnplanVal'] == 'Yes' and row['DxVal'] == 'Yes' and not pd.isnull(row['RelSig'])):\n",
    "        return 1\n",
    "    else:\n",
    "        return 0"
   ]
  },
  {
   "cell_type": "code",
   "execution_count": 6,
   "metadata": {
    "scrolled": true
   },
   "outputs": [],
   "source": [
    "# true EPs are ones where reviewer says it is unplanned, is really first time cancer dx, and there is a cancer signal\n",
    "def is_true_EP (row):\n",
    "    if (row['UnplanVal'] == 'Yes' and row['DxVal'] == 'Yes' and not pd.isnull(row['RelSig'])):\n",
    "        return 1\n",
    "    else:\n",
    "        return 0"
   ]
  },
  {
   "cell_type": "code",
   "execution_count": 7,
   "metadata": {},
   "outputs": [],
   "source": [
    "def response_num_to_text (row):\n",
    "    if (row['RelRespNumerical'] == 1):\n",
    "        return 'No signal requiring f/u'\n",
    "    elif (row['RelRespNumerical'] == 2):\n",
    "        return 'Signal not recognized'\n",
    "    elif (row['RelRespNumerical'] == 3):\n",
    "        return 'Signal recognized, f/u not initiated'\n",
    "    elif (row['RelRespNumerical'] == 4):\n",
    "        return 'Signal recognized, OP f/u'\n",
    "    elif (row['RelRespNumerical'] == 5):\n",
    "        return 'Signal recognized, IP f/u'\n",
    "    elif (row['RelRespNumerical'] == 6):\n",
    "        return 'Other'\n",
    "    #else:\n",
    "        #return 'ERROR'"
   ]
  },
  {
   "cell_type": "code",
   "execution_count": 8,
   "metadata": {},
   "outputs": [],
   "source": [
    "def typeep_num_to_text (row):\n",
    "    if (row['TypeOfEP'] == 1):\n",
    "        return 'Dx within emergency event'\n",
    "    elif (row['TypeOfEP'] == 2):\n",
    "        return 'Cancer-related emergency → Related subsequent encounter'\n",
    "    elif (row['TypeOfEP'] == 3):\n",
    "        return 'Non-cancer-related emergency → Related subsequent encounter'\n",
    "    elif (row['TypeOfEP'] == 4):\n",
    "        return 'Non-cancer-related emergency → Unrelated subsequent encounter'\n",
    "    elif (row['TypeOfEP'] == 5):\n",
    "        return 'Other'\n",
    "    #else:\n",
    "        #return 'ERROR'"
   ]
  },
  {
   "cell_type": "code",
   "execution_count": 9,
   "metadata": {},
   "outputs": [],
   "source": [
    "def parse_datetime1 (row, col):\n",
    "    try:\n",
    "        return datetime.strptime(row[col], '%m/%d/%Y')\n",
    "    except:\n",
    "        return None"
   ]
  },
  {
   "cell_type": "code",
   "execution_count": 10,
   "metadata": {},
   "outputs": [],
   "source": [
    "def parse_datetime2 (row, col):\n",
    "    try:\n",
    "        return datetime.strptime(str(row[col]), '%Y-%m-%d')\n",
    "    except:\n",
    "        return None"
   ]
  },
  {
   "cell_type": "code",
   "execution_count": 11,
   "metadata": {},
   "outputs": [],
   "source": [
    "def is_timedelta_within_threshold (row, col_later, col_earlier, threshold):\n",
    "    try:\n",
    "        delta = (row[col_later] - row[col_earlier]).days\n",
    "        if delta <= threshold:\n",
    "            return 1\n",
    "        else:\n",
    "            return 0\n",
    "    except:\n",
    "        return -1"
   ]
  },
  {
   "cell_type": "code",
   "execution_count": 12,
   "metadata": {},
   "outputs": [],
   "source": [
    "def parse_yesno_1 (row, col):\n",
    "    if (row[col] == 'Yes'):\n",
    "        return 1\n",
    "    else:\n",
    "        return 0"
   ]
  },
  {
   "cell_type": "code",
   "execution_count": 13,
   "metadata": {},
   "outputs": [],
   "source": [
    "def parse_01_1 (row, col):\n",
    "    if (row[col] == 1):\n",
    "        return 1\n",
    "    else:\n",
    "        return 0"
   ]
  },
  {
   "cell_type": "code",
   "execution_count": 14,
   "metadata": {},
   "outputs": [],
   "source": [
    "def check_not_null (row, col):\n",
    "    if not pd.isnull(row[col]):\n",
    "        return 1\n",
    "    else:\n",
    "        return 0"
   ]
  },
  {
   "cell_type": "code",
   "execution_count": 15,
   "metadata": {},
   "outputs": [],
   "source": [
    "# make columns for each individual signal for CRC\n",
    "def get_crc_sig_01 (row):\n",
    "    if ';' in str(row['RelSig']):\n",
    "        for x in str(row['RelSig']).split(';'):\n",
    "            if ('1' in str(x) and not '10' in str(x) and not '11' in str(x) and not '12' in str(x) and not '13' in str(x) and not '14' in str(x)):\n",
    "                return 1\n",
    "        return 0\n",
    "    else:\n",
    "        if ('1' in str(row['RelSig']) and not '10' in str(row['RelSig']) and not '11' in str(row['RelSig']) and not '12' in str(row['RelSig']) and not '13' in str(row['RelSig']) and not '14' in str(row['RelSig'])):\n",
    "            return 1\n",
    "        else:\n",
    "            return 0\n",
    "    \n",
    "def get_crc_sig_02 (row):\n",
    "    if ';' in str(row['RelSig']):\n",
    "        for x in str(row['RelSig']).split(';'):\n",
    "            if ('2' in str(x) and not '12' in str(x)):\n",
    "                return 1\n",
    "        return 0\n",
    "    else:\n",
    "        if ('2' in str(row['RelSig']) and not '12' in str(row['RelSig'])):\n",
    "            return 1\n",
    "        else:\n",
    "            return 0\n",
    "    \n",
    "def get_crc_sig_03 (row):\n",
    "    if ';' in str(row['RelSig']):\n",
    "        for x in str(row['RelSig']).split(';'):\n",
    "            if ('3' in str(x) and not '13' in str(x)):\n",
    "                return 1\n",
    "        return 0\n",
    "    else:\n",
    "        if ('3' in str(row['RelSig']) and not '13' in str(row['RelSig'])):\n",
    "            return 1\n",
    "        else:\n",
    "            return 0\n",
    "    \n",
    "def get_crc_sig_04 (row):\n",
    "    if ';' in str(row['RelSig']):\n",
    "        for x in str(row['RelSig']).split(';'):\n",
    "            if ('4' in str(x) and not '14' in str(x)):\n",
    "                return 1\n",
    "        return 0\n",
    "    else:\n",
    "        if ('4' in str(row['RelSig']) and not '14' in str(row['RelSig'])):\n",
    "            return 1\n",
    "        else:\n",
    "            return 0\n",
    "    \n",
    "def get_crc_sig_05 (row):\n",
    "    if ('5' in str(row['RelSig'])):\n",
    "        return 1\n",
    "    else:\n",
    "        return 0\n",
    "    \n",
    "def get_crc_sig_06 (row):\n",
    "    if ('6' in str(row['RelSig'])):\n",
    "        return 1\n",
    "    else:\n",
    "        return 0\n",
    "    \n",
    "def get_crc_sig_07 (row):\n",
    "    if ('7' in str(row['RelSig'])):\n",
    "        return 1\n",
    "    else:\n",
    "        return 0\n",
    "    \n",
    "def get_crc_sig_08 (row):\n",
    "    if ('8' in str(row['RelSig'])):\n",
    "        return 1\n",
    "    else:\n",
    "        return 0\n",
    "    \n",
    "def get_crc_sig_09 (row):\n",
    "    if ('9' in str(row['RelSig'])):\n",
    "        return 1\n",
    "    else:\n",
    "        return 0\n",
    "    \n",
    "def get_crc_sig_10 (row):\n",
    "    if ('10' in str(row['RelSig'])):\n",
    "        return 1\n",
    "    else:\n",
    "        return 0\n",
    "    \n",
    "def get_crc_sig_11 (row):\n",
    "    if ('11' in str(row['RelSig'])):\n",
    "        return 1\n",
    "    else:\n",
    "        return 0\n",
    "    \n",
    "def get_crc_sig_12 (row):\n",
    "    if ('12' in str(row['RelSig'])):\n",
    "        return 1\n",
    "    else:\n",
    "        return 0\n",
    "    \n",
    "def get_crc_sig_13 (row):\n",
    "    if ('13' in str(row['RelSig'])):\n",
    "        return 1\n",
    "    else:\n",
    "        return 0\n",
    "    \n",
    "def get_crc_sig_14 (row):\n",
    "    if ('14' in str(row['RelSig'])):\n",
    "        return 1\n",
    "    else:\n",
    "        return 0"
   ]
  },
  {
   "cell_type": "code",
   "execution_count": 16,
   "metadata": {},
   "outputs": [],
   "source": [
    "# make columns for each individual signal for LCa\n",
    "def get_lca_sig_01 (row):\n",
    "    if ';' in str(row['RelSig']):\n",
    "        for x in str(row['RelSig']).split(';'):\n",
    "            if ('1' in str(x) and not '10' in str(x) and not '11' in str(x) and not '12' in str(x) and not '13' in str(x) and not '14' in str(x)):\n",
    "                return 1\n",
    "        return 0\n",
    "    else:\n",
    "        if ('1' in str(row['RelSig']) and not '10' in str(row['RelSig']) and not '11' in str(row['RelSig']) and not '12' in str(row['RelSig']) and not '13' in str(row['RelSig']) and not '14' in str(row['RelSig'])):\n",
    "            return 1\n",
    "        else:\n",
    "            return 0\n",
    "    \n",
    "def get_lca_sig_02 (row):\n",
    "    if ('2' in str(row['RelSig'])):\n",
    "        return 1\n",
    "    else:\n",
    "        return 0\n",
    "    \n",
    "def get_lca_sig_03 (row):\n",
    "    if ('3' in str(row['RelSig'])):\n",
    "        return 1\n",
    "    else:\n",
    "        return 0\n",
    "    \n",
    "def get_lca_sig_04 (row):\n",
    "    if ('4' in str(row['RelSig'])):\n",
    "        return 1\n",
    "    else:\n",
    "        return 0\n",
    "    \n",
    "def get_lca_sig_05 (row):\n",
    "    if ('5' in str(row['RelSig'])):\n",
    "        return 1\n",
    "    else:\n",
    "        return 0\n",
    "    \n",
    "def get_lca_sig_06 (row):\n",
    "    if ('6' in str(row['RelSig'])):\n",
    "        return 1\n",
    "    else:\n",
    "        return 0\n",
    "    \n",
    "def get_lca_sig_07 (row):\n",
    "    if ('7' in str(row['RelSig'])):\n",
    "        return 1\n",
    "    else:\n",
    "        return 0\n",
    "    \n",
    "def get_lca_sig_08 (row):\n",
    "    if ('8' in str(row['RelSig'])):\n",
    "        return 1\n",
    "    else:\n",
    "        return 0\n",
    "    \n",
    "def get_lca_sig_09 (row):\n",
    "    if ('9' in str(row['RelSig'])):\n",
    "        return 1\n",
    "    else:\n",
    "        return 0\n",
    "    \n",
    "def get_lca_sig_10 (row):\n",
    "    if ('10' in str(row['RelSig'])):\n",
    "        return 1\n",
    "    else:\n",
    "        return 0"
   ]
  },
  {
   "cell_type": "code",
   "execution_count": 17,
   "metadata": {},
   "outputs": [],
   "source": [
    "# make columns for each individual RF for CRC\n",
    "def get_crc_redf_01 (row):\n",
    "    if ';' in str(row['RFInitialRF']):\n",
    "        for x in str(row['RFInitialRF']).split(';'):\n",
    "            if ('1' in str(x) and not '10' in str(x) and not '11' in str(x) and not '12' in str(x) and not '13' in str(x) and not '14' in str(x)):\n",
    "                return 1\n",
    "        return 0\n",
    "    else:\n",
    "        if ('1' in str(row['RFInitialRF']) and not '10' in str(row['RFInitialRF']) and not '11' in str(row['RFInitialRF']) and not '12' in str(row['RFInitialRF']) and not '13' in str(row['RFInitialRF']) and not '14' in str(row['RFInitialRF'])):\n",
    "            return 1\n",
    "        else:\n",
    "            return 0\n",
    "    \n",
    "def get_crc_redf_02 (row):\n",
    "    if ';' in str(row['RFInitialRF']):\n",
    "        for x in str(row['RFInitialRF']).split(';'):\n",
    "            if ('2' in str(x) and not '12' in str(x)):\n",
    "                return 1\n",
    "        return 0\n",
    "    else:\n",
    "        if ('2' in str(row['RFInitialRF']) and not '12' in str(row['RFInitialRF'])):\n",
    "            return 1\n",
    "        else:\n",
    "            return 0\n",
    "    \n",
    "def get_crc_redf_03 (row):\n",
    "    if ';' in str(row['RFInitialRF']):\n",
    "        for x in str(row['RFInitialRF']).split(';'):\n",
    "            if ('3' in str(x) and not '13' in str(x)):\n",
    "                return 1\n",
    "        return 0\n",
    "    else:\n",
    "        if ('3' in str(row['RFInitialRF']) and not '13' in str(row['RFInitialRF'])):\n",
    "            return 1\n",
    "        else:\n",
    "            return 0\n",
    "    \n",
    "def get_crc_redf_04 (row):\n",
    "    if ';' in str(row['RFInitialRF']):\n",
    "        for x in str(row['RFInitialRF']).split(';'):\n",
    "            if ('4' in str(x) and not '14' in str(x)):\n",
    "                return 1\n",
    "        return 0\n",
    "    else:\n",
    "        if ('4' in str(row['RFInitialRF']) and not '14' in str(row['RFInitialRF'])):\n",
    "            return 1\n",
    "        else:\n",
    "            return 0\n",
    "    \n",
    "def get_crc_redf_05 (row):\n",
    "    if ('5' in str(row['RFInitialRF'])):\n",
    "        return 1\n",
    "    else:\n",
    "        return 0\n",
    "    \n",
    "def get_crc_redf_06 (row):\n",
    "    if ('6' in str(row['RFInitialRF'])):\n",
    "        return 1\n",
    "    else:\n",
    "        return 0\n",
    "    \n",
    "def get_crc_redf_07 (row):\n",
    "    if ('7' in str(row['RFInitialRF'])):\n",
    "        return 1\n",
    "    else:\n",
    "        return 0\n",
    "    \n",
    "def get_crc_redf_08 (row):\n",
    "    if ('8' in str(row['RFInitialRF'])):\n",
    "        return 1\n",
    "    else:\n",
    "        return 0\n",
    "    \n",
    "def get_crc_redf_09 (row):\n",
    "    if ('9' in str(row['RFInitialRF'])):\n",
    "        return 1\n",
    "    else:\n",
    "        return 0\n",
    "    \n",
    "def get_crc_redf_10 (row):\n",
    "    if ('10' in str(row['RFInitialRF'])):\n",
    "        return 1\n",
    "    else:\n",
    "        return 0\n",
    "    \n",
    "def get_crc_redf_11 (row):\n",
    "    if ('11' in str(row['RFInitialRF'])):\n",
    "        return 1\n",
    "    else:\n",
    "        return 0\n",
    "    \n",
    "def get_crc_redf_12 (row):\n",
    "    if ('12' in str(row['RFInitialRF'])):\n",
    "        return 1\n",
    "    else:\n",
    "        return 0\n",
    "    \n",
    "def get_crc_redf_13 (row):\n",
    "    if ('13' in str(row['RFInitialRF'])):\n",
    "        return 1\n",
    "    else:\n",
    "        return 0\n",
    "    \n",
    "def get_crc_redf_14 (row):\n",
    "    if ('14' in str(row['RFInitialRF'])):\n",
    "        return 1\n",
    "    else:\n",
    "        return 0"
   ]
  },
  {
   "cell_type": "code",
   "execution_count": 18,
   "metadata": {},
   "outputs": [],
   "source": [
    "# make columns for each individual signal for LCa\n",
    "def get_lca_redf_01 (row):\n",
    "    if ';' in str(row['RFInitialRF']):\n",
    "        for x in str(row['RFInitialRF']).split(';'):\n",
    "            if ('1' in str(x) and not '10' in str(x) and not '11' in str(x) and not '12' in str(x) and not '13' in str(x) and not '14' in str(x)):\n",
    "                return 1\n",
    "        return 0\n",
    "    else:\n",
    "        if ('1' in str(row['RFInitialRF']) and not '10' in str(row['RFInitialRF']) and not '11' in str(row['RFInitialRF']) and not '12' in str(row['RFInitialRF']) and not '13' in str(row['RFInitialRF']) and not '14' in str(row['RFInitialRF'])):\n",
    "            return 1\n",
    "        else:\n",
    "            return 0\n",
    "    \n",
    "def get_lca_redf_02 (row):\n",
    "    if ('2' in str(row['RFInitialRF'])):\n",
    "        return 1\n",
    "    else:\n",
    "        return 0\n",
    "    \n",
    "def get_lca_redf_03 (row):\n",
    "    if ('3' in str(row['RFInitialRF'])):\n",
    "        return 1\n",
    "    else:\n",
    "        return 0\n",
    "    \n",
    "def get_lca_redf_04 (row):\n",
    "    if ('4' in str(row['RFInitialRF'])):\n",
    "        return 1\n",
    "    else:\n",
    "        return 0\n",
    "    \n",
    "def get_lca_redf_05 (row):\n",
    "    if ('5' in str(row['RFInitialRF'])):\n",
    "        return 1\n",
    "    else:\n",
    "        return 0\n",
    "    \n",
    "def get_lca_redf_06 (row):\n",
    "    if ('6' in str(row['RFInitialRF'])):\n",
    "        return 1\n",
    "    else:\n",
    "        return 0\n",
    "    \n",
    "def get_lca_redf_07 (row):\n",
    "    if ('7' in str(row['RFInitialRF'])):\n",
    "        return 1\n",
    "    else:\n",
    "        return 0\n",
    "    \n",
    "def get_lca_redf_08 (row):\n",
    "    if ('8' in str(row['RFInitialRF'])):\n",
    "        return 1\n",
    "    else:\n",
    "        return 0\n",
    "    \n",
    "def get_lca_redf_09 (row):\n",
    "    if ('9' in str(row['RFInitialRF'])):\n",
    "        return 1\n",
    "    else:\n",
    "        return 0\n",
    "    \n",
    "def get_lca_redf_10 (row):\n",
    "    if ('10' in str(row['RFInitialRF'])):\n",
    "        return 1\n",
    "    else:\n",
    "        return 0"
   ]
  },
  {
   "cell_type": "code",
   "execution_count": 19,
   "metadata": {},
   "outputs": [],
   "source": [
    "def get_column_stats(col, mean_col, df):\n",
    "    df_stats = df[col].agg(['mean', 'std', 'count'])\n",
    "    \n",
    "    df_stats['ci95_hi'] = (df_stats['mean'] + 1.96 * df_stats['std']/math.sqrt(df_stats['count'])) * 100\n",
    "    df_stats['ci95_lo'] = (df_stats['mean'] - 1.96 * df_stats['std']/math.sqrt(df_stats['count'])) * 100\n",
    "    df_stats[mean_col] = df_stats['mean'] * 100\n",
    "    \n",
    "    return df_stats"
   ]
  },
  {
   "cell_type": "markdown",
   "metadata": {},
   "source": [
    "### Apply"
   ]
  },
  {
   "cell_type": "code",
   "execution_count": 20,
   "metadata": {},
   "outputs": [],
   "source": [
    "crc_df['TrueEP'] = crc_df.apply(lambda row: is_true_EP(row), axis=1)\n",
    "lca_df['TrueEP'] = lca_df.apply(lambda row: is_true_EP(row), axis=1)"
   ]
  },
  {
   "cell_type": "code",
   "execution_count": 21,
   "metadata": {},
   "outputs": [],
   "source": [
    "crc_df['ResponseText'] = crc_df.apply(lambda row: response_num_to_text(row), axis=1)\n",
    "crc_df['ResponseText'] = pd.Categorical(crc_df['ResponseText'], categories=['No signal requiring f/u', 'Signal not recognized', 'Signal recognized, f/u not initiated', 'Signal recognized, OP f/u', 'Signal recognized, IP f/u', 'Other'], ordered=True)\n",
    "lca_df['ResponseText'] = lca_df.apply(lambda row: response_num_to_text(row), axis=1)\n",
    "lca_df['ResponseText'] = pd.Categorical(lca_df['ResponseText'], categories=['No signal requiring f/u', 'Signal not recognized', 'Signal recognized, f/u not initiated', 'Signal recognized, OP f/u', 'Signal recognized, IP f/u', 'Other'], ordered=True)"
   ]
  },
  {
   "cell_type": "code",
   "execution_count": 22,
   "metadata": {},
   "outputs": [],
   "source": [
    "crc_df['TypeEPText'] = crc_df.apply(lambda row: typeep_num_to_text(row), axis=1)\n",
    "crc_df['TypeEPText'] = pd.Categorical(crc_df['TypeEPText'], categories=['Dx within emergency event', 'Cancer-related emergency → Related subsequent encounter', 'Non-cancer-related emergency → Related subsequent encounter', 'Non-cancer-related emergency → Unrelated subsequent encounter', 'Other'], ordered=True)\n",
    "lca_df['TypeEPText'] = lca_df.apply(lambda row: typeep_num_to_text(row), axis=1)\n",
    "lca_df['TypeEPText'] = pd.Categorical(lca_df['TypeEPText'], categories=['Dx within emergency event', 'Cancer-related emergency → Related subsequent encounter', 'Non-cancer-related emergency → Related subsequent encounter', 'Non-cancer-related emergency → Unrelated subsequent encounter', 'Other'], ordered=True)"
   ]
  },
  {
   "cell_type": "code",
   "execution_count": 23,
   "metadata": {},
   "outputs": [],
   "source": [
    "crc_df['ScreeningTestDateTime'] = crc_df.apply(lambda row: parse_datetime1(row, 'DiagnosticTestDate'), axis=1)\n",
    "lca_df['ScreeningTestDateTime'] = lca_df.apply(lambda row: parse_datetime2(row, 'DiagnosticTestDate'), axis=1)\n",
    "crc_df['DiagnosisDateTime'] = crc_df.apply(lambda row: parse_datetime2(row, 'DiagnosticEventDateTime'), axis=1)\n",
    "lca_df['DiagnosisDateTime'] = lca_df.apply(lambda row: parse_datetime2(row, 'DiagnosticEventDateTime'), axis=1)\n",
    "\n",
    "crc_df['ScreeningUpToDate'] = crc_df.apply(lambda row: is_timedelta_within_threshold(row, 'DiagnosisDateTime', 'ScreeningTestDateTime', 3650), axis=1)\n",
    "lca_df['ScreeningUpToDate'] = lca_df.apply(lambda row: is_timedelta_within_threshold(row, 'DiagnosisDateTime', 'ScreeningTestDateTime', 3650), axis=1)"
   ]
  },
  {
   "cell_type": "code",
   "execution_count": 24,
   "metadata": {},
   "outputs": [],
   "source": [
    "crc_df['RFPriorToDx'] = crc_df.apply(lambda row: parse_yesno_1(row, 'RFYesNo'), axis=1)\n",
    "# lung cancer is already in 1 0 format\n",
    "lca_df['RFPriorToDx'] = lca_df.apply(lambda row: parse_01_1(row, 'RFYesNo'), axis=1)"
   ]
  },
  {
   "cell_type": "code",
   "execution_count": 25,
   "metadata": {},
   "outputs": [],
   "source": [
    "crc_df['HasMOD'] = crc_df.apply(lambda row: parse_yesno_1(row, 'DxMOD'), axis=1)\n",
    "# lung cancer is already in 1 0 format\n",
    "lca_df['HasMOD'] = lca_df.apply(lambda row: parse_01_1(row, 'DxMOD'), axis=1)"
   ]
  },
  {
   "cell_type": "code",
   "execution_count": 26,
   "metadata": {},
   "outputs": [],
   "source": [
    "crc_df['DimensionPtRelated_Parsed'] = crc_df.apply(lambda row: check_not_null(row, 'DimensionPtRelated'), axis=1)\n",
    "crc_df['DimensionPtProvEncounter_Parsed'] = crc_df.apply(lambda row: check_not_null(row, 'DimensionPtProvEncounter'), axis=1)\n",
    "crc_df['DimensionDxTests_Parsed'] = crc_df.apply(lambda row: check_not_null(row, 'DimensionDxTests'), axis=1)\n",
    "crc_df['DimensionFupTrack_Parsed'] = crc_df.apply(lambda row: check_not_null(row, 'DimensionFupTrack'), axis=1)\n",
    "crc_df['DimensionReferrals_Parsed'] = crc_df.apply(lambda row: check_not_null(row, 'DimensionReferrals'), axis=1)\n",
    "\n",
    "lca_df['DimensionPtRelated_Parsed'] = lca_df.apply(lambda row: check_not_null(row, 'DimensionPtRelated'), axis=1)\n",
    "lca_df['DimensionPtProvEncounter_Parsed'] = lca_df.apply(lambda row: check_not_null(row, 'DimensionPtProvEncounter'), axis=1)\n",
    "lca_df['DimensionDxTests_Parsed'] = lca_df.apply(lambda row: check_not_null(row, 'DimensionDxTests'), axis=1)\n",
    "lca_df['DimensionFupTrack_Parsed'] = lca_df.apply(lambda row: check_not_null(row, 'DimensionFupTrack'), axis=1)\n",
    "lca_df['DimensionReferrals_Parsed'] = lca_df.apply(lambda row: check_not_null(row, 'DimensionReferrals'), axis=1)"
   ]
  },
  {
   "cell_type": "code",
   "execution_count": 27,
   "metadata": {},
   "outputs": [],
   "source": [
    "crc_df['Signal_IDA'] = crc_df.apply(lambda row: get_crc_sig_01(row), axis=1)\n",
    "crc_df['Signal_Obstruction'] = crc_df.apply(lambda row: get_crc_sig_02(row), axis=1)\n",
    "crc_df['Signal_BloodyStool'] = crc_df.apply(lambda row: get_crc_sig_03(row), axis=1)\n",
    "crc_df['Signal_AbdMass'] = crc_df.apply(lambda row: get_crc_sig_04(row), axis=1)\n",
    "crc_df['Signal_RectMass'] = crc_df.apply(lambda row: get_crc_sig_05(row), axis=1)\n",
    "crc_df['Signal_StoolCaliber'] = crc_df.apply(lambda row: get_crc_sig_06(row), axis=1)\n",
    "crc_df['Signal_CScope'] = crc_df.apply(lambda row: get_crc_sig_07(row), axis=1)\n",
    "crc_df['Signal_FOBT'] = crc_df.apply(lambda row: get_crc_sig_08(row), axis=1)\n",
    "crc_df['Signal_FlexSig'] = crc_df.apply(lambda row: get_crc_sig_09(row), axis=1)\n",
    "crc_df['Signal_Enema'] = crc_df.apply(lambda row: get_crc_sig_10(row), axis=1)\n",
    "crc_df['Signal_CT'] = crc_df.apply(lambda row: get_crc_sig_11(row), axis=1)\n",
    "crc_df['Signal_FamHx'] = crc_df.apply(lambda row: get_crc_sig_12(row), axis=1)\n",
    "crc_df['Signal_MassExam'] = crc_df.apply(lambda row: get_crc_sig_13(row), axis=1)\n",
    "crc_df['Signal_Other'] = crc_df.apply(lambda row: get_crc_sig_14(row), axis=1)"
   ]
  },
  {
   "cell_type": "code",
   "execution_count": 28,
   "metadata": {},
   "outputs": [],
   "source": [
    "lca_df['Signal_Cough'] = lca_df.apply(lambda row: get_lca_sig_01(row), axis=1)\n",
    "lca_df['Signal_Dyspnea'] = lca_df.apply(lambda row: get_lca_sig_02(row), axis=1)\n",
    "lca_df['Signal_ChestPain'] = lca_df.apply(lambda row: get_lca_sig_03(row), axis=1)\n",
    "lca_df['Signal_Hemoptysis'] = lca_df.apply(lambda row: get_lca_sig_04(row), axis=1)\n",
    "lca_df['Signal_LRTI'] = lca_df.apply(lambda row: get_lca_sig_05(row), axis=1)\n",
    "lca_df['Signal_Imaging'] = lca_df.apply(lambda row: get_lca_sig_06(row), axis=1)\n",
    "lca_df['Signal_Paraneoplastic'] = lca_df.apply(lambda row: get_lca_sig_07(row), axis=1)\n",
    "lca_df['Signal_Hoarse'] = lca_df.apply(lambda row: get_lca_sig_08(row), axis=1)\n",
    "lca_df['Signal_WtLoss'] = lca_df.apply(lambda row: get_lca_sig_09(row), axis=1)\n",
    "lca_df['Signal_Other'] = lca_df.apply(lambda row: get_lca_sig_10(row), axis=1)"
   ]
  },
  {
   "cell_type": "code",
   "execution_count": 29,
   "metadata": {},
   "outputs": [],
   "source": [
    "crc_df['Redf_IDA'] = crc_df.apply(lambda row: get_crc_redf_01(row), axis=1)\n",
    "crc_df['Redf_Obstruction'] = crc_df.apply(lambda row: get_crc_redf_02(row), axis=1)\n",
    "crc_df['Redf_BloodyStool'] = crc_df.apply(lambda row: get_crc_redf_03(row), axis=1)\n",
    "crc_df['Redf_AbdMass'] = crc_df.apply(lambda row: get_crc_redf_04(row), axis=1)\n",
    "crc_df['Redf_RectMass'] = crc_df.apply(lambda row: get_crc_redf_05(row), axis=1)\n",
    "crc_df['Redf_StoolCaliber'] = crc_df.apply(lambda row: get_crc_redf_06(row), axis=1)\n",
    "crc_df['Redf_CScope'] = crc_df.apply(lambda row: get_crc_redf_07(row), axis=1)\n",
    "crc_df['Redf_FOBT'] = crc_df.apply(lambda row: get_crc_redf_08(row), axis=1)\n",
    "crc_df['Redf_FlexSig'] = crc_df.apply(lambda row: get_crc_redf_09(row), axis=1)\n",
    "crc_df['Redf_Enema'] = crc_df.apply(lambda row: get_crc_redf_10(row), axis=1)\n",
    "crc_df['Redf_CT'] = crc_df.apply(lambda row: get_crc_redf_11(row), axis=1)\n",
    "crc_df['Redf_FamHx'] = crc_df.apply(lambda row: get_crc_redf_12(row), axis=1)\n",
    "crc_df['Redf_MassExam'] = crc_df.apply(lambda row: get_crc_redf_13(row), axis=1)\n",
    "crc_df['Redf_Other'] = crc_df.apply(lambda row: get_crc_redf_14(row), axis=1)"
   ]
  },
  {
   "cell_type": "code",
   "execution_count": 30,
   "metadata": {},
   "outputs": [],
   "source": [
    "lca_df['Redf_Cough'] = lca_df.apply(lambda row: get_lca_redf_01(row), axis=1)\n",
    "lca_df['Redf_Dyspnea'] = lca_df.apply(lambda row: get_lca_redf_02(row), axis=1)\n",
    "lca_df['Redf_ChestPain'] = lca_df.apply(lambda row: get_lca_redf_03(row), axis=1)\n",
    "lca_df['Redf_Hemoptysis'] = lca_df.apply(lambda row: get_lca_redf_04(row), axis=1)\n",
    "lca_df['Redf_LRTI'] = lca_df.apply(lambda row: get_lca_redf_05(row), axis=1)\n",
    "lca_df['Redf_Imaging'] = lca_df.apply(lambda row: get_lca_redf_06(row), axis=1)\n",
    "lca_df['Redf_Paraneoplastic'] = lca_df.apply(lambda row: get_lca_redf_07(row), axis=1)\n",
    "lca_df['Redf_Hoarse'] = lca_df.apply(lambda row: get_lca_redf_08(row), axis=1)\n",
    "lca_df['Redf_WtLoss'] = lca_df.apply(lambda row: get_lca_redf_09(row), axis=1)\n",
    "lca_df['Redf_Other'] = lca_df.apply(lambda row: get_lca_redf_10(row), axis=1)"
   ]
  },
  {
   "cell_type": "code",
   "execution_count": 31,
   "metadata": {},
   "outputs": [],
   "source": [
    "lca_dim_master = pd.DataFrame(columns=['Dimension', 'True EP', 'True MOD', 'PatientSSN'])\n",
    "\n",
    "for x in lca_df.index:\n",
    "    if lca_df.loc[x]['DimensionPtRelated_Parsed'] == 1:\n",
    "        lca_dim_master.loc[len(lca_dim_master.index)] = ['Patient-Related', lca_df.loc[x]['TrueEP'], lca_df.loc[x]['HasMOD'], lca_df.loc[x]['PatientSSN']]\n",
    "    if lca_df.loc[x]['DimensionPtProvEncounter_Parsed'] == 1:\n",
    "        lca_dim_master.loc[len(lca_dim_master.index)] = ['Patient-Provider Encounter', lca_df.loc[x]['TrueEP'], lca_df.loc[x]['HasMOD'], lca_df.loc[x]['PatientSSN']]\n",
    "    if lca_df.loc[x]['DimensionDxTests_Parsed'] == 1:\n",
    "        lca_dim_master.loc[len(lca_dim_master.index)] = ['Diagnostic Testing', lca_df.loc[x]['TrueEP'], lca_df.loc[x]['HasMOD'], lca_df.loc[x]['PatientSSN']]\n",
    "    if lca_df.loc[x]['DimensionFupTrack_Parsed'] == 1:\n",
    "        lca_dim_master.loc[len(lca_dim_master.index)] = ['Follow-Up and Tracking', lca_df.loc[x]['TrueEP'], lca_df.loc[x]['HasMOD'], lca_df.loc[x]['PatientSSN']]\n",
    "    if lca_df.loc[x]['DimensionReferrals_Parsed'] == 1:\n",
    "        lca_dim_master.loc[len(lca_dim_master.index)] = ['Referrals', lca_df.loc[x]['TrueEP'], lca_df.loc[x]['HasMOD'], lca_df.loc[x]['PatientSSN']]"
   ]
  },
  {
   "cell_type": "code",
   "execution_count": 32,
   "metadata": {},
   "outputs": [],
   "source": [
    "crc_dim_master = pd.DataFrame(columns=['Dimension', 'True EP', 'True MOD', 'PatientSSN'])\n",
    "\n",
    "for x in crc_df.index:\n",
    "    if crc_df.loc[x]['DimensionPtRelated_Parsed'] == 1:\n",
    "        crc_dim_master.loc[len(crc_dim_master.index)] = ['Patient-Related', crc_df.loc[x]['TrueEP'], crc_df.loc[x]['HasMOD'], crc_df.loc[x]['PatientSSN']]\n",
    "    if crc_df.loc[x]['DimensionPtProvEncounter_Parsed'] == 1:\n",
    "        crc_dim_master.loc[len(crc_dim_master.index)] = ['Patient-Provider Encounter', crc_df.loc[x]['TrueEP'], crc_df.loc[x]['HasMOD'], crc_df.loc[x]['PatientSSN']]\n",
    "    if crc_df.loc[x]['DimensionDxTests_Parsed'] == 1:\n",
    "        crc_dim_master.loc[len(crc_dim_master.index)] = ['Diagnostic Testing', crc_df.loc[x]['TrueEP'], crc_df.loc[x]['HasMOD'], crc_df.loc[x]['PatientSSN']]\n",
    "    if crc_df.loc[x]['DimensionFupTrack_Parsed'] == 1:\n",
    "        crc_dim_master.loc[len(crc_dim_master.index)] = ['Follow-Up and Tracking', crc_df.loc[x]['TrueEP'], crc_df.loc[x]['HasMOD'], crc_df.loc[x]['PatientSSN']]\n",
    "    if crc_df.loc[x]['DimensionReferrals_Parsed'] == 1:\n",
    "        crc_dim_master.loc[len(crc_dim_master.index)] = ['Referrals', crc_df.loc[x]['TrueEP'], crc_df.loc[x]['HasMOD'], crc_df.loc[x]['PatientSSN']]"
   ]
  },
  {
   "cell_type": "code",
   "execution_count": 33,
   "metadata": {},
   "outputs": [],
   "source": [
    "lca_dim_master['Cancer'] = 'Lung'\n",
    "crc_dim_master['Cancer'] = 'Colorectal'\n",
    "\n",
    "both_dim_master = pd.concat([crc_dim_master, lca_dim_master], axis=0).reset_index()"
   ]
  },
  {
   "cell_type": "code",
   "execution_count": 34,
   "metadata": {
    "scrolled": true
   },
   "outputs": [],
   "source": [
    "lca_sig_master = pd.DataFrame(columns=['Signal', 'True EP', 'True MOD'])\n",
    "\n",
    "for x in lca_df.index:\n",
    "    if lca_df.loc[x]['Signal_Cough'] == 1:\n",
    "        lca_sig_master.loc[len(lca_sig_master.index)] = ['Cough', lca_df.loc[x]['TrueEP'], lca_df.loc[x]['HasMOD']]\n",
    "    if lca_df.loc[x]['Signal_Dyspnea'] == 1:\n",
    "        lca_sig_master.loc[len(lca_sig_master.index)] = ['Dyspnea', lca_df.loc[x]['TrueEP'], lca_df.loc[x]['HasMOD']]\n",
    "    if lca_df.loc[x]['Signal_ChestPain'] == 1:\n",
    "        lca_sig_master.loc[len(lca_sig_master.index)] = ['Chest Pain', lca_df.loc[x]['TrueEP'], lca_df.loc[x]['HasMOD']]\n",
    "    if lca_df.loc[x]['Signal_Hemoptysis'] == 1:\n",
    "        lca_sig_master.loc[len(lca_sig_master.index)] = ['Hemoptysis', lca_df.loc[x]['TrueEP'], lca_df.loc[x]['HasMOD']]\n",
    "    if lca_df.loc[x]['Signal_LRTI'] == 1:\n",
    "        lca_sig_master.loc[len(lca_sig_master.index)] = ['LRTI', lca_df.loc[x]['TrueEP'], lca_df.loc[x]['HasMOD']]\n",
    "    if lca_df.loc[x]['Signal_Imaging'] == 1:\n",
    "        lca_sig_master.loc[len(lca_sig_master.index)] = ['Imaging', lca_df.loc[x]['TrueEP'], lca_df.loc[x]['HasMOD']]\n",
    "    if lca_df.loc[x]['Signal_Paraneoplastic'] == 1:\n",
    "        lca_sig_master.loc[len(lca_sig_master.index)] = ['Hoarse', lca_df.loc[x]['TrueEP'], lca_df.loc[x]['HasMOD']]\n",
    "    if lca_df.loc[x]['Signal_Hoarse'] == 1:\n",
    "        lca_sig_master.loc[len(lca_sig_master.index)] = ['Hoarse', lca_df.loc[x]['TrueEP'], lca_df.loc[x]['HasMOD']]\n",
    "    if lca_df.loc[x]['Signal_WtLoss'] == 1:\n",
    "        lca_sig_master.loc[len(lca_sig_master.index)] = ['Weight Loss', lca_df.loc[x]['TrueEP'], lca_df.loc[x]['HasMOD']]\n",
    "    if lca_df.loc[x]['Signal_Other'] == 1:\n",
    "        lca_sig_master.loc[len(lca_sig_master.index)] = ['Other', lca_df.loc[x]['TrueEP'], lca_df.loc[x]['HasMOD']]\n",
    "    if lca_df.loc[x]['Signal_Cough'] == 1:\n",
    "        lca_sig_master.loc[len(lca_sig_master.index)] = ['Cough', lca_df.loc[x]['TrueEP'], lca_df.loc[x]['HasMOD']]\n",
    "    "
   ]
  },
  {
   "cell_type": "code",
   "execution_count": 35,
   "metadata": {},
   "outputs": [],
   "source": [
    "crc_sig_master = pd.DataFrame(columns=['Signal', 'True EP', 'True MOD'])\n",
    "\n",
    "for x in crc_df.index:\n",
    "    if crc_df.loc[x]['Signal_IDA'] == 1:\n",
    "        crc_sig_master.loc[len(crc_sig_master.index)] = ['IDA', crc_df.loc[x]['TrueEP'], crc_df.loc[x]['HasMOD']]\n",
    "    if crc_df.loc[x]['Signal_Obstruction'] == 1:\n",
    "        crc_sig_master.loc[len(crc_sig_master.index)] = ['Obstruction', crc_df.loc[x]['TrueEP'], crc_df.loc[x]['HasMOD']]\n",
    "    if crc_df.loc[x]['Signal_BloodyStool'] == 1:\n",
    "        crc_sig_master.loc[len(crc_sig_master.index)] = ['Bloody Stool', crc_df.loc[x]['TrueEP'], crc_df.loc[x]['HasMOD']]\n",
    "    if crc_df.loc[x]['Signal_AbdMass'] == 1:\n",
    "        crc_sig_master.loc[len(crc_sig_master.index)] = ['Abdominal Mass', crc_df.loc[x]['TrueEP'], crc_df.loc[x]['HasMOD']]\n",
    "    if crc_df.loc[x]['Signal_RectMass'] == 1:\n",
    "        crc_sig_master.loc[len(crc_sig_master.index)] = ['Rectal Mass', crc_df.loc[x]['TrueEP'], crc_df.loc[x]['HasMOD']]\n",
    "    if crc_df.loc[x]['Signal_StoolCaliber'] == 1:\n",
    "        crc_sig_master.loc[len(crc_sig_master.index)] = ['Stool Caliber', crc_df.loc[x]['TrueEP'], crc_df.loc[x]['HasMOD']]\n",
    "    if crc_df.loc[x]['Signal_CScope'] == 1:\n",
    "        crc_sig_master.loc[len(crc_sig_master.index)] = ['Colonoscopy', crc_df.loc[x]['TrueEP'], crc_df.loc[x]['HasMOD']]\n",
    "    if crc_df.loc[x]['Signal_FOBT'] == 1:\n",
    "        crc_sig_master.loc[len(crc_sig_master.index)] = ['FOBT', crc_df.loc[x]['TrueEP'], crc_df.loc[x]['HasMOD']]\n",
    "    if crc_df.loc[x]['Signal_FlexSig'] == 1:\n",
    "        crc_sig_master.loc[len(crc_sig_master.index)] = ['Flexible Sigmoidoscopy', crc_df.loc[x]['TrueEP'], crc_df.loc[x]['HasMOD']]\n",
    "    if crc_df.loc[x]['Signal_Enema'] == 1:\n",
    "        crc_sig_master.loc[len(crc_sig_master.index)] = ['Barium Enema', crc_df.loc[x]['TrueEP'], crc_df.loc[x]['HasMOD']]\n",
    "    if crc_df.loc[x]['Signal_CT'] == 1:\n",
    "        crc_sig_master.loc[len(crc_sig_master.index)] = ['CT Finding', crc_df.loc[x]['TrueEP'], crc_df.loc[x]['HasMOD']]\n",
    "    if crc_df.loc[x]['Signal_FamHx'] == 1:\n",
    "        crc_sig_master.loc[len(crc_sig_master.index)] = ['Family History', crc_df.loc[x]['TrueEP'], crc_df.loc[x]['HasMOD']]\n",
    "    if crc_df.loc[x]['Signal_MassExam'] == 1:\n",
    "        crc_sig_master.loc[len(crc_sig_master.index)] = ['Mass on Examination', crc_df.loc[x]['TrueEP'], crc_df.loc[x]['HasMOD']]\n",
    "    if crc_df.loc[x]['Signal_Other'] == 1:\n",
    "        crc_sig_master.loc[len(crc_sig_master.index)] = ['Other', crc_df.loc[x]['TrueEP'], crc_df.loc[x]['HasMOD']]"
   ]
  },
  {
   "cell_type": "code",
   "execution_count": 36,
   "metadata": {},
   "outputs": [],
   "source": [
    "lca_redf_master = pd.DataFrame(columns=['Red Flag', 'True EP', 'True MOD'])\n",
    "\n",
    "for x in lca_df.index:\n",
    "    if lca_df.loc[x]['Redf_Cough'] == 1:\n",
    "        lca_redf_master.loc[len(lca_redf_master.index)] = ['Cough', lca_df.loc[x]['TrueEP'], lca_df.loc[x]['HasMOD']]\n",
    "    if lca_df.loc[x]['Redf_Dyspnea'] == 1:\n",
    "        lca_redf_master.loc[len(lca_redf_master.index)] = ['Dyspnea', lca_df.loc[x]['TrueEP'], lca_df.loc[x]['HasMOD']]\n",
    "    if lca_df.loc[x]['Redf_ChestPain'] == 1:\n",
    "        lca_redf_master.loc[len(lca_redf_master.index)] = ['Chest Pain', lca_df.loc[x]['TrueEP'], lca_df.loc[x]['HasMOD']]\n",
    "    if lca_df.loc[x]['Redf_Hemoptysis'] == 1:\n",
    "        lca_redf_master.loc[len(lca_redf_master.index)] = ['Hemoptysis', lca_df.loc[x]['TrueEP'], lca_df.loc[x]['HasMOD']]\n",
    "    if lca_df.loc[x]['Redf_LRTI'] == 1:\n",
    "        lca_redf_master.loc[len(lca_redf_master.index)] = ['LRTI', lca_df.loc[x]['TrueEP'], lca_df.loc[x]['HasMOD']]\n",
    "    if lca_df.loc[x]['Redf_Imaging'] == 1:\n",
    "        lca_redf_master.loc[len(lca_redf_master.index)] = ['Imaging', lca_df.loc[x]['TrueEP'], lca_df.loc[x]['HasMOD']]\n",
    "    if lca_df.loc[x]['Redf_Paraneoplastic'] == 1:\n",
    "        lca_redf_master.loc[len(lca_redf_master.index)] = ['Hoarse', lca_df.loc[x]['TrueEP'], lca_df.loc[x]['HasMOD']]\n",
    "    if lca_df.loc[x]['Redf_Hoarse'] == 1:\n",
    "        lca_redf_master.loc[len(lca_redf_master.index)] = ['Hoarse', lca_df.loc[x]['TrueEP'], lca_df.loc[x]['HasMOD']]\n",
    "    if lca_df.loc[x]['Redf_WtLoss'] == 1:\n",
    "        lca_redf_master.loc[len(lca_redf_master.index)] = ['Weight Loss', lca_df.loc[x]['TrueEP'], lca_df.loc[x]['HasMOD']]\n",
    "    if lca_df.loc[x]['Redf_Other'] == 1:\n",
    "        lca_redf_master.loc[len(lca_redf_master.index)] = ['Other', lca_df.loc[x]['TrueEP'], lca_df.loc[x]['HasMOD']]\n",
    "    if lca_df.loc[x]['Redf_Cough'] == 1:\n",
    "        lca_redf_master.loc[len(lca_redf_master.index)] = ['Cough', lca_df.loc[x]['TrueEP'], lca_df.loc[x]['HasMOD']]"
   ]
  },
  {
   "cell_type": "code",
   "execution_count": 37,
   "metadata": {
    "scrolled": true
   },
   "outputs": [],
   "source": [
    "crc_redf_master = pd.DataFrame(columns=['Red Flag', 'True EP', 'True MOD'])\n",
    "\n",
    "for x in crc_df.index:\n",
    "    if crc_df.loc[x]['Redf_IDA'] == 1:\n",
    "        crc_redf_master.loc[len(crc_redf_master.index)] = ['IDA', crc_df.loc[x]['TrueEP'], crc_df.loc[x]['HasMOD']]\n",
    "    if crc_df.loc[x]['Redf_Obstruction'] == 1:\n",
    "        crc_redf_master.loc[len(crc_redf_master.index)] = ['Obstruction', crc_df.loc[x]['TrueEP'], crc_df.loc[x]['HasMOD']]\n",
    "    if crc_df.loc[x]['Redf_BloodyStool'] == 1:\n",
    "        crc_redf_master.loc[len(crc_redf_master.index)] = ['Bloody Stool', crc_df.loc[x]['TrueEP'], crc_df.loc[x]['HasMOD']]\n",
    "    if crc_df.loc[x]['Redf_AbdMass'] == 1:\n",
    "        crc_redf_master.loc[len(crc_redf_master.index)] = ['Abdominal Mass', crc_df.loc[x]['TrueEP'], crc_df.loc[x]['HasMOD']]\n",
    "    if crc_df.loc[x]['Redf_RectMass'] == 1:\n",
    "        crc_redf_master.loc[len(crc_redf_master.index)] = ['Rectal Mass', crc_df.loc[x]['TrueEP'], crc_df.loc[x]['HasMOD']]\n",
    "    if crc_df.loc[x]['Redf_StoolCaliber'] == 1:\n",
    "        crc_redf_master.loc[len(crc_redf_master.index)] = ['Stool Caliber', crc_df.loc[x]['TrueEP'], crc_df.loc[x]['HasMOD']]\n",
    "    if crc_df.loc[x]['Redf_CScope'] == 1:\n",
    "        crc_redf_master.loc[len(crc_redf_master.index)] = ['Colonoscopy', crc_df.loc[x]['TrueEP'], crc_df.loc[x]['HasMOD']]\n",
    "    if crc_df.loc[x]['Redf_FOBT'] == 1:\n",
    "        crc_redf_master.loc[len(crc_redf_master.index)] = ['FOBT', crc_df.loc[x]['TrueEP'], crc_df.loc[x]['HasMOD']]\n",
    "    if crc_df.loc[x]['Redf_FlexSig'] == 1:\n",
    "        crc_redf_master.loc[len(crc_redf_master.index)] = ['Flexible Sigmoidoscopy', crc_df.loc[x]['TrueEP'], crc_df.loc[x]['HasMOD']]\n",
    "    if crc_df.loc[x]['Redf_Enema'] == 1:\n",
    "        crc_redf_master.loc[len(crc_redf_master.index)] = ['Barium Enema', crc_df.loc[x]['TrueEP'], crc_df.loc[x]['HasMOD']]\n",
    "    if crc_df.loc[x]['Redf_CT'] == 1:\n",
    "        crc_redf_master.loc[len(crc_redf_master.index)] = ['CT Finding', crc_df.loc[x]['TrueEP'], crc_df.loc[x]['HasMOD']]\n",
    "    if crc_df.loc[x]['Redf_FamHx'] == 1:\n",
    "        crc_redf_master.loc[len(crc_redf_master.index)] = ['Family History', crc_df.loc[x]['TrueEP'], crc_df.loc[x]['HasMOD']]\n",
    "    if crc_df.loc[x]['Redf_MassExam'] == 1:\n",
    "        crc_redf_master.loc[len(crc_redf_master.index)] = ['Mass on Examination', crc_df.loc[x]['TrueEP'], crc_df.loc[x]['HasMOD']]\n",
    "    if crc_df.loc[x]['Redf_Other'] == 1:\n",
    "        crc_redf_master.loc[len(crc_redf_master.index)] = ['Other', crc_df.loc[x]['TrueEP'], crc_df.loc[x]['HasMOD']]"
   ]
  },
  {
   "cell_type": "markdown",
   "metadata": {},
   "source": [
    "## Descriptive Stats"
   ]
  },
  {
   "cell_type": "markdown",
   "metadata": {
    "heading_collapsed": true
   },
   "source": [
    "### True EP Rate"
   ]
  },
  {
   "cell_type": "markdown",
   "metadata": {
    "hidden": true
   },
   "source": [
    "#### Lung Cancer"
   ]
  },
  {
   "cell_type": "code",
   "execution_count": 38,
   "metadata": {},
   "outputs": [
    {
     "data": {
      "text/plain": [
       "mean           0.800000\n",
       "std            0.402015\n",
       "count        100.000000\n",
       "ci95_hi       87.879496\n",
       "ci95_lo       72.120504\n",
       "% True EP     80.000000\n",
       "Name: TrueEP, dtype: float64"
      ]
     },
     "execution_count": 38,
     "metadata": {},
     "output_type": "execute_result"
    }
   ],
   "source": [
    "lca_tep_stats = get_column_stats('TrueEP', '% True EP', lca_df)\n",
    "lca_tep_stats"
   ]
  },
  {
   "cell_type": "markdown",
   "metadata": {
    "hidden": true
   },
   "source": [
    "#### CRC"
   ]
  },
  {
   "cell_type": "code",
   "execution_count": 39,
   "metadata": {
    "hidden": true
   },
   "outputs": [
    {
     "data": {
      "text/plain": [
       "mean           0.730000\n",
       "std            0.446196\n",
       "count        100.000000\n",
       "ci95_hi       81.745442\n",
       "ci95_lo       64.254558\n",
       "% True EP     73.000000\n",
       "Name: TrueEP, dtype: float64"
      ]
     },
     "execution_count": 39,
     "metadata": {},
     "output_type": "execute_result"
    }
   ],
   "source": [
    "crc_tep_stats = get_column_stats('TrueEP', '% True EP', crc_df)\n",
    "crc_tep_stats"
   ]
  },
  {
   "cell_type": "markdown",
   "metadata": {
    "heading_collapsed": true
   },
   "source": [
    "### Up to date on screening"
   ]
  },
  {
   "cell_type": "markdown",
   "metadata": {
    "heading_collapsed": true,
    "hidden": true
   },
   "source": [
    "#### CRC"
   ]
  },
  {
   "cell_type": "code",
   "execution_count": 40,
   "metadata": {
    "hidden": true
   },
   "outputs": [
    {
     "data": {
      "text/plain": [
       "mean                          0.232877\n",
       "std                           0.425589\n",
       "count                        73.000000\n",
       "ci95_hi                      33.050720\n",
       "ci95_lo                      13.524623\n",
       "% Up To Date on Screening    23.287671\n",
       "Name: ScreeningUpToDate, dtype: float64"
      ]
     },
     "execution_count": 40,
     "metadata": {},
     "output_type": "execute_result"
    }
   ],
   "source": [
    "crc_scr_stats = get_column_stats('ScreeningUpToDate', '% Up To Date on Screening', crc_df[crc_df['TrueEP'] == 1].copy())\n",
    "crc_scr_stats"
   ]
  },
  {
   "cell_type": "markdown",
   "metadata": {
    "heading_collapsed": true,
    "hidden": true
   },
   "source": [
    "#### LCa"
   ]
  },
  {
   "cell_type": "code",
   "execution_count": 41,
   "metadata": {
    "hidden": true
   },
   "outputs": [
    {
     "data": {
      "text/plain": [
       "mean                          0.137500\n",
       "std                           0.346547\n",
       "count                        80.000000\n",
       "ci95_hi                      21.344050\n",
       "ci95_lo                       6.155950\n",
       "% Up To Date on Screening    13.750000\n",
       "Name: ScreeningUpToDate, dtype: float64"
      ]
     },
     "execution_count": 41,
     "metadata": {},
     "output_type": "execute_result"
    }
   ],
   "source": [
    "lca_scr_stats = get_column_stats('ScreeningUpToDate', '% Up To Date on Screening', lca_df[lca_df['TrueEP'] == 1].copy())\n",
    "lca_scr_stats"
   ]
  },
  {
   "cell_type": "markdown",
   "metadata": {
    "heading_collapsed": true
   },
   "source": [
    "### Earliest Red Flag → Multiple Red Flags → Follow-Up? → Time to follow-up"
   ]
  },
  {
   "cell_type": "markdown",
   "metadata": {
    "heading_collapsed": true,
    "hidden": true
   },
   "source": [
    "#### LCa"
   ]
  },
  {
   "cell_type": "code",
   "execution_count": 42,
   "metadata": {
    "hidden": true
   },
   "outputs": [
    {
     "data": {
      "text/plain": [
       "43"
      ]
     },
     "execution_count": 42,
     "metadata": {},
     "output_type": "execute_result"
    }
   ],
   "source": [
    "lca_df[pd.notnull(lca_df['RFInitialRF'])].shape[0]"
   ]
  },
  {
   "cell_type": "code",
   "execution_count": 43,
   "metadata": {
    "hidden": true
   },
   "outputs": [],
   "source": [
    "lca_redf_df = pd.DataFrame({'Signal':['Cough', 'Dyspnea', 'ChestPain', 'Hemoptysis', 'LRTI', 'Imaging', 'Paraneoplastic', 'Hoarse', 'WtLoss', 'Other']})\n",
    "lca_redf_vals = [] \n",
    "\n",
    "lca_redf_vals.append(lca_df[lca_df['TrueEP'] == 1]['Redf_Cough'].agg('mean') * 100)\n",
    "lca_redf_vals.append(lca_df[lca_df['TrueEP'] == 1]['Redf_Dyspnea'].agg('mean') * 100)\n",
    "lca_redf_vals.append(lca_df[lca_df['TrueEP'] == 1]['Redf_ChestPain'].agg('mean') * 100)\n",
    "lca_redf_vals.append(lca_df[lca_df['TrueEP'] == 1]['Redf_Hemoptysis'].agg('mean') * 100)\n",
    "lca_redf_vals.append(lca_df[lca_df['TrueEP'] == 1]['Redf_LRTI'].agg('mean') * 100)\n",
    "lca_redf_vals.append(lca_df[lca_df['TrueEP'] == 1]['Redf_Imaging'].agg('mean') * 100)\n",
    "lca_redf_vals.append(lca_df[lca_df['TrueEP'] == 1]['Redf_Paraneoplastic'].agg('mean') * 100)\n",
    "lca_redf_vals.append(lca_df[lca_df['TrueEP'] == 1]['Redf_Hoarse'].agg('mean') * 100)\n",
    "lca_redf_vals.append(lca_df[lca_df['TrueEP'] == 1]['Redf_WtLoss'].agg('mean') * 100)\n",
    "lca_redf_vals.append(lca_df[lca_df['TrueEP'] == 1]['Redf_Other'].agg('mean') * 100)\n",
    "\n",
    "lca_redf_df['Frequency'] = lca_redf_vals\n",
    "lca_redf_df = lca_redf_df.sort_values(by='Frequency', ascending=False)"
   ]
  },
  {
   "cell_type": "code",
   "execution_count": 44,
   "metadata": {},
   "outputs": [
    {
     "data": {
      "text/html": [
       "<div>\n",
       "<style scoped>\n",
       "    .dataframe tbody tr th:only-of-type {\n",
       "        vertical-align: middle;\n",
       "    }\n",
       "\n",
       "    .dataframe tbody tr th {\n",
       "        vertical-align: top;\n",
       "    }\n",
       "\n",
       "    .dataframe thead th {\n",
       "        text-align: right;\n",
       "    }\n",
       "</style>\n",
       "<table border=\"1\" class=\"dataframe\">\n",
       "  <thead>\n",
       "    <tr style=\"text-align: right;\">\n",
       "      <th></th>\n",
       "      <th>Signal</th>\n",
       "      <th>Frequency</th>\n",
       "    </tr>\n",
       "  </thead>\n",
       "  <tbody>\n",
       "    <tr>\n",
       "      <th>5</th>\n",
       "      <td>Imaging</td>\n",
       "      <td>16.25</td>\n",
       "    </tr>\n",
       "    <tr>\n",
       "      <th>0</th>\n",
       "      <td>Cough</td>\n",
       "      <td>13.75</td>\n",
       "    </tr>\n",
       "    <tr>\n",
       "      <th>4</th>\n",
       "      <td>LRTI</td>\n",
       "      <td>7.50</td>\n",
       "    </tr>\n",
       "    <tr>\n",
       "      <th>1</th>\n",
       "      <td>Dyspnea</td>\n",
       "      <td>5.00</td>\n",
       "    </tr>\n",
       "    <tr>\n",
       "      <th>2</th>\n",
       "      <td>ChestPain</td>\n",
       "      <td>2.50</td>\n",
       "    </tr>\n",
       "    <tr>\n",
       "      <th>8</th>\n",
       "      <td>WtLoss</td>\n",
       "      <td>2.50</td>\n",
       "    </tr>\n",
       "    <tr>\n",
       "      <th>3</th>\n",
       "      <td>Hemoptysis</td>\n",
       "      <td>0.00</td>\n",
       "    </tr>\n",
       "    <tr>\n",
       "      <th>6</th>\n",
       "      <td>Paraneoplastic</td>\n",
       "      <td>0.00</td>\n",
       "    </tr>\n",
       "    <tr>\n",
       "      <th>7</th>\n",
       "      <td>Hoarse</td>\n",
       "      <td>0.00</td>\n",
       "    </tr>\n",
       "    <tr>\n",
       "      <th>9</th>\n",
       "      <td>Other</td>\n",
       "      <td>0.00</td>\n",
       "    </tr>\n",
       "  </tbody>\n",
       "</table>\n",
       "</div>"
      ],
      "text/plain": [
       "           Signal  Frequency\n",
       "5         Imaging      16.25\n",
       "0           Cough      13.75\n",
       "4            LRTI       7.50\n",
       "1         Dyspnea       5.00\n",
       "2       ChestPain       2.50\n",
       "8          WtLoss       2.50\n",
       "3      Hemoptysis       0.00\n",
       "6  Paraneoplastic       0.00\n",
       "7          Hoarse       0.00\n",
       "9           Other       0.00"
      ]
     },
     "execution_count": 44,
     "metadata": {},
     "output_type": "execute_result"
    }
   ],
   "source": [
    "lca_redf_df"
   ]
  },
  {
   "cell_type": "code",
   "execution_count": 45,
   "metadata": {
    "hidden": true,
    "scrolled": false
   },
   "outputs": [
    {
     "data": {
      "text/plain": [
       "(0.0, 1.0)"
      ]
     },
     "execution_count": 45,
     "metadata": {},
     "output_type": "execute_result"
    },
    {
     "data": {
      "image/png": "[encoded data removed]",
      "text/plain": [
       "<Figure size 720x360 with 1 Axes>"
      ]
     },
     "metadata": {
      "needs_background": "light"
     },
     "output_type": "display_data"
    }
   ],
   "source": [
    "lca_redf_plt = sns.histplot(data=lca_redf_master, y='Red Flag', hue='True MOD', multiple='dodge', stat='probability', shrink=0.80, common_norm=False)\n",
    "lca_redf_plt.axes.set_title(\"Frequencies of Earliest Red Flags in EPs of Lung Cancer\", fontsize=20)\n",
    "lca_redf_plt.axes.set_ylabel (\"Signal\", fontsize=14)\n",
    "lca_redf_plt.axes.set_xlabel (\"% of Reviewed True Positive EPs\", fontsize=14)\n",
    "lca_redf_plt.axes.set_xlim ([0, 1])"
   ]
  },
  {
   "cell_type": "markdown",
   "metadata": {
    "heading_collapsed": true,
    "hidden": true
   },
   "source": [
    "#### CRC"
   ]
  },
  {
   "cell_type": "code",
   "execution_count": 46,
   "metadata": {
    "hidden": true
   },
   "outputs": [
    {
     "data": {
      "text/plain": [
       "52"
      ]
     },
     "execution_count": 46,
     "metadata": {},
     "output_type": "execute_result"
    }
   ],
   "source": [
    "crc_df[pd.notnull(crc_df['RFInitialRF'])].shape[0]"
   ]
  },
  {
   "cell_type": "code",
   "execution_count": 47,
   "metadata": {
    "hidden": true
   },
   "outputs": [],
   "source": [
    "crc_redf_df = pd.DataFrame({'Signal':['IDA', 'Obstruction', 'BloodyStool', 'AbdMass', 'RectMass', 'StoolCaliber', 'CScope', 'FOBT', 'FlexSig', 'Enema', 'CT', 'FamHx', 'MassExam', 'Other']})\n",
    "crc_redf_vals = [] \n",
    "\n",
    "crc_redf_vals.append(crc_df[crc_df['TrueEP'] == 1]['Redf_IDA'].agg('mean') * 100)\n",
    "crc_redf_vals.append(crc_df[crc_df['TrueEP'] == 1]['Redf_Obstruction'].agg('mean') * 100)\n",
    "crc_redf_vals.append(crc_df[crc_df['TrueEP'] == 1]['Redf_BloodyStool'].agg('mean') * 100)\n",
    "crc_redf_vals.append(crc_df[crc_df['TrueEP'] == 1]['Redf_AbdMass'].agg('mean') * 100)\n",
    "crc_redf_vals.append(crc_df[crc_df['TrueEP'] == 1]['Redf_RectMass'].agg('mean') * 100)\n",
    "crc_redf_vals.append(crc_df[crc_df['TrueEP'] == 1]['Redf_StoolCaliber'].agg('mean') * 100)\n",
    "crc_redf_vals.append(crc_df[crc_df['TrueEP'] == 1]['Redf_CScope'].agg('mean') * 100)\n",
    "crc_redf_vals.append(crc_df[crc_df['TrueEP'] == 1]['Redf_FOBT'].agg('mean') * 100)\n",
    "crc_redf_vals.append(crc_df[crc_df['TrueEP'] == 1]['Redf_FlexSig'].agg('mean') * 100)\n",
    "crc_redf_vals.append(crc_df[crc_df['TrueEP'] == 1]['Redf_Enema'].agg('mean') * 100)\n",
    "crc_redf_vals.append(crc_df[crc_df['TrueEP'] == 1]['Redf_CT'].agg('mean') * 100)\n",
    "crc_redf_vals.append(crc_df[crc_df['TrueEP'] == 1]['Redf_FamHx'].agg('mean') * 100)\n",
    "crc_redf_vals.append(crc_df[crc_df['TrueEP'] == 1]['Redf_MassExam'].agg('mean') * 100)\n",
    "crc_redf_vals.append(crc_df[crc_df['TrueEP'] == 1]['Redf_Other'].agg('mean') * 100)\n",
    "\n",
    "crc_redf_df['Frequency'] = crc_redf_vals\n",
    "crc_redf_df = crc_redf_df.sort_values(by='Frequency', ascending=False)"
   ]
  },
  {
   "cell_type": "code",
   "execution_count": 48,
   "metadata": {},
   "outputs": [
    {
     "data": {
      "text/html": [
       "<div>\n",
       "<style scoped>\n",
       "    .dataframe tbody tr th:only-of-type {\n",
       "        vertical-align: middle;\n",
       "    }\n",
       "\n",
       "    .dataframe tbody tr th {\n",
       "        vertical-align: top;\n",
       "    }\n",
       "\n",
       "    .dataframe thead th {\n",
       "        text-align: right;\n",
       "    }\n",
       "</style>\n",
       "<table border=\"1\" class=\"dataframe\">\n",
       "  <thead>\n",
       "    <tr style=\"text-align: right;\">\n",
       "      <th></th>\n",
       "      <th>Signal</th>\n",
       "      <th>Frequency</th>\n",
       "    </tr>\n",
       "  </thead>\n",
       "  <tbody>\n",
       "    <tr>\n",
       "      <th>0</th>\n",
       "      <td>IDA</td>\n",
       "      <td>43.835616</td>\n",
       "    </tr>\n",
       "    <tr>\n",
       "      <th>2</th>\n",
       "      <td>BloodyStool</td>\n",
       "      <td>10.958904</td>\n",
       "    </tr>\n",
       "    <tr>\n",
       "      <th>7</th>\n",
       "      <td>FOBT</td>\n",
       "      <td>4.109589</td>\n",
       "    </tr>\n",
       "    <tr>\n",
       "      <th>3</th>\n",
       "      <td>AbdMass</td>\n",
       "      <td>1.369863</td>\n",
       "    </tr>\n",
       "    <tr>\n",
       "      <th>4</th>\n",
       "      <td>RectMass</td>\n",
       "      <td>1.369863</td>\n",
       "    </tr>\n",
       "    <tr>\n",
       "      <th>6</th>\n",
       "      <td>CScope</td>\n",
       "      <td>1.369863</td>\n",
       "    </tr>\n",
       "    <tr>\n",
       "      <th>10</th>\n",
       "      <td>CT</td>\n",
       "      <td>1.369863</td>\n",
       "    </tr>\n",
       "    <tr>\n",
       "      <th>13</th>\n",
       "      <td>Other</td>\n",
       "      <td>1.369863</td>\n",
       "    </tr>\n",
       "    <tr>\n",
       "      <th>1</th>\n",
       "      <td>Obstruction</td>\n",
       "      <td>0.000000</td>\n",
       "    </tr>\n",
       "    <tr>\n",
       "      <th>5</th>\n",
       "      <td>StoolCaliber</td>\n",
       "      <td>0.000000</td>\n",
       "    </tr>\n",
       "    <tr>\n",
       "      <th>8</th>\n",
       "      <td>FlexSig</td>\n",
       "      <td>0.000000</td>\n",
       "    </tr>\n",
       "    <tr>\n",
       "      <th>9</th>\n",
       "      <td>Enema</td>\n",
       "      <td>0.000000</td>\n",
       "    </tr>\n",
       "    <tr>\n",
       "      <th>11</th>\n",
       "      <td>FamHx</td>\n",
       "      <td>0.000000</td>\n",
       "    </tr>\n",
       "    <tr>\n",
       "      <th>12</th>\n",
       "      <td>MassExam</td>\n",
       "      <td>0.000000</td>\n",
       "    </tr>\n",
       "  </tbody>\n",
       "</table>\n",
       "</div>"
      ],
      "text/plain": [
       "          Signal  Frequency\n",
       "0            IDA  43.835616\n",
       "2    BloodyStool  10.958904\n",
       "7           FOBT   4.109589\n",
       "3        AbdMass   1.369863\n",
       "4       RectMass   1.369863\n",
       "6         CScope   1.369863\n",
       "10            CT   1.369863\n",
       "13         Other   1.369863\n",
       "1    Obstruction   0.000000\n",
       "5   StoolCaliber   0.000000\n",
       "8        FlexSig   0.000000\n",
       "9          Enema   0.000000\n",
       "11         FamHx   0.000000\n",
       "12      MassExam   0.000000"
      ]
     },
     "execution_count": 48,
     "metadata": {},
     "output_type": "execute_result"
    }
   ],
   "source": [
    "crc_redf_df"
   ]
  },
  {
   "cell_type": "code",
   "execution_count": 49,
   "metadata": {
    "hidden": true
   },
   "outputs": [
    {
     "data": {
      "text/plain": [
       "(0.0, 1.0)"
      ]
     },
     "execution_count": 49,
     "metadata": {},
     "output_type": "execute_result"
    },
    {
     "data": {
      "image/png": "[encoded data removed]",
      "text/plain": [
       "<Figure size 720x360 with 1 Axes>"
      ]
     },
     "metadata": {
      "needs_background": "light"
     },
     "output_type": "display_data"
    }
   ],
   "source": [
    "crc_redf_plt = sns.histplot(data=crc_redf_master, y='Red Flag', hue='True MOD', multiple='dodge', stat='probability', shrink=0.80, common_norm=False)\n",
    "crc_redf_plt.axes.set_title(\"Frequencies of Earliest Red Flags in EPs of CRC\", fontsize=20)\n",
    "crc_redf_plt.axes.set_ylabel (\"Signal\", fontsize=14)\n",
    "crc_redf_plt.axes.set_xlabel (\"% of Reviewed True Positive EPs\", fontsize=14)\n",
    "crc_redf_plt.axes.set_xlim ([0, 1])"
   ]
  },
  {
   "cell_type": "markdown",
   "metadata": {
    "heading_collapsed": true,
    "hidden": true
   },
   "source": [
    "#### LCa"
   ]
  },
  {
   "cell_type": "code",
   "execution_count": 50,
   "metadata": {
    "hidden": true
   },
   "outputs": [
    {
     "data": {
      "text/plain": [
       "47.5"
      ]
     },
     "execution_count": 50,
     "metadata": {},
     "output_type": "execute_result"
    }
   ],
   "source": [
    "lca_rf_stats = lca_df[lca_df['TrueEP'] == 1]['RFPriorToDx'].agg(['mean'])\n",
    "lca_rf_stats[\"% RF prior to Dx\"] = lca_rf_stats['mean'] * 100\n",
    "lca_rf_stats['% RF prior to Dx']"
   ]
  },
  {
   "cell_type": "markdown",
   "metadata": {
    "heading_collapsed": true,
    "hidden": true
   },
   "source": [
    "#### CRC"
   ]
  },
  {
   "cell_type": "code",
   "execution_count": 51,
   "metadata": {
    "hidden": true
   },
   "outputs": [
    {
     "data": {
      "text/plain": [
       "65.75342465753424"
      ]
     },
     "execution_count": 51,
     "metadata": {},
     "output_type": "execute_result"
    }
   ],
   "source": [
    "crc_rf_stats = crc_df[crc_df['TrueEP'] == 1]['RFPriorToDx'].agg(['mean'])\n",
    "crc_rf_stats[\"% RF prior to Dx\"] = crc_rf_stats['mean'] * 100\n",
    "crc_rf_stats['% RF prior to Dx']"
   ]
  },
  {
   "cell_type": "markdown",
   "metadata": {
    "heading_collapsed": true
   },
   "source": [
    "### MOD (Screening, Type I, Type II)"
   ]
  },
  {
   "cell_type": "markdown",
   "metadata": {
    "heading_collapsed": true,
    "hidden": true
   },
   "source": [
    "#### LCa"
   ]
  },
  {
   "cell_type": "code",
   "execution_count": 53,
   "metadata": {
    "hidden": true
   },
   "outputs": [
    {
     "data": {
      "text/plain": [
       "47.5"
      ]
     },
     "execution_count": 53,
     "metadata": {},
     "output_type": "execute_result"
    }
   ],
   "source": [
    "lca_mod_stats = lca_df[lca_df['TrueEP'] == 1]['HasMOD'].agg(['mean'])\n",
    "lca_mod_stats['% MODs'] = lca_mod_stats['mean'] * 100\n",
    "lca_mod_stats['% MODs']"
   ]
  },
  {
   "cell_type": "code",
   "execution_count": 77,
   "metadata": {},
   "outputs": [
    {
     "data": {
      "text/plain": [
       "43"
      ]
     },
     "execution_count": 77,
     "metadata": {},
     "output_type": "execute_result"
    }
   ],
   "source": [
    "lca_df[lca_df['HasMOD'] == 1].shape[0]"
   ]
  },
  {
   "cell_type": "code",
   "execution_count": 76,
   "metadata": {},
   "outputs": [
    {
     "data": {
      "text/plain": [
       "21"
      ]
     },
     "execution_count": 76,
     "metadata": {},
     "output_type": "execute_result"
    }
   ],
   "source": [
    "lca_df[(lca_df['HasMOD'] == 1) & (lca_df['DxDelayRFFUReq'] != 1) & (lca_df['DxDelayRFFUComp'] != 1)].shape[0]"
   ]
  },
  {
   "cell_type": "code",
   "execution_count": 79,
   "metadata": {
    "hidden": true
   },
   "outputs": [
    {
     "data": {
      "text/plain": [
       "11"
      ]
     },
     "execution_count": 79,
     "metadata": {},
     "output_type": "execute_result"
    }
   ],
   "source": [
    "lca_df[(lca_df['HasMOD'] == 1) & (lca_df['DxDelayRFFUReq'] == 1) & (lca_df['DxDelayRFFUComp'] != 1)].shape[0]"
   ]
  },
  {
   "cell_type": "code",
   "execution_count": 80,
   "metadata": {
    "hidden": true
   },
   "outputs": [
    {
     "data": {
      "text/plain": [
       "6"
      ]
     },
     "execution_count": 80,
     "metadata": {},
     "output_type": "execute_result"
    }
   ],
   "source": [
    "lca_df[(lca_df['HasMOD'] == 1) & (lca_df['DxDelayRFFUReq'] != 1) & (lca_df['DxDelayRFFUComp'] == 1)].shape[0]"
   ]
  },
  {
   "cell_type": "code",
   "execution_count": 82,
   "metadata": {
    "scrolled": true
   },
   "outputs": [
    {
     "data": {
      "text/plain": [
       "5"
      ]
     },
     "execution_count": 82,
     "metadata": {},
     "output_type": "execute_result"
    }
   ],
   "source": [
    "lca_df[(lca_df['HasMOD'] == 1) & (lca_df['DxDelayRFFUReq'] == 1) & (lca_df['DxDelayRFFUComp'] == 1)].shape[0]"
   ]
  },
  {
   "cell_type": "code",
   "execution_count": 81,
   "metadata": {},
   "outputs": [],
   "source": [
    "#lca_df[(lca_df['HasMOD'] == 1)][['HasMOD', 'DxDelayRFFUReq', 'DxDelayRFFUComp']]"
   ]
  },
  {
   "cell_type": "code",
   "execution_count": 85,
   "metadata": {
    "hidden": true
   },
   "outputs": [
    {
     "data": {
      "text/plain": [
       "30"
      ]
     },
     "execution_count": 85,
     "metadata": {},
     "output_type": "execute_result"
    }
   ],
   "source": [
    "lca_df[(lca_df['HasMOD'] == 1) & (lca_df['RFYesNo'] == 1)].shape[0]"
   ]
  },
  {
   "cell_type": "code",
   "execution_count": 86,
   "metadata": {
    "hidden": true,
    "scrolled": true
   },
   "outputs": [
    {
     "data": {
      "text/plain": [
       "11"
      ]
     },
     "execution_count": 86,
     "metadata": {},
     "output_type": "execute_result"
    }
   ],
   "source": [
    "lca_df[(lca_df['HasMOD'] == 1) & (lca_df['RFYesNo'] == 1) & (lca_df['RFMultYesNo'] == 1)].shape[0]"
   ]
  },
  {
   "cell_type": "markdown",
   "metadata": {
    "heading_collapsed": true,
    "hidden": true
   },
   "source": [
    "#### CRC"
   ]
  },
  {
   "cell_type": "code",
   "execution_count": 87,
   "metadata": {
    "hidden": true
   },
   "outputs": [
    {
     "data": {
      "text/plain": [
       "69.86301369863014"
      ]
     },
     "execution_count": 87,
     "metadata": {},
     "output_type": "execute_result"
    }
   ],
   "source": [
    "crc_mod_stats = crc_df[crc_df['TrueEP'] == 1]['HasMOD'].agg(['mean'])\n",
    "crc_mod_stats['% MODs'] = crc_mod_stats['mean'] * 100\n",
    "crc_mod_stats['% MODs']"
   ]
  },
  {
   "cell_type": "code",
   "execution_count": 93,
   "metadata": {},
   "outputs": [
    {
     "data": {
      "text/plain": [
       "56"
      ]
     },
     "execution_count": 93,
     "metadata": {},
     "output_type": "execute_result"
    }
   ],
   "source": [
    "crc_df[crc_df['HasMOD'] == 1].shape[0]"
   ]
  },
  {
   "cell_type": "code",
   "execution_count": 99,
   "metadata": {},
   "outputs": [
    {
     "data": {
      "text/plain": [
       "14"
      ]
     },
     "execution_count": 99,
     "metadata": {},
     "output_type": "execute_result"
    }
   ],
   "source": [
    "crc_df[(crc_df['HasMOD'] == 1) & (crc_df['DxDelayRFFUReq'] != 'Yes') & (crc_df['DxDelayRFFUComp'] != 'Yes')].shape[0]"
   ]
  },
  {
   "cell_type": "code",
   "execution_count": 94,
   "metadata": {
    "hidden": true
   },
   "outputs": [
    {
     "data": {
      "text/plain": [
       "27"
      ]
     },
     "execution_count": 94,
     "metadata": {},
     "output_type": "execute_result"
    }
   ],
   "source": [
    "crc_df[(crc_df['HasMOD'] == 1) & (crc_df['DxDelayRFFUReq'] == 'Yes') & (crc_df['DxDelayRFFUComp'] != 'Yes')].shape[0]"
   ]
  },
  {
   "cell_type": "code",
   "execution_count": 95,
   "metadata": {
    "hidden": true
   },
   "outputs": [
    {
     "data": {
      "text/plain": [
       "2"
      ]
     },
     "execution_count": 95,
     "metadata": {},
     "output_type": "execute_result"
    }
   ],
   "source": [
    "crc_df[(lca_df['HasMOD'] == 1) & (crc_df['DxDelayRFFUReq'] != 'Yes') & (crc_df['DxDelayRFFUComp'] == 'Yes')].shape[0]"
   ]
  },
  {
   "cell_type": "code",
   "execution_count": 96,
   "metadata": {
    "scrolled": true
   },
   "outputs": [
    {
     "data": {
      "text/plain": [
       "9"
      ]
     },
     "execution_count": 96,
     "metadata": {},
     "output_type": "execute_result"
    }
   ],
   "source": [
    "crc_df[(crc_df['HasMOD'] == 1) & (crc_df['DxDelayRFFUReq'] == 'Yes') & (crc_df['DxDelayRFFUComp'] == 'Yes')].shape[0]"
   ]
  },
  {
   "cell_type": "code",
   "execution_count": 81,
   "metadata": {},
   "outputs": [],
   "source": [
    "#lca_df[(lca_df['HasMOD'] == 1)][['HasMOD', 'DxDelayRFFUReq', 'DxDelayRFFUComp']]"
   ]
  },
  {
   "cell_type": "code",
   "execution_count": 100,
   "metadata": {
    "hidden": true
   },
   "outputs": [
    {
     "data": {
      "text/plain": [
       "47"
      ]
     },
     "execution_count": 100,
     "metadata": {},
     "output_type": "execute_result"
    }
   ],
   "source": [
    "crc_df[(crc_df['HasMOD'] == 1) & (crc_df['RFYesNo'] == 'Yes')].shape[0]"
   ]
  },
  {
   "cell_type": "code",
   "execution_count": 101,
   "metadata": {
    "hidden": true,
    "scrolled": true
   },
   "outputs": [
    {
     "data": {
      "text/plain": [
       "15"
      ]
     },
     "execution_count": 101,
     "metadata": {},
     "output_type": "execute_result"
    }
   ],
   "source": [
    "crc_df[(crc_df['HasMOD'] == 1) & (crc_df['RFYesNo'] == 'Yes') & (crc_df['RFMultYesNo'] == 'Yes')].shape[0]"
   ]
  },
  {
   "cell_type": "markdown",
   "metadata": {
    "heading_collapsed": true
   },
   "source": [
    "### MOD Dimensions"
   ]
  },
  {
   "cell_type": "markdown",
   "metadata": {
    "heading_collapsed": true,
    "hidden": true
   },
   "source": [
    "#### LCa"
   ]
  },
  {
   "cell_type": "code",
   "execution_count": 65,
   "metadata": {
    "hidden": true
   },
   "outputs": [],
   "source": [
    "lca_dim_df = pd.DataFrame({'Dimension':['Patient-Related', 'Patient-Provider Encounter', 'Diagnostic Tests', 'Follow-Up and Tracking', 'Referrals']})\n",
    "lca_dim_vals = [] \n",
    "\n",
    "lca_dim_vals.append(lca_df[lca_df['HasMOD'] == 1]['DimensionPtRelated_Parsed'].agg('mean') * 100)\n",
    "lca_dim_vals.append(lca_df[lca_df['HasMOD'] == 1]['DimensionPtProvEncounter_Parsed'].agg('mean') * 100)\n",
    "lca_dim_vals.append(lca_df[lca_df['HasMOD'] == 1]['DimensionDxTests_Parsed'].agg('mean') * 100)\n",
    "lca_dim_vals.append(lca_df[lca_df['HasMOD'] == 1]['DimensionFupTrack_Parsed'].agg('mean') * 100)\n",
    "lca_dim_vals.append(lca_df[lca_df['HasMOD'] == 1]['DimensionReferrals_Parsed'].agg('mean') * 100)\n",
    "\n",
    "lca_dim_df['Frequency'] = lca_dim_vals"
   ]
  },
  {
   "cell_type": "code",
   "execution_count": 66,
   "metadata": {},
   "outputs": [
    {
     "data": {
      "text/html": [
       "<div>\n",
       "<style scoped>\n",
       "    .dataframe tbody tr th:only-of-type {\n",
       "        vertical-align: middle;\n",
       "    }\n",
       "\n",
       "    .dataframe tbody tr th {\n",
       "        vertical-align: top;\n",
       "    }\n",
       "\n",
       "    .dataframe thead th {\n",
       "        text-align: right;\n",
       "    }\n",
       "</style>\n",
       "<table border=\"1\" class=\"dataframe\">\n",
       "  <thead>\n",
       "    <tr style=\"text-align: right;\">\n",
       "      <th></th>\n",
       "      <th>Dimension</th>\n",
       "      <th>Frequency</th>\n",
       "    </tr>\n",
       "  </thead>\n",
       "  <tbody>\n",
       "    <tr>\n",
       "      <th>0</th>\n",
       "      <td>Patient-Related</td>\n",
       "      <td>30.232558</td>\n",
       "    </tr>\n",
       "    <tr>\n",
       "      <th>1</th>\n",
       "      <td>Patient-Provider Encounter</td>\n",
       "      <td>30.232558</td>\n",
       "    </tr>\n",
       "    <tr>\n",
       "      <th>2</th>\n",
       "      <td>Diagnostic Tests</td>\n",
       "      <td>53.488372</td>\n",
       "    </tr>\n",
       "    <tr>\n",
       "      <th>3</th>\n",
       "      <td>Follow-Up and Tracking</td>\n",
       "      <td>20.930233</td>\n",
       "    </tr>\n",
       "    <tr>\n",
       "      <th>4</th>\n",
       "      <td>Referrals</td>\n",
       "      <td>0.000000</td>\n",
       "    </tr>\n",
       "  </tbody>\n",
       "</table>\n",
       "</div>"
      ],
      "text/plain": [
       "                    Dimension  Frequency\n",
       "0             Patient-Related  30.232558\n",
       "1  Patient-Provider Encounter  30.232558\n",
       "2            Diagnostic Tests  53.488372\n",
       "3      Follow-Up and Tracking  20.930233\n",
       "4                   Referrals   0.000000"
      ]
     },
     "execution_count": 66,
     "metadata": {},
     "output_type": "execute_result"
    }
   ],
   "source": [
    "lca_dim_df"
   ]
  },
  {
   "cell_type": "markdown",
   "metadata": {
    "heading_collapsed": true,
    "hidden": true
   },
   "source": [
    "#### CRC"
   ]
  },
  {
   "cell_type": "code",
   "execution_count": 67,
   "metadata": {
    "hidden": true
   },
   "outputs": [],
   "source": [
    "crc_dim_df = pd.DataFrame({'Dimension':['Patient-Related', 'Patient-Provider Encounter', 'Diagnostic Tests', 'Follow-Up and Tracking', 'Referrals']})\n",
    "crc_dim_vals = [] \n",
    "\n",
    "crc_dim_vals.append(crc_df[crc_df['HasMOD'] == 1]['DimensionPtRelated_Parsed'].agg('mean') * 100)\n",
    "crc_dim_vals.append(crc_df[crc_df['HasMOD'] == 1]['DimensionPtProvEncounter_Parsed'].agg('mean') * 100)\n",
    "crc_dim_vals.append(crc_df[crc_df['HasMOD'] == 1]['DimensionDxTests_Parsed'].agg('mean') * 100)\n",
    "crc_dim_vals.append(crc_df[crc_df['HasMOD'] == 1]['DimensionFupTrack_Parsed'].agg('mean') * 100)\n",
    "crc_dim_vals.append(crc_df[crc_df['HasMOD'] == 1]['DimensionReferrals_Parsed'].agg('mean') * 100)\n",
    "\n",
    "crc_dim_df['Frequency'] = crc_dim_vals"
   ]
  },
  {
   "cell_type": "code",
   "execution_count": 68,
   "metadata": {},
   "outputs": [
    {
     "data": {
      "text/html": [
       "<div>\n",
       "<style scoped>\n",
       "    .dataframe tbody tr th:only-of-type {\n",
       "        vertical-align: middle;\n",
       "    }\n",
       "\n",
       "    .dataframe tbody tr th {\n",
       "        vertical-align: top;\n",
       "    }\n",
       "\n",
       "    .dataframe thead th {\n",
       "        text-align: right;\n",
       "    }\n",
       "</style>\n",
       "<table border=\"1\" class=\"dataframe\">\n",
       "  <thead>\n",
       "    <tr style=\"text-align: right;\">\n",
       "      <th></th>\n",
       "      <th>Dimension</th>\n",
       "      <th>Frequency</th>\n",
       "    </tr>\n",
       "  </thead>\n",
       "  <tbody>\n",
       "    <tr>\n",
       "      <th>0</th>\n",
       "      <td>Patient-Related</td>\n",
       "      <td>57.142857</td>\n",
       "    </tr>\n",
       "    <tr>\n",
       "      <th>1</th>\n",
       "      <td>Patient-Provider Encounter</td>\n",
       "      <td>39.285714</td>\n",
       "    </tr>\n",
       "    <tr>\n",
       "      <th>2</th>\n",
       "      <td>Diagnostic Tests</td>\n",
       "      <td>23.214286</td>\n",
       "    </tr>\n",
       "    <tr>\n",
       "      <th>3</th>\n",
       "      <td>Follow-Up and Tracking</td>\n",
       "      <td>35.714286</td>\n",
       "    </tr>\n",
       "    <tr>\n",
       "      <th>4</th>\n",
       "      <td>Referrals</td>\n",
       "      <td>0.000000</td>\n",
       "    </tr>\n",
       "  </tbody>\n",
       "</table>\n",
       "</div>"
      ],
      "text/plain": [
       "                    Dimension  Frequency\n",
       "0             Patient-Related  57.142857\n",
       "1  Patient-Provider Encounter  39.285714\n",
       "2            Diagnostic Tests  23.214286\n",
       "3      Follow-Up and Tracking  35.714286\n",
       "4                   Referrals   0.000000"
      ]
     },
     "execution_count": 68,
     "metadata": {},
     "output_type": "execute_result"
    }
   ],
   "source": [
    "crc_dim_df"
   ]
  },
  {
   "cell_type": "code",
   "execution_count": 69,
   "metadata": {
    "scrolled": false
   },
   "outputs": [
    {
     "data": {
      "text/plain": [
       "[None, None, None, None]"
      ]
     },
     "execution_count": 69,
     "metadata": {},
     "output_type": "execute_result"
    },
    {
     "data": {
      "image/png": "[encoded data removed]",
      "text/plain": [
       "<Figure size 720x360 with 1 Axes>"
      ]
     },
     "metadata": {
      "needs_background": "light"
     },
     "output_type": "display_data"
    }
   ],
   "source": [
    "lca_redf_plt = sns.histplot(data=both_dim_master, y='Dimension', hue='Cancer', multiple='dodge', stat='probability', shrink=0.80, common_norm=False)\n",
    "lca_redf_plt.axes.set_title(\"Diagnostic Process Dimensions\\nImplicated in Missed Opportunities (VA)\", fontsize=22)\n",
    "plt.ylabel (\"Dimension\", fontsize=18)\n",
    "plt.yticks (fontsize=16)\n",
    "plt.xlabel (\"Proportion of Reviewed MODs\", fontsize=18)\n",
    "plt.xticks (fontsize=16)\n",
    "plt.xlim ([0, 1])\n",
    "plt.setp(lca_redf_plt.get_legend().get_title(), fontsize=20)\n",
    "plt.setp(lca_redf_plt.get_legend().get_texts(), fontsize=18)"
   ]
  },
  {
   "cell_type": "code",
   "execution_count": 70,
   "metadata": {},
   "outputs": [
    {
     "data": {
      "text/plain": [
       "1    62\n",
       "2    28\n",
       "3     7\n",
       "4     2\n",
       "Name: Dimension, dtype: int64"
      ]
     },
     "execution_count": 70,
     "metadata": {},
     "output_type": "execute_result"
    }
   ],
   "source": [
    "both_dim_master.groupby('PatientSSN').agg('count')['Dimension'].value_counts()"
   ]
  },
  {
   "cell_type": "code",
   "execution_count": 71,
   "metadata": {},
   "outputs": [
    {
     "data": {
      "text/plain": [
       "1    31\n",
       "2     9\n",
       "3     3\n",
       "Name: Dimension, dtype: int64"
      ]
     },
     "execution_count": 71,
     "metadata": {},
     "output_type": "execute_result"
    }
   ],
   "source": [
    "both_dim_master[both_dim_master['Cancer'] == 'Lung'].groupby('PatientSSN').agg('count')['Dimension'].value_counts()"
   ]
  },
  {
   "cell_type": "code",
   "execution_count": 72,
   "metadata": {},
   "outputs": [
    {
     "data": {
      "text/plain": [
       "1    31\n",
       "2    19\n",
       "3     4\n",
       "4     2\n",
       "Name: Dimension, dtype: int64"
      ]
     },
     "execution_count": 72,
     "metadata": {},
     "output_type": "execute_result"
    }
   ],
   "source": [
    "both_dim_master[both_dim_master['Cancer'] == 'Colorectal'].groupby('PatientSSN').agg('count')['Dimension'].value_counts()"
   ]
  }
 ],
 "metadata": {
  "kernelspec": {
   "display_name": "Python 3",
   "language": "python",
   "name": "python3"
  },
  "language_info": {
   "codemirror_mode": {
    "name": "ipython",
    "version": 3
   },
   "file_extension": ".py",
   "mimetype": "text/x-python",
   "name": "python",
   "nbconvert_exporter": "python",
   "pygments_lexer": "ipython3",
   "version": "3.9.1"
  }
 },
 "nbformat": 4,
 "nbformat_minor": 5
}
