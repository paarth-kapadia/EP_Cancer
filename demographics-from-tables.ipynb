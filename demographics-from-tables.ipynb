{
 "cells": [
  {
   "cell_type": "markdown",
   "id": "resident-airfare",
   "metadata": {},
   "source": [
    "# Emergency Presentation analysis for paper"
   ]
  },
  {
   "cell_type": "code",
   "execution_count": 22,
   "id": "urban-choice",
   "metadata": {},
   "outputs": [],
   "source": [
    "import pyodbc\n",
    "import pandas as pd  # sure takes a long time"
   ]
  },
  {
   "cell_type": "markdown",
   "id": "periodic-moral",
   "metadata": {},
   "source": [
    "## SQL setup"
   ]
  },
  {
   "cell_type": "code",
   "execution_count": 28,
   "id": "younger-disease",
   "metadata": {},
   "outputs": [],
   "source": [
    "conn = pyodbc.connect(\"DRIVER={SQL Server};SERVER=VHACDWRB03;DATABASE=ORD_Singh_202001030D\")\n",
    "\n",
    "# other stuff you can do with a connection but we won't\n",
    "# cursor = conn.cursor()\n",
    "# cursor.description  # gives you column names\n",
    "# cursor.execute(sql)\n",
    "#for i, row in enumerate(cursor):\n",
    "#    if i < 20:\n",
    "#        print(row)\n",
    "# conn.close()"
   ]
  },
  {
   "cell_type": "markdown",
   "id": "small-determination",
   "metadata": {},
   "source": [
    "## Pandas setup"
   ]
  },
  {
   "cell_type": "code",
   "execution_count": 139,
   "id": "enabling-tactics",
   "metadata": {
    "scrolled": true
   },
   "outputs": [],
   "source": [
    "crcd = \"Select * from dflt._ppko_crc_2019d_demographic_table\"\n",
    "colon_denom_df = pd.read_sql(sql=crcd, con=conn)\n",
    "crcn = \"Select * from dflt._ppko_crc_2019n_demographic_table\"\n",
    "colon_numer_df = pd.read_sql(sql=crcn, con=conn)\n",
    "\n",
    "# Fixme - do the SQL strings and reading in data better, w/ less repetition.\n",
    "# also use `with`"
   ]
  },
  {
   "cell_type": "code",
   "execution_count": 135,
   "id": "attractive-bottom",
   "metadata": {
    "scrolled": true
   },
   "outputs": [
    {
     "data": {
      "text/plain": [
       "(2375, 10)"
      ]
     },
     "execution_count": 135,
     "metadata": {},
     "output_type": "execute_result"
    }
   ],
   "source": [
    "ds = colon_denom_df.shape\n",
    "ds"
   ]
  },
  {
   "cell_type": "code",
   "execution_count": 136,
   "id": "cooperative-funds",
   "metadata": {
    "scrolled": true
   },
   "outputs": [
    {
     "data": {
      "text/plain": [
       "(572, 13)"
      ]
     },
     "execution_count": 136,
     "metadata": {},
     "output_type": "execute_result"
    }
   ],
   "source": [
    "colon_numer_df.shape  # Extra cols: EmergencyEventDate, EmergencyEventLocation, TypeOfEmergencyEvent"
   ]
  },
  {
   "cell_type": "code",
   "execution_count": 138,
   "id": "opposite-modeling",
   "metadata": {},
   "outputs": [],
   "source": [
    "cols_in_numer_only = ['PatientSSN', 'EmergencyEventDate', 'EmergencyEventLocation', 'TypeOfEmergencyEvent']\n",
    "colon_numer_df_4col = colon_numer_df[cols_in_numer_only]\n",
    "joined = pd.merge(colon_numer_df_4col, colon_denom_df, how='outer', on='PatientSSN').drop_duplicates()\n",
    "# not clear why I need to drop duplicates, but I do\n",
    "js = joined.shape\n",
    "js\n",
    "assert js[0] == ds[0]  # Number of rows in denom should not change after join."
   ]
  },
  {
   "cell_type": "markdown",
   "id": "joint-watch",
   "metadata": {},
   "source": [
    "# Analysis (colon)"
   ]
  },
  {
   "cell_type": "markdown",
   "id": "endless-wrong",
   "metadata": {},
   "source": [
    "## Age (flagged, not flagged, all)"
   ]
  },
  {
   "cell_type": "code",
   "execution_count": 142,
   "id": "british-sandwich",
   "metadata": {
    "scrolled": false
   },
   "outputs": [
    {
     "data": {
      "text/html": [
       "<div>\n",
       "<style scoped>\n",
       "    .dataframe tbody tr th:only-of-type {\n",
       "        vertical-align: middle;\n",
       "    }\n",
       "\n",
       "    .dataframe tbody tr th {\n",
       "        vertical-align: top;\n",
       "    }\n",
       "\n",
       "    .dataframe thead th {\n",
       "        text-align: right;\n",
       "    }\n",
       "</style>\n",
       "<table border=\"1\" class=\"dataframe\">\n",
       "  <thead>\n",
       "    <tr style=\"text-align: right;\">\n",
       "      <th></th>\n",
       "      <th>PatientAge</th>\n",
       "    </tr>\n",
       "  </thead>\n",
       "  <tbody>\n",
       "    <tr>\n",
       "      <th>count</th>\n",
       "      <td>572.000000</td>\n",
       "    </tr>\n",
       "    <tr>\n",
       "      <th>mean</th>\n",
       "      <td>71.173077</td>\n",
       "    </tr>\n",
       "    <tr>\n",
       "      <th>std</th>\n",
       "      <td>12.161196</td>\n",
       "    </tr>\n",
       "    <tr>\n",
       "      <th>min</th>\n",
       "      <td>30.000000</td>\n",
       "    </tr>\n",
       "    <tr>\n",
       "      <th>25%</th>\n",
       "      <td>64.000000</td>\n",
       "    </tr>\n",
       "    <tr>\n",
       "      <th>50%</th>\n",
       "      <td>72.000000</td>\n",
       "    </tr>\n",
       "    <tr>\n",
       "      <th>75%</th>\n",
       "      <td>80.000000</td>\n",
       "    </tr>\n",
       "    <tr>\n",
       "      <th>max</th>\n",
       "      <td>97.000000</td>\n",
       "    </tr>\n",
       "  </tbody>\n",
       "</table>\n",
       "</div>"
      ],
      "text/plain": [
       "       PatientAge\n",
       "count  572.000000\n",
       "mean    71.173077\n",
       "std     12.161196\n",
       "min     30.000000\n",
       "25%     64.000000\n",
       "50%     72.000000\n",
       "75%     80.000000\n",
       "max     97.000000"
      ]
     },
     "execution_count": 142,
     "metadata": {},
     "output_type": "execute_result"
    }
   ],
   "source": [
    "joined[pd.notnull(joined['EmergencyEventDate'])].describe()"
   ]
  },
  {
   "cell_type": "code",
   "execution_count": 143,
   "id": "jewish-attachment",
   "metadata": {},
   "outputs": [
    {
     "data": {
      "text/html": [
       "<div>\n",
       "<style scoped>\n",
       "    .dataframe tbody tr th:only-of-type {\n",
       "        vertical-align: middle;\n",
       "    }\n",
       "\n",
       "    .dataframe tbody tr th {\n",
       "        vertical-align: top;\n",
       "    }\n",
       "\n",
       "    .dataframe thead th {\n",
       "        text-align: right;\n",
       "    }\n",
       "</style>\n",
       "<table border=\"1\" class=\"dataframe\">\n",
       "  <thead>\n",
       "    <tr style=\"text-align: right;\">\n",
       "      <th></th>\n",
       "      <th>PatientAge</th>\n",
       "    </tr>\n",
       "  </thead>\n",
       "  <tbody>\n",
       "    <tr>\n",
       "      <th>count</th>\n",
       "      <td>1803.000000</td>\n",
       "    </tr>\n",
       "    <tr>\n",
       "      <th>mean</th>\n",
       "      <td>68.943428</td>\n",
       "    </tr>\n",
       "    <tr>\n",
       "      <th>std</th>\n",
       "      <td>10.445998</td>\n",
       "    </tr>\n",
       "    <tr>\n",
       "      <th>min</th>\n",
       "      <td>33.000000</td>\n",
       "    </tr>\n",
       "    <tr>\n",
       "      <th>25%</th>\n",
       "      <td>63.000000</td>\n",
       "    </tr>\n",
       "    <tr>\n",
       "      <th>50%</th>\n",
       "      <td>70.000000</td>\n",
       "    </tr>\n",
       "    <tr>\n",
       "      <th>75%</th>\n",
       "      <td>75.000000</td>\n",
       "    </tr>\n",
       "    <tr>\n",
       "      <th>max</th>\n",
       "      <td>98.000000</td>\n",
       "    </tr>\n",
       "  </tbody>\n",
       "</table>\n",
       "</div>"
      ],
      "text/plain": [
       "        PatientAge\n",
       "count  1803.000000\n",
       "mean     68.943428\n",
       "std      10.445998\n",
       "min      33.000000\n",
       "25%      63.000000\n",
       "50%      70.000000\n",
       "75%      75.000000\n",
       "max      98.000000"
      ]
     },
     "execution_count": 143,
     "metadata": {},
     "output_type": "execute_result"
    }
   ],
   "source": [
    "joined[pd.isnull(joined['EmergencyEventDate'])].describe()"
   ]
  },
  {
   "cell_type": "code",
   "execution_count": 144,
   "id": "grand-lunch",
   "metadata": {
    "scrolled": false
   },
   "outputs": [
    {
     "data": {
      "text/html": [
       "<div>\n",
       "<style scoped>\n",
       "    .dataframe tbody tr th:only-of-type {\n",
       "        vertical-align: middle;\n",
       "    }\n",
       "\n",
       "    .dataframe tbody tr th {\n",
       "        vertical-align: top;\n",
       "    }\n",
       "\n",
       "    .dataframe thead th {\n",
       "        text-align: right;\n",
       "    }\n",
       "</style>\n",
       "<table border=\"1\" class=\"dataframe\">\n",
       "  <thead>\n",
       "    <tr style=\"text-align: right;\">\n",
       "      <th></th>\n",
       "      <th>PatientAge</th>\n",
       "    </tr>\n",
       "  </thead>\n",
       "  <tbody>\n",
       "    <tr>\n",
       "      <th>count</th>\n",
       "      <td>2375.000000</td>\n",
       "    </tr>\n",
       "    <tr>\n",
       "      <th>mean</th>\n",
       "      <td>69.480421</td>\n",
       "    </tr>\n",
       "    <tr>\n",
       "      <th>std</th>\n",
       "      <td>10.922852</td>\n",
       "    </tr>\n",
       "    <tr>\n",
       "      <th>min</th>\n",
       "      <td>30.000000</td>\n",
       "    </tr>\n",
       "    <tr>\n",
       "      <th>25%</th>\n",
       "      <td>63.000000</td>\n",
       "    </tr>\n",
       "    <tr>\n",
       "      <th>50%</th>\n",
       "      <td>71.000000</td>\n",
       "    </tr>\n",
       "    <tr>\n",
       "      <th>75%</th>\n",
       "      <td>76.000000</td>\n",
       "    </tr>\n",
       "    <tr>\n",
       "      <th>max</th>\n",
       "      <td>98.000000</td>\n",
       "    </tr>\n",
       "  </tbody>\n",
       "</table>\n",
       "</div>"
      ],
      "text/plain": [
       "        PatientAge\n",
       "count  2375.000000\n",
       "mean     69.480421\n",
       "std      10.922852\n",
       "min      30.000000\n",
       "25%      63.000000\n",
       "50%      71.000000\n",
       "75%      76.000000\n",
       "max      98.000000"
      ]
     },
     "execution_count": 144,
     "metadata": {},
     "output_type": "execute_result"
    }
   ],
   "source": [
    "joined.describe()"
   ]
  },
  {
   "cell_type": "markdown",
   "id": "accessible-distance",
   "metadata": {},
   "source": [
    "## Categorical (flagged, not flagged, all)"
   ]
  },
  {
   "cell_type": "code",
   "execution_count": 148,
   "id": "modified-chain",
   "metadata": {
    "scrolled": true
   },
   "outputs": [
    {
     "data": {
      "text/plain": [
       "IV         74\n",
       "III        58\n",
       "II         49\n",
       "I          37\n",
       "Unk/Uns    25\n",
       "0          10\n",
       "NA          3\n",
       "Name: StageOfCancer, dtype: int64"
      ]
     },
     "metadata": {},
     "output_type": "display_data"
    },
    {
     "data": {
      "text/plain": [
       "M    548\n",
       "F     24\n",
       "Name: PatientSex, dtype: int64"
      ]
     },
     "metadata": {},
     "output_type": "display_data"
    },
    {
     "data": {
      "text/plain": [
       "WHITE, NOT HISPANIC    392\n",
       "BLACK                  113\n",
       "HISPANIC                41\n",
       "OTHER                   26\n",
       "Name: PatientRace, dtype: int64"
      ]
     },
     "metadata": {},
     "output_type": "display_data"
    },
    {
     "name": "stdout",
     "output_type": "stream",
     "text": [
      "----\n",
      "\n",
      "\n",
      "\n"
     ]
    },
    {
     "data": {
      "text/plain": [
       "I          210\n",
       "III        173\n",
       "II         135\n",
       "IV         112\n",
       "Unk/Uns     58\n",
       "0           55\n",
       "NA          10\n",
       "Name: StageOfCancer, dtype: int64"
      ]
     },
     "metadata": {},
     "output_type": "display_data"
    },
    {
     "data": {
      "text/plain": [
       "M    1715\n",
       "F      88\n",
       "Name: PatientSex, dtype: int64"
      ]
     },
     "metadata": {},
     "output_type": "display_data"
    },
    {
     "data": {
      "text/plain": [
       "WHITE, NOT HISPANIC    1227\n",
       "BLACK                   381\n",
       "HISPANIC                107\n",
       "OTHER                    88\n",
       "Name: PatientRace, dtype: int64"
      ]
     },
     "metadata": {},
     "output_type": "display_data"
    },
    {
     "name": "stdout",
     "output_type": "stream",
     "text": [
      "----\n",
      "\n",
      "\n",
      "\n"
     ]
    },
    {
     "data": {
      "text/plain": [
       "I          247\n",
       "III        231\n",
       "IV         186\n",
       "II         184\n",
       "Unk/Uns     83\n",
       "0           65\n",
       "NA          13\n",
       "Name: StageOfCancer, dtype: int64"
      ]
     },
     "metadata": {},
     "output_type": "display_data"
    },
    {
     "data": {
      "text/plain": [
       "M    2263\n",
       "F     112\n",
       "Name: PatientSex, dtype: int64"
      ]
     },
     "metadata": {},
     "output_type": "display_data"
    },
    {
     "data": {
      "text/plain": [
       "WHITE, NOT HISPANIC    1619\n",
       "BLACK                   494\n",
       "HISPANIC                148\n",
       "OTHER                   114\n",
       "Name: PatientRace, dtype: int64"
      ]
     },
     "metadata": {},
     "output_type": "display_data"
    },
    {
     "name": "stdout",
     "output_type": "stream",
     "text": [
      "----\n",
      "\n",
      "\n",
      "\n"
     ]
    }
   ],
   "source": [
    "categorical_vars = [\n",
    "    #'PatientSSN',\n",
    "    #'DiagnosticEventDateTime',\n",
    "    #'DiagnosisEventLocation',\n",
    "    #'TypeOfCancer',\n",
    "    'StageOfCancer',\n",
    "    #'TypeOfDiagnosisEvent',\n",
    "    #'DeathDateTime',\n",
    "    'PatientSex',\n",
    "    #'PatientAge',\n",
    "    'PatientRace'\n",
    "]\n",
    "\n",
    "for df in [joined[pd.notnull(joined['EmergencyEventDate'])],\n",
    "          joined[pd.isnull(joined['EmergencyEventDate'])],\n",
    "          joined]:\n",
    "    for v in categorical_vars:\n",
    "        display(df[v].value_counts())\n",
    "    print('----\\n\\n\\n')"
   ]
  }
 ],
 "metadata": {
  "kernelspec": {
   "display_name": "Python 3",
   "language": "python",
   "name": "python3"
  },
  "language_info": {
   "codemirror_mode": {
    "name": "ipython",
    "version": 3
   },
   "file_extension": ".py",
   "mimetype": "text/x-python",
   "name": "python",
   "nbconvert_exporter": "python",
   "pygments_lexer": "ipython3",
   "version": "3.9.1"
  }
 },
 "nbformat": 4,
 "nbformat_minor": 5
}
