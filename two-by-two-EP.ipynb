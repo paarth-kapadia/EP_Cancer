{
 "cells": [
  {
   "cell_type": "markdown",
   "metadata": {},
   "source": [
    "## Imports"
   ]
  },
  {
   "cell_type": "code",
   "execution_count": 2,
   "metadata": {},
   "outputs": [],
   "source": [
    "import math\n",
    "import numpy as np\n",
    "import pandas as pd\n",
    "\n",
    "#from lifelines import KaplanMeierFitter\n",
    "#from lifelines import CoxPHFitter\n",
    "#from lifelines.statistics import logrank_test\n",
    "\n",
    "from datetime import datetime, timedelta\n",
    "import re\n",
    "\n",
    "import matplotlib.pyplot as plt\n",
    "import seaborn as sns"
   ]
  },
  {
   "cell_type": "code",
   "execution_count": 3,
   "metadata": {},
   "outputs": [],
   "source": [
    "pd.set_option('display.max_columns', 50)\n",
    "pd.set_option('display.max_rows', 100)\n",
    "\n",
    "%matplotlib inline\n",
    "plt.rcParams['figure.figsize'] = [10, 5]\n",
    "plt.rc('xtick', labelsize=10) \n",
    "plt.rc('ytick', labelsize=10)"
   ]
  },
  {
   "cell_type": "markdown",
   "metadata": {},
   "source": [
    "## Input"
   ]
  },
  {
   "cell_type": "code",
   "execution_count": 68,
   "metadata": {},
   "outputs": [],
   "source": [
    "python_code_path = 'P:/ORD_Singh_202001030D/Moore Measures 2&3 Code/Python Code/'"
   ]
  },
  {
   "cell_type": "markdown",
   "metadata": {},
   "source": [
    "### MM2"
   ]
  },
  {
   "cell_type": "code",
   "execution_count": 69,
   "metadata": {},
   "outputs": [],
   "source": [
    "mm2_crc_df = pd.read_csv(python_code_path + 'Data/mm2_crc_merged.csv', engine='python')\n",
    "mm2_crc_df['StudyID'] = mm2_crc_df['ï»¿StudyID']\n",
    "mm2_crc_df = mm2_crc_df.drop('ï»¿StudyID', axis=1)"
   ]
  },
  {
   "cell_type": "code",
   "execution_count": 70,
   "metadata": {},
   "outputs": [],
   "source": [
    "mm2_lca_df = pd.read_csv('Data/mm2_lca_merged.csv', engine='python')\n",
    "mm2_lca_df['StudyID'] = mm2_lca_df['ï»¿StudyID']\n",
    "mm2_lca_df = mm2_lca_df.drop('ï»¿StudyID', axis=1)"
   ]
  },
  {
   "cell_type": "markdown",
   "metadata": {},
   "source": [
    "### MM3"
   ]
  },
  {
   "cell_type": "code",
   "execution_count": 71,
   "metadata": {},
   "outputs": [],
   "source": [
    "mm3_crc_df = pd.read_csv('Data/mm3_crc_merged.csv', engine='python')\n",
    "mm3_crc_df['StudyID'] = mm3_crc_df['ï»¿StudyID']\n",
    "mm3_crc_df = mm3_crc_df.drop('ï»¿StudyID', axis=1)"
   ]
  },
  {
   "cell_type": "code",
   "execution_count": 72,
   "metadata": {},
   "outputs": [],
   "source": [
    "mm3_lca_df = pd.read_csv('Data/mm3_lca_merged.csv', engine='python')\n",
    "mm3_lca_df['StudyID'] = mm3_lca_df['ï»¿StudyID']\n",
    "mm3_lca_df = mm3_lca_df.drop('ï»¿StudyID', axis=1)"
   ]
  },
  {
   "cell_type": "markdown",
   "metadata": {},
   "source": [
    "## Data Prep"
   ]
  },
  {
   "cell_type": "markdown",
   "metadata": {},
   "source": [
    "### MM2"
   ]
  },
  {
   "cell_type": "code",
   "execution_count": 73,
   "metadata": {
    "scrolled": true
   },
   "outputs": [],
   "source": [
    "# true EPs are ones where reviewer says it is unplanned, is really first time cancer dx, and there is a cancer signal\n",
    "def is_true_EP (row):\n",
    "    if (row['UnplanVal'] == 'Yes' and row['DxVal'] == 'Yes' and not pd.isnull(row['RelSig'])):\n",
    "        return 1\n",
    "    else:\n",
    "        return 0"
   ]
  },
  {
   "cell_type": "code",
   "execution_count": 74,
   "metadata": {},
   "outputs": [],
   "source": [
    "def response_num_to_text (row):\n",
    "    if (row['RelRespNumerical'] == 1):\n",
    "        return 'No signal requiring f/u'\n",
    "    elif (row['RelRespNumerical'] == 2):\n",
    "        return 'Signal not recognized'\n",
    "    elif (row['RelRespNumerical'] == 3):\n",
    "        return 'Signal recognized, f/u not initiated'\n",
    "    elif (row['RelRespNumerical'] == 4):\n",
    "        return 'Signal recognized, OP f/u'\n",
    "    elif (row['RelRespNumerical'] == 5):\n",
    "        return 'Signal recognized, IP f/u'\n",
    "    elif (row['RelRespNumerical'] == 6):\n",
    "        return 'Other'\n",
    "    #else:\n",
    "        #return 'ERROR'"
   ]
  },
  {
   "cell_type": "code",
   "execution_count": 75,
   "metadata": {},
   "outputs": [],
   "source": [
    "def typeep_num_to_text (row):\n",
    "    if (row['TypeOfEP'] == 1):\n",
    "        return 'Dx within emergency event'\n",
    "    elif (row['TypeOfEP'] == 2):\n",
    "        return 'Cancer-related emergency -> Related subsequent encounter'\n",
    "    elif (row['TypeOfEP'] == 3):\n",
    "        return 'Non-cancer-related emergency -> Related subsequent encounter'\n",
    "    elif (row['TypeOfEP'] == 4):\n",
    "        return 'Non-cancer-related emergency -> Unrelated subsequent encounter'\n",
    "    elif (row['TypeOfEP'] == 5):\n",
    "        return 'Other'\n",
    "    #else:\n",
    "        #return 'ERROR'"
   ]
  },
  {
   "cell_type": "code",
   "execution_count": 76,
   "metadata": {},
   "outputs": [],
   "source": [
    "def parse_datetime1 (row, col):\n",
    "    try:\n",
    "        return datetime.strptime(row[col], '%m/%d/%Y')\n",
    "    except:\n",
    "        return None"
   ]
  },
  {
   "cell_type": "code",
   "execution_count": 77,
   "metadata": {},
   "outputs": [],
   "source": [
    "def parse_datetime2 (row, col):\n",
    "    try:\n",
    "        return datetime.strptime(str(row[col]), '%Y-%m-%d')\n",
    "    except:\n",
    "        return None"
   ]
  },
  {
   "cell_type": "code",
   "execution_count": 78,
   "metadata": {},
   "outputs": [],
   "source": [
    "def is_timedelta_within_threshold (row, col_later, col_earlier, threshold):\n",
    "    try:\n",
    "        delta = (row[col_later] - row[col_earlier]).days\n",
    "        if delta <= threshold:\n",
    "            return 1\n",
    "        else:\n",
    "            return 0\n",
    "    except:\n",
    "        return -1"
   ]
  },
  {
   "cell_type": "code",
   "execution_count": 79,
   "metadata": {},
   "outputs": [],
   "source": [
    "def parse_yesno_1 (row, col):\n",
    "    if (row[col] == 'Yes'):\n",
    "        return 1\n",
    "    else:\n",
    "        return 0"
   ]
  },
  {
   "cell_type": "code",
   "execution_count": 80,
   "metadata": {},
   "outputs": [],
   "source": [
    "def parse_01_1 (row, col):\n",
    "    if (row[col] == 1):\n",
    "        return 1\n",
    "    else:\n",
    "        return 0"
   ]
  },
  {
   "cell_type": "code",
   "execution_count": 81,
   "metadata": {},
   "outputs": [],
   "source": [
    "def check_not_null (row, col):\n",
    "    if not pd.isnull(row[col]):\n",
    "        return 1\n",
    "    else:\n",
    "        return 0"
   ]
  },
  {
   "cell_type": "code",
   "execution_count": 82,
   "metadata": {},
   "outputs": [],
   "source": [
    "# make columns for each individual signal for CRC\n",
    "def get_crc_sig_01 (row):\n",
    "    if ';' in str(row['RelSig']):\n",
    "        for x in str(row['RelSig']).split(';'):\n",
    "            if ('1' in str(x) and not '10' in str(x) and not '11' in str(x) and not '12' in str(x) and not '13' in str(x) and not '14' in str(x)):\n",
    "                return 1\n",
    "        return 0\n",
    "    else:\n",
    "        if ('1' in str(row['RelSig']) and not '10' in str(row['RelSig']) and not '11' in str(row['RelSig']) and not '12' in str(row['RelSig']) and not '13' in str(row['RelSig']) and not '14' in str(row['RelSig'])):\n",
    "            return 1\n",
    "        else:\n",
    "            return 0\n",
    "    \n",
    "def get_crc_sig_02 (row):\n",
    "    if ';' in str(row['RelSig']):\n",
    "        for x in str(row['RelSig']).split(';'):\n",
    "            if ('2' in str(x) and not '12' in str(x)):\n",
    "                return 1\n",
    "        return 0\n",
    "    else:\n",
    "        if ('2' in str(row['RelSig']) and not '12' in str(row['RelSig'])):\n",
    "            return 1\n",
    "        else:\n",
    "            return 0\n",
    "    \n",
    "def get_crc_sig_03 (row):\n",
    "    if ';' in str(row['RelSig']):\n",
    "        for x in str(row['RelSig']).split(';'):\n",
    "            if ('3' in str(x) and not '13' in str(x)):\n",
    "                return 1\n",
    "        return 0\n",
    "    else:\n",
    "        if ('3' in str(row['RelSig']) and not '13' in str(row['RelSig'])):\n",
    "            return 1\n",
    "        else:\n",
    "            return 0\n",
    "    \n",
    "def get_crc_sig_04 (row):\n",
    "    if ';' in str(row['RelSig']):\n",
    "        for x in str(row['RelSig']).split(';'):\n",
    "            if ('4' in str(x) and not '14' in str(x)):\n",
    "                return 1\n",
    "        return 0\n",
    "    else:\n",
    "        if ('4' in str(row['RelSig']) and not '14' in str(row['RelSig'])):\n",
    "            return 1\n",
    "        else:\n",
    "            return 0\n",
    "    \n",
    "def get_crc_sig_05 (row):\n",
    "    if ('5' in str(row['RelSig'])):\n",
    "        return 1\n",
    "    else:\n",
    "        return 0\n",
    "    \n",
    "def get_crc_sig_06 (row):\n",
    "    if ('6' in str(row['RelSig'])):\n",
    "        return 1\n",
    "    else:\n",
    "        return 0\n",
    "    \n",
    "def get_crc_sig_07 (row):\n",
    "    if ('7' in str(row['RelSig'])):\n",
    "        return 1\n",
    "    else:\n",
    "        return 0\n",
    "    \n",
    "def get_crc_sig_08 (row):\n",
    "    if ('8' in str(row['RelSig'])):\n",
    "        return 1\n",
    "    else:\n",
    "        return 0\n",
    "    \n",
    "def get_crc_sig_09 (row):\n",
    "    if ('9' in str(row['RelSig'])):\n",
    "        return 1\n",
    "    else:\n",
    "        return 0\n",
    "    \n",
    "def get_crc_sig_10 (row):\n",
    "    if ('10' in str(row['RelSig'])):\n",
    "        return 1\n",
    "    else:\n",
    "        return 0\n",
    "    \n",
    "def get_crc_sig_11 (row):\n",
    "    if ('11' in str(row['RelSig'])):\n",
    "        return 1\n",
    "    else:\n",
    "        return 0\n",
    "    \n",
    "def get_crc_sig_12 (row):\n",
    "    if ('12' in str(row['RelSig'])):\n",
    "        return 1\n",
    "    else:\n",
    "        return 0\n",
    "    \n",
    "def get_crc_sig_13 (row):\n",
    "    if ('13' in str(row['RelSig'])):\n",
    "        return 1\n",
    "    else:\n",
    "        return 0\n",
    "    \n",
    "def get_crc_sig_14 (row):\n",
    "    if ('14' in str(row['RelSig'])):\n",
    "        return 1\n",
    "    else:\n",
    "        return 0"
   ]
  },
  {
   "cell_type": "code",
   "execution_count": 83,
   "metadata": {},
   "outputs": [],
   "source": [
    "# make columns for each individual signal for LCa\n",
    "def get_lca_sig_01 (row):\n",
    "    if ';' in str(row['RelSig']):\n",
    "        for x in str(row['RelSig']).split(';'):\n",
    "            if ('1' in str(x) and not '10' in str(x) and not '11' in str(x) and not '12' in str(x) and not '13' in str(x) and not '14' in str(x)):\n",
    "                return 1\n",
    "        return 0\n",
    "    else:\n",
    "        if ('1' in str(row['RelSig']) and not '10' in str(row['RelSig']) and not '11' in str(row['RelSig']) and not '12' in str(row['RelSig']) and not '13' in str(row['RelSig']) and not '14' in str(row['RelSig'])):\n",
    "            return 1\n",
    "        else:\n",
    "            return 0\n",
    "    \n",
    "def get_lca_sig_02 (row):\n",
    "    if ('2' in str(row['RelSig'])):\n",
    "        return 1\n",
    "    else:\n",
    "        return 0\n",
    "    \n",
    "def get_lca_sig_03 (row):\n",
    "    if ('3' in str(row['RelSig'])):\n",
    "        return 1\n",
    "    else:\n",
    "        return 0\n",
    "    \n",
    "def get_lca_sig_04 (row):\n",
    "    if ('4' in str(row['RelSig'])):\n",
    "        return 1\n",
    "    else:\n",
    "        return 0\n",
    "    \n",
    "def get_lca_sig_05 (row):\n",
    "    if ('5' in str(row['RelSig'])):\n",
    "        return 1\n",
    "    else:\n",
    "        return 0\n",
    "    \n",
    "def get_lca_sig_06 (row):\n",
    "    if ('6' in str(row['RelSig'])):\n",
    "        return 1\n",
    "    else:\n",
    "        return 0\n",
    "    \n",
    "def get_lca_sig_07 (row):\n",
    "    if ('7' in str(row['RelSig'])):\n",
    "        return 1\n",
    "    else:\n",
    "        return 0\n",
    "    \n",
    "def get_lca_sig_08 (row):\n",
    "    if ('8' in str(row['RelSig'])):\n",
    "        return 1\n",
    "    else:\n",
    "        return 0\n",
    "    \n",
    "def get_lca_sig_09 (row):\n",
    "    if ('9' in str(row['RelSig'])):\n",
    "        return 1\n",
    "    else:\n",
    "        return 0\n",
    "    \n",
    "def get_lca_sig_10 (row):\n",
    "    if ('10' in str(row['RelSig'])):\n",
    "        return 1\n",
    "    else:\n",
    "        return 0"
   ]
  },
  {
   "cell_type": "code",
   "execution_count": 84,
   "metadata": {},
   "outputs": [],
   "source": [
    "mm2_crc_df['TrueEP'] = mm2_crc_df.apply(lambda row: is_true_EP(row), axis=1)\n",
    "mm2_lca_df['TrueEP'] = mm2_lca_df.apply(lambda row: is_true_EP(row), axis=1)"
   ]
  },
  {
   "cell_type": "code",
   "execution_count": 85,
   "metadata": {},
   "outputs": [],
   "source": [
    "mm2_crc_df['ResponseText'] = mm2_crc_df.apply(lambda row: response_num_to_text(row), axis=1)\n",
    "mm2_crc_df['ResponseText'] = pd.Categorical(mm2_crc_df['ResponseText'], categories=['No signal requiring f/u', 'Signal not recognized', 'Signal recognized, f/u not initiated', 'Signal recognized, OP f/u', 'Signal recognized, IP f/u', 'Other'], ordered=True)\n",
    "mm2_lca_df['ResponseText'] = mm2_lca_df.apply(lambda row: response_num_to_text(row), axis=1)\n",
    "mm2_lca_df['ResponseText'] = pd.Categorical(mm2_lca_df['ResponseText'], categories=['No signal requiring f/u', 'Signal not recognized', 'Signal recognized, f/u not initiated', 'Signal recognized, OP f/u', 'Signal recognized, IP f/u', 'Other'], ordered=True)"
   ]
  },
  {
   "cell_type": "code",
   "execution_count": 86,
   "metadata": {},
   "outputs": [],
   "source": [
    "mm2_crc_df['TypeEPText'] = mm2_crc_df.apply(lambda row: typeep_num_to_text(row), axis=1)\n",
    "mm2_crc_df['TypeEPText'] = pd.Categorical(mm2_crc_df['TypeEPText'], categories=['Dx within emergency event', 'Cancer-related emergency -> Related subsequent encounter', 'Non-cancer-related emergency -> Related subsequent encounter', 'Non-cancer-related emergency -> Unrelated subsequent encounter', 'Other'], ordered=True)\n",
    "mm2_lca_df['TypeEPText'] = mm2_lca_df.apply(lambda row: typeep_num_to_text(row), axis=1)\n",
    "mm2_lca_df['TypeEPText'] = pd.Categorical(mm2_lca_df['TypeEPText'], categories=['Dx within emergency event', 'Cancer-related emergency -> Related subsequent encounter', 'Non-cancer-related emergency -> Related subsequent encounter', 'Non-cancer-related emergency -> Unrelated subsequent encounter', 'Other'], ordered=True)"
   ]
  },
  {
   "cell_type": "code",
   "execution_count": 87,
   "metadata": {},
   "outputs": [],
   "source": [
    "mm2_crc_df['ScreeningTestDateTime'] = mm2_crc_df.apply(lambda row: parse_datetime1(row, 'DiagnosticTestDate'), axis=1)\n",
    "mm2_lca_df['ScreeningTestDateTime'] = mm2_lca_df.apply(lambda row: parse_datetime2(row, 'DiagnosticTestDate'), axis=1)\n",
    "mm2_crc_df['DiagnosisDateTime'] = mm2_crc_df.apply(lambda row: parse_datetime2(row, 'DiagnosticEventDateTime'), axis=1)\n",
    "mm2_lca_df['DiagnosisDateTime'] = mm2_lca_df.apply(lambda row: parse_datetime2(row, 'DiagnosticEventDateTime'), axis=1)\n",
    "\n",
    "mm2_crc_df['ScreeningUpToDate'] = mm2_crc_df.apply(lambda row: is_timedelta_within_threshold(row, 'DiagnosisDateTime', 'ScreeningTestDateTime', 3650), axis=1)\n",
    "mm2_lca_df['ScreeningUpToDate'] = mm2_lca_df.apply(lambda row: is_timedelta_within_threshold(row, 'DiagnosisDateTime', 'ScreeningTestDateTime', 3650), axis=1)"
   ]
  },
  {
   "cell_type": "code",
   "execution_count": 88,
   "metadata": {},
   "outputs": [],
   "source": [
    "mm2_crc_df['RFPriorToDx'] = mm2_crc_df.apply(lambda row: parse_yesno_1(row, 'RFYesNo'), axis=1)\n",
    "# lung cancer is already in 1 0 format\n",
    "mm2_lca_df['RFPriorToDx'] = mm2_lca_df.apply(lambda row: parse_01_1(row, 'RFYesNo'), axis=1)"
   ]
  },
  {
   "cell_type": "code",
   "execution_count": 89,
   "metadata": {},
   "outputs": [],
   "source": [
    "mm2_crc_df['HasMOD'] = mm2_crc_df.apply(lambda row: parse_yesno_1(row, 'DxMOD'), axis=1)\n",
    "# lung cancer is already in 1 0 format\n",
    "mm2_lca_df['HasMOD'] = mm2_lca_df.apply(lambda row: parse_01_1(row, 'DxMOD'), axis=1)"
   ]
  },
  {
   "cell_type": "code",
   "execution_count": 90,
   "metadata": {},
   "outputs": [],
   "source": [
    "mm2_crc_df['DimensionPtRelated_Parsed'] = mm2_crc_df.apply(lambda row: check_not_null(row, 'DimensionPtRelated'), axis=1)\n",
    "mm2_crc_df['DimensionPtProvEncounter_Parsed'] = mm2_crc_df.apply(lambda row: check_not_null(row, 'DimensionPtProvEncounter'), axis=1)\n",
    "mm2_crc_df['DimensionDxTests_Parsed'] = mm2_crc_df.apply(lambda row: check_not_null(row, 'DimensionDxTests'), axis=1)\n",
    "mm2_crc_df['DimensionFupTrack_Parsed'] = mm2_crc_df.apply(lambda row: check_not_null(row, 'DimensionFupTrack'), axis=1)\n",
    "mm2_crc_df['DimensionReferrals_Parsed'] = mm2_crc_df.apply(lambda row: check_not_null(row, 'DimensionReferrals'), axis=1)\n",
    "\n",
    "mm2_lca_df['DimensionPtRelated_Parsed'] = mm2_lca_df.apply(lambda row: check_not_null(row, 'DimensionPtRelated'), axis=1)\n",
    "mm2_lca_df['DimensionPtProvEncounter_Parsed'] = mm2_lca_df.apply(lambda row: check_not_null(row, 'DimensionPtProvEncounter'), axis=1)\n",
    "mm2_lca_df['DimensionDxTests_Parsed'] = mm2_lca_df.apply(lambda row: check_not_null(row, 'DimensionDxTests'), axis=1)\n",
    "mm2_lca_df['DimensionFupTrack_Parsed'] = mm2_lca_df.apply(lambda row: check_not_null(row, 'DimensionFupTrack'), axis=1)\n",
    "mm2_lca_df['DimensionReferrals_Parsed'] = mm2_lca_df.apply(lambda row: check_not_null(row, 'DimensionReferrals'), axis=1)"
   ]
  },
  {
   "cell_type": "code",
   "execution_count": 91,
   "metadata": {},
   "outputs": [],
   "source": [
    "mm2_crc_df['Signal_IDA'] = mm2_crc_df.apply(lambda row: get_crc_sig_01(row), axis=1)\n",
    "mm2_crc_df['Signal_Obstruction'] = mm2_crc_df.apply(lambda row: get_crc_sig_02(row), axis=1)\n",
    "mm2_crc_df['Signal_BloodyStool'] = mm2_crc_df.apply(lambda row: get_crc_sig_03(row), axis=1)\n",
    "mm2_crc_df['Signal_AbdMass'] = mm2_crc_df.apply(lambda row: get_crc_sig_04(row), axis=1)\n",
    "mm2_crc_df['Signal_RectMass'] = mm2_crc_df.apply(lambda row: get_crc_sig_05(row), axis=1)\n",
    "mm2_crc_df['Signal_StoolCaliber'] = mm2_crc_df.apply(lambda row: get_crc_sig_06(row), axis=1)\n",
    "mm2_crc_df['Signal_CScope'] = mm2_crc_df.apply(lambda row: get_crc_sig_07(row), axis=1)\n",
    "mm2_crc_df['Signal_FOBT'] = mm2_crc_df.apply(lambda row: get_crc_sig_08(row), axis=1)\n",
    "mm2_crc_df['Signal_FlexSig'] = mm2_crc_df.apply(lambda row: get_crc_sig_09(row), axis=1)\n",
    "mm2_crc_df['Signal_Enema'] = mm2_crc_df.apply(lambda row: get_crc_sig_10(row), axis=1)\n",
    "mm2_crc_df['Signal_CT'] = mm2_crc_df.apply(lambda row: get_crc_sig_11(row), axis=1)\n",
    "mm2_crc_df['Signal_FamHx'] = mm2_crc_df.apply(lambda row: get_crc_sig_12(row), axis=1)\n",
    "mm2_crc_df['Signal_MassExam'] = mm2_crc_df.apply(lambda row: get_crc_sig_13(row), axis=1)\n",
    "mm2_crc_df['Signal_Other'] = mm2_crc_df.apply(lambda row: get_crc_sig_14(row), axis=1)"
   ]
  },
  {
   "cell_type": "code",
   "execution_count": 92,
   "metadata": {},
   "outputs": [],
   "source": [
    "mm2_lca_df['Signal_Cough'] = mm2_lca_df.apply(lambda row: get_lca_sig_01(row), axis=1)\n",
    "mm2_lca_df['Signal_Dyspnea'] = mm2_lca_df.apply(lambda row: get_lca_sig_02(row), axis=1)\n",
    "mm2_lca_df['Signal_ChestPain'] = mm2_lca_df.apply(lambda row: get_lca_sig_03(row), axis=1)\n",
    "mm2_lca_df['Signal_Hemoptysis'] = mm2_lca_df.apply(lambda row: get_lca_sig_04(row), axis=1)\n",
    "mm2_lca_df['Signal_LRTI'] = mm2_lca_df.apply(lambda row: get_lca_sig_05(row), axis=1)\n",
    "mm2_lca_df['Signal_Imaging'] = mm2_lca_df.apply(lambda row: get_lca_sig_06(row), axis=1)\n",
    "mm2_lca_df['Signal_Paraneoplastic'] = mm2_lca_df.apply(lambda row: get_lca_sig_07(row), axis=1)\n",
    "mm2_lca_df['Signal_Hoarse'] = mm2_lca_df.apply(lambda row: get_lca_sig_08(row), axis=1)\n",
    "mm2_lca_df['Signal_WtLoss'] = mm2_lca_df.apply(lambda row: get_lca_sig_09(row), axis=1)\n",
    "mm2_lca_df['Signal_Other'] = mm2_lca_df.apply(lambda row: get_lca_sig_10(row), axis=1)"
   ]
  },
  {
   "cell_type": "code",
   "execution_count": 93,
   "metadata": {
    "scrolled": true
   },
   "outputs": [],
   "source": [
    "# mm2_crc_df[['RelSig', 'Signal_IDA', 'Signal_Obstruction', 'Signal_BloodyStool', 'Signal_AbdMass', 'Signal_RectMass', 'Signal_StoolCaliber', 'Signal_CScope', 'Signal_FOBT', 'Signal_FlexSig', 'Signal_Enema', 'Signal_CT', 'Signal_FamHx', 'Signal_MassExam', 'Signal_Other']]"
   ]
  },
  {
   "cell_type": "code",
   "execution_count": 94,
   "metadata": {},
   "outputs": [],
   "source": [
    "# mm2_lca_df[['RelSig', 'Signal_Cough', 'Signal_Dyspnea', 'Signal_ChestPain', 'Signal_Hemoptysis', 'Signal_LRTI', 'Signal_Imaging', 'Signal_Paraneoplastic', 'Signal_Hoarse', 'Signal_WtLoss', 'Signal_Other']]"
   ]
  },
  {
   "cell_type": "markdown",
   "metadata": {},
   "source": [
    "# AJZ\n",
    "\n",
    "Examine MM2 CRC df, and MM2 lca df. "
   ]
  },
  {
   "cell_type": "code",
   "execution_count": 95,
   "metadata": {
    "scrolled": true
   },
   "outputs": [
    {
     "name": "stdout",
     "output_type": "stream",
     "text": [
      "['CancerType', 'TypeOfEP', 'TypeOfEP_other', 'DxMOD', 'TypeOfCancer', 'TypeOfDiagnosisEvent', 'TypeOfEmergencyEvent', 'EP', 'TrueEP', 'TypeEPText', 'HasMOD']\n"
     ]
    }
   ],
   "source": [
    "hi_value_vars = []\n",
    "\n",
    "for line in list(mm2_crc_df):\n",
    "    if 'MOD' in line or 'Type' in line or 'True' in line or 'EP' in line:\n",
    "        hi_value_vars.append(line)\n",
    "\n",
    "print(hi_value_vars)"
   ]
  },
  {
   "cell_type": "markdown",
   "metadata": {},
   "source": [
    "## By inspection\n",
    "\n",
    "EP column is always 1.\n",
    "\n",
    "TypeOfEP is not what we're looking for.\n",
    "\n",
    "DxMOD is the one with \"NaN\" values."
   ]
  },
  {
   "cell_type": "code",
   "execution_count": 66,
   "metadata": {},
   "outputs": [
    {
     "data": {
      "text/plain": [
       "[22, 0, 0]"
      ]
     },
     "execution_count": 66,
     "metadata": {},
     "output_type": "execute_result"
    }
   ],
   "source": [
    "[\n",
    "    sum(mm2_crc_df['DxMOD'].isna()),\n",
    "    sum(mm2_crc_df['TrueEP'].isna()),\n",
    "    sum(mm2_crc_df['HasMOD'].isna())\n",
    "]"
   ]
  },
  {
   "cell_type": "code",
   "execution_count": 61,
   "metadata": {
    "scrolled": true
   },
   "outputs": [
    {
     "data": {
      "text/html": [
       "<div>\n",
       "<style scoped>\n",
       "    .dataframe tbody tr th:only-of-type {\n",
       "        vertical-align: middle;\n",
       "    }\n",
       "\n",
       "    .dataframe tbody tr th {\n",
       "        vertical-align: top;\n",
       "    }\n",
       "\n",
       "    .dataframe thead th {\n",
       "        text-align: right;\n",
       "    }\n",
       "</style>\n",
       "<table border=\"1\" class=\"dataframe\">\n",
       "  <thead>\n",
       "    <tr style=\"text-align: right;\">\n",
       "      <th>TrueEP</th>\n",
       "      <th>0</th>\n",
       "      <th>1</th>\n",
       "    </tr>\n",
       "    <tr>\n",
       "      <th>DxMOD</th>\n",
       "      <th></th>\n",
       "      <th></th>\n",
       "    </tr>\n",
       "  </thead>\n",
       "  <tbody>\n",
       "    <tr>\n",
       "      <th>No</th>\n",
       "      <td>1</td>\n",
       "      <td>21</td>\n",
       "    </tr>\n",
       "    <tr>\n",
       "      <th>Yes</th>\n",
       "      <td>5</td>\n",
       "      <td>51</td>\n",
       "    </tr>\n",
       "    <tr>\n",
       "      <th>missing</th>\n",
       "      <td>21</td>\n",
       "      <td>1</td>\n",
       "    </tr>\n",
       "  </tbody>\n",
       "</table>\n",
       "</div>"
      ],
      "text/plain": [
       "TrueEP    0   1\n",
       "DxMOD          \n",
       "No        1  21\n",
       "Yes       5  51\n",
       "missing  21   1"
      ]
     },
     "execution_count": 61,
     "metadata": {},
     "output_type": "execute_result"
    }
   ],
   "source": [
    "pd.crosstab(mm2_crc_df['DxMOD'].fillna('missing'), mm2_crc_df['TrueEP'])"
   ]
  },
  {
   "cell_type": "code",
   "execution_count": 62,
   "metadata": {
    "scrolled": true
   },
   "outputs": [
    {
     "data": {
      "text/html": [
       "<div>\n",
       "<style scoped>\n",
       "    .dataframe tbody tr th:only-of-type {\n",
       "        vertical-align: middle;\n",
       "    }\n",
       "\n",
       "    .dataframe tbody tr th {\n",
       "        vertical-align: top;\n",
       "    }\n",
       "\n",
       "    .dataframe thead th {\n",
       "        text-align: right;\n",
       "    }\n",
       "</style>\n",
       "<table border=\"1\" class=\"dataframe\">\n",
       "  <thead>\n",
       "    <tr style=\"text-align: right;\">\n",
       "      <th>HasMOD</th>\n",
       "      <th>0</th>\n",
       "      <th>1</th>\n",
       "    </tr>\n",
       "    <tr>\n",
       "      <th>DxMOD</th>\n",
       "      <th></th>\n",
       "      <th></th>\n",
       "    </tr>\n",
       "  </thead>\n",
       "  <tbody>\n",
       "    <tr>\n",
       "      <th>No</th>\n",
       "      <td>22</td>\n",
       "      <td>0</td>\n",
       "    </tr>\n",
       "    <tr>\n",
       "      <th>Yes</th>\n",
       "      <td>0</td>\n",
       "      <td>56</td>\n",
       "    </tr>\n",
       "    <tr>\n",
       "      <th>missing</th>\n",
       "      <td>22</td>\n",
       "      <td>0</td>\n",
       "    </tr>\n",
       "  </tbody>\n",
       "</table>\n",
       "</div>"
      ],
      "text/plain": [
       "HasMOD    0   1\n",
       "DxMOD          \n",
       "No       22   0\n",
       "Yes       0  56\n",
       "missing  22   0"
      ]
     },
     "execution_count": 62,
     "metadata": {},
     "output_type": "execute_result"
    }
   ],
   "source": [
    "pd.crosstab(mm2_crc_df['DxMOD'].fillna('missing'), mm2_crc_df['HasMOD'] )"
   ]
  },
  {
   "cell_type": "code",
   "execution_count": 67,
   "metadata": {},
   "outputs": [
    {
     "data": {
      "text/html": [
       "<div>\n",
       "<style scoped>\n",
       "    .dataframe tbody tr th:only-of-type {\n",
       "        vertical-align: middle;\n",
       "    }\n",
       "\n",
       "    .dataframe tbody tr th {\n",
       "        vertical-align: top;\n",
       "    }\n",
       "\n",
       "    .dataframe thead th {\n",
       "        text-align: right;\n",
       "    }\n",
       "</style>\n",
       "<table border=\"1\" class=\"dataframe\">\n",
       "  <thead>\n",
       "    <tr style=\"text-align: right;\">\n",
       "      <th>HasMOD</th>\n",
       "      <th>0</th>\n",
       "      <th>1</th>\n",
       "    </tr>\n",
       "    <tr>\n",
       "      <th>TrueEP</th>\n",
       "      <th></th>\n",
       "      <th></th>\n",
       "    </tr>\n",
       "  </thead>\n",
       "  <tbody>\n",
       "    <tr>\n",
       "      <th>0</th>\n",
       "      <td>22</td>\n",
       "      <td>5</td>\n",
       "    </tr>\n",
       "    <tr>\n",
       "      <th>1</th>\n",
       "      <td>22</td>\n",
       "      <td>51</td>\n",
       "    </tr>\n",
       "  </tbody>\n",
       "</table>\n",
       "</div>"
      ],
      "text/plain": [
       "HasMOD   0   1\n",
       "TrueEP        \n",
       "0       22   5\n",
       "1       22  51"
      ]
     },
     "execution_count": 67,
     "metadata": {},
     "output_type": "execute_result"
    }
   ],
   "source": [
    "pd.crosstab(mm2_crc_df['TrueEP'], mm2_crc_df['HasMOD'])"
   ]
  }
 ],
 "metadata": {
  "kernelspec": {
   "display_name": "Python 3",
   "language": "python",
   "name": "python3"
  }
 },
 "nbformat": 4,
 "nbformat_minor": 4
}
